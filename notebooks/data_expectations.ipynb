{
 "cells": [
  {
   "cell_type": "code",
   "outputs": [
    {
     "name": "stdout",
     "output_type": "stream",
     "text": [
      "C:\\Users\\Bod\\PycharmProjects\\Sum2024MLOps\\notebooks\n",
      "C:\\Users\\Bod\\PycharmProjects\\Sum2024MLOps\n"
     ]
    }
   ],
   "source": [
    "import pandas as pd\n",
    "from great_expectations.data_context import FileDataContext\n",
    "import os\n",
    "\n",
    "print(os.getcwd())\n",
    "# leave to the directory one level up\n",
    "os.chdir(\"../\")\n",
    "\n",
    "print(os.getcwd())"
   ],
   "metadata": {
    "collapsed": false,
    "ExecuteTime": {
     "end_time": "2024-07-08T11:10:41.331648Z",
     "start_time": "2024-07-08T11:10:39.288665Z"
    }
   },
   "id": "5a891277e044ad9e",
   "execution_count": 1
  },
  {
   "cell_type": "code",
   "outputs": [],
   "source": [
    "relative_path = 'data/samples/sample.csv'\n",
    "df = pd.read_csv(relative_path)"
   ],
   "metadata": {
    "collapsed": false,
    "ExecuteTime": {
     "end_time": "2024-07-08T11:10:41.452373Z",
     "start_time": "2024-07-08T11:10:41.332655Z"
    }
   },
   "id": "2b1ecb25da4bdece",
   "execution_count": 2
  },
  {
   "cell_type": "code",
   "outputs": [
    {
     "data": {
      "text/plain": "   property_id  location_id  \\\n0     15829916         1483   \n1     15829917         1482   \n2     15829919         1482   \n3     15829920         1482   \n4     15829921         1482   \n\n                                            page_url property_type     price  \\\n0  https://www.zameen.com/Property/d_h_a_dha_phas...         House  70000000   \n1  https://www.zameen.com/Property/d_h_a_dha_phas...         House  75000000   \n2  https://www.zameen.com/Property/d_h_a_dha_phas...         House  75000000   \n3  https://www.zameen.com/Property/d_h_a_dha_phas...         House  72500000   \n4  https://www.zameen.com/Property/d_h_a_dha_phas...         House  80000000   \n\n      location     city province_name   latitude  longitude  baths      area  \\\n0  DHA Defence  Karachi         Sindh  24.805045  67.064323      6  16 Marla   \n1  DHA Defence  Karachi         Sindh  24.810265  67.043552      5   1 Kanal   \n2  DHA Defence  Karachi         Sindh  24.810265  67.043552      3   1 Kanal   \n3  DHA Defence  Karachi         Sindh  24.810265  67.043552      6   1 Kanal   \n4  DHA Defence  Karachi         Sindh  24.810265  67.043552      5   1 Kanal   \n\n    purpose  bedrooms  date_added         agency           agent Area Type  \\\n0  For Sale         6  05-06-2019  Parekh Estate  Noman Charakry     Marla   \n1  For Sale         5  05-06-2019  Parekh Estate  Noman Charakry     Kanal   \n2  For Sale         3  05-06-2019  Parekh Estate  Noman Charakry     Kanal   \n3  For Sale         6  05-06-2019  Parekh Estate  Noman Charakry     Kanal   \n4  For Sale         5  05-06-2019  Parekh Estate  Noman Charakry     Kanal   \n\n   Area Size Area Category  \n0       16.0   15-20 Marla  \n1        1.0     1-5 Kanal  \n2        1.0     1-5 Kanal  \n3        1.0     1-5 Kanal  \n4        1.0     1-5 Kanal  ",
      "text/html": "<div>\n<style scoped>\n    .dataframe tbody tr th:only-of-type {\n        vertical-align: middle;\n    }\n\n    .dataframe tbody tr th {\n        vertical-align: top;\n    }\n\n    .dataframe thead th {\n        text-align: right;\n    }\n</style>\n<table border=\"1\" class=\"dataframe\">\n  <thead>\n    <tr style=\"text-align: right;\">\n      <th></th>\n      <th>property_id</th>\n      <th>location_id</th>\n      <th>page_url</th>\n      <th>property_type</th>\n      <th>price</th>\n      <th>location</th>\n      <th>city</th>\n      <th>province_name</th>\n      <th>latitude</th>\n      <th>longitude</th>\n      <th>baths</th>\n      <th>area</th>\n      <th>purpose</th>\n      <th>bedrooms</th>\n      <th>date_added</th>\n      <th>agency</th>\n      <th>agent</th>\n      <th>Area Type</th>\n      <th>Area Size</th>\n      <th>Area Category</th>\n    </tr>\n  </thead>\n  <tbody>\n    <tr>\n      <th>0</th>\n      <td>15829916</td>\n      <td>1483</td>\n      <td>https://www.zameen.com/Property/d_h_a_dha_phas...</td>\n      <td>House</td>\n      <td>70000000</td>\n      <td>DHA Defence</td>\n      <td>Karachi</td>\n      <td>Sindh</td>\n      <td>24.805045</td>\n      <td>67.064323</td>\n      <td>6</td>\n      <td>16 Marla</td>\n      <td>For Sale</td>\n      <td>6</td>\n      <td>05-06-2019</td>\n      <td>Parekh Estate</td>\n      <td>Noman Charakry</td>\n      <td>Marla</td>\n      <td>16.0</td>\n      <td>15-20 Marla</td>\n    </tr>\n    <tr>\n      <th>1</th>\n      <td>15829917</td>\n      <td>1482</td>\n      <td>https://www.zameen.com/Property/d_h_a_dha_phas...</td>\n      <td>House</td>\n      <td>75000000</td>\n      <td>DHA Defence</td>\n      <td>Karachi</td>\n      <td>Sindh</td>\n      <td>24.810265</td>\n      <td>67.043552</td>\n      <td>5</td>\n      <td>1 Kanal</td>\n      <td>For Sale</td>\n      <td>5</td>\n      <td>05-06-2019</td>\n      <td>Parekh Estate</td>\n      <td>Noman Charakry</td>\n      <td>Kanal</td>\n      <td>1.0</td>\n      <td>1-5 Kanal</td>\n    </tr>\n    <tr>\n      <th>2</th>\n      <td>15829919</td>\n      <td>1482</td>\n      <td>https://www.zameen.com/Property/d_h_a_dha_phas...</td>\n      <td>House</td>\n      <td>75000000</td>\n      <td>DHA Defence</td>\n      <td>Karachi</td>\n      <td>Sindh</td>\n      <td>24.810265</td>\n      <td>67.043552</td>\n      <td>3</td>\n      <td>1 Kanal</td>\n      <td>For Sale</td>\n      <td>3</td>\n      <td>05-06-2019</td>\n      <td>Parekh Estate</td>\n      <td>Noman Charakry</td>\n      <td>Kanal</td>\n      <td>1.0</td>\n      <td>1-5 Kanal</td>\n    </tr>\n    <tr>\n      <th>3</th>\n      <td>15829920</td>\n      <td>1482</td>\n      <td>https://www.zameen.com/Property/d_h_a_dha_phas...</td>\n      <td>House</td>\n      <td>72500000</td>\n      <td>DHA Defence</td>\n      <td>Karachi</td>\n      <td>Sindh</td>\n      <td>24.810265</td>\n      <td>67.043552</td>\n      <td>6</td>\n      <td>1 Kanal</td>\n      <td>For Sale</td>\n      <td>6</td>\n      <td>05-06-2019</td>\n      <td>Parekh Estate</td>\n      <td>Noman Charakry</td>\n      <td>Kanal</td>\n      <td>1.0</td>\n      <td>1-5 Kanal</td>\n    </tr>\n    <tr>\n      <th>4</th>\n      <td>15829921</td>\n      <td>1482</td>\n      <td>https://www.zameen.com/Property/d_h_a_dha_phas...</td>\n      <td>House</td>\n      <td>80000000</td>\n      <td>DHA Defence</td>\n      <td>Karachi</td>\n      <td>Sindh</td>\n      <td>24.810265</td>\n      <td>67.043552</td>\n      <td>5</td>\n      <td>1 Kanal</td>\n      <td>For Sale</td>\n      <td>5</td>\n      <td>05-06-2019</td>\n      <td>Parekh Estate</td>\n      <td>Noman Charakry</td>\n      <td>Kanal</td>\n      <td>1.0</td>\n      <td>1-5 Kanal</td>\n    </tr>\n  </tbody>\n</table>\n</div>"
     },
     "execution_count": 3,
     "metadata": {},
     "output_type": "execute_result"
    }
   ],
   "source": [
    "df.head()"
   ],
   "metadata": {
    "collapsed": false,
    "ExecuteTime": {
     "end_time": "2024-07-08T11:10:41.466816Z",
     "start_time": "2024-07-08T11:10:41.453379Z"
    }
   },
   "id": "b49d1a900a809de2",
   "execution_count": 3
  },
  {
   "cell_type": "code",
   "outputs": [
    {
     "data": {
      "text/plain": "<Axes: >"
     },
     "execution_count": 4,
     "metadata": {},
     "output_type": "execute_result"
    },
    {
     "data": {
      "text/plain": "<Figure size 640x480 with 1 Axes>",
      "image/png": "[encoded data removed]"
     },
     "metadata": {},
     "output_type": "display_data"
    }
   ],
   "source": [
    "df['Area Size'].hist(bins=100)"
   ],
   "metadata": {
    "collapsed": false,
    "ExecuteTime": {
     "end_time": "2024-07-08T11:10:42.013101Z",
     "start_time": "2024-07-08T11:10:41.467827Z"
    }
   },
   "id": "97a152fd894eba86",
   "execution_count": 4
  },
  {
   "cell_type": "code",
   "outputs": [
    {
     "data": {
      "text/plain": "(21025884.421472885,\n 0,\n 2200000.0,\n 10000000.0,\n 23500000.0,\n 2000000000,\n 40784935.05001422)"
     },
     "execution_count": 5,
     "metadata": {},
     "output_type": "execute_result"
    }
   ],
   "source": [
    "# calculate mean and max of the price\n",
    "min_price = df['price'].min()\n",
    "price_25 = df['price'].quantile(0.25)\n",
    "mean_price = df['price'].mean()\n",
    "median_price = df['price'].median()\n",
    "price_75 = df['price'].quantile(0.75)\n",
    "max_price = df['price'].max()\n",
    "std_dev_price = df['price'].std()\n",
    "mean_price, min_price, price_25, median_price, price_75, max_price, std_dev_price"
   ],
   "metadata": {
    "collapsed": false,
    "ExecuteTime": {
     "end_time": "2024-07-08T11:10:42.020788Z",
     "start_time": "2024-07-08T11:10:42.014108Z"
    }
   },
   "id": "8dcf97336c402e20",
   "execution_count": 5
  },
  {
   "cell_type": "code",
   "outputs": [
    {
     "name": "stdout",
     "output_type": "stream",
     "text": [
      "0.0 300.0\n"
     ]
    }
   ],
   "source": [
    "min_area = df['Area Size'].min()\n",
    "max_area = df['Area Size'].max()\n",
    "print(round(min_area, 5), max_area)"
   ],
   "metadata": {
    "collapsed": false,
    "ExecuteTime": {
     "end_time": "2024-07-08T11:10:42.026031Z",
     "start_time": "2024-07-08T11:10:42.021796Z"
    }
   },
   "id": "3d157ad70468c04",
   "execution_count": 6
  },
  {
   "cell_type": "code",
   "outputs": [
    {
     "data": {
      "text/plain": "(0, 13, 0, 18)"
     },
     "execution_count": 7,
     "metadata": {},
     "output_type": "execute_result"
    }
   ],
   "source": [
    "min_baths = df['baths'].min()\n",
    "max_baths = df['baths'].max()\n",
    "min_bedrooms = df['bedrooms'].min()\n",
    "max_bedrooms = df['bedrooms'].max()\n",
    "min_baths, max_baths, min_bedrooms, max_bedrooms"
   ],
   "metadata": {
    "collapsed": false,
    "ExecuteTime": {
     "end_time": "2024-07-08T11:10:42.031661Z",
     "start_time": "2024-07-08T11:10:42.026613Z"
    }
   },
   "id": "87326527ec448e66",
   "execution_count": 7
  },
  {
   "cell_type": "code",
   "outputs": [
    {
     "data": {
      "text/plain": "       property_id  location_id  \\\n12373     14619957         3965   \n\n                                                page_url property_type  \\\n12373  https://www.zameen.com/Property/johar_town_pha...         House   \n\n          price    location    city province_name   latitude  longitude  \\\n12373  12500000  Johar Town  Lahore        Punjab  31.474097  74.263802   \n\n       baths     area   purpose  bedrooms  date_added  \\\n12373      5  0 Marla  For Sale         5  06-11-2019   \n\n                               agency        agent Area Type  Area Size  \\\n12373  Siddique Associates & Builders  Hamza Malik     Marla        0.0   \n\n      Area Category  \n12373     0-5 Marla  ",
      "text/html": "<div>\n<style scoped>\n    .dataframe tbody tr th:only-of-type {\n        vertical-align: middle;\n    }\n\n    .dataframe tbody tr th {\n        vertical-align: top;\n    }\n\n    .dataframe thead th {\n        text-align: right;\n    }\n</style>\n<table border=\"1\" class=\"dataframe\">\n  <thead>\n    <tr style=\"text-align: right;\">\n      <th></th>\n      <th>property_id</th>\n      <th>location_id</th>\n      <th>page_url</th>\n      <th>property_type</th>\n      <th>price</th>\n      <th>location</th>\n      <th>city</th>\n      <th>province_name</th>\n      <th>latitude</th>\n      <th>longitude</th>\n      <th>baths</th>\n      <th>area</th>\n      <th>purpose</th>\n      <th>bedrooms</th>\n      <th>date_added</th>\n      <th>agency</th>\n      <th>agent</th>\n      <th>Area Type</th>\n      <th>Area Size</th>\n      <th>Area Category</th>\n    </tr>\n  </thead>\n  <tbody>\n    <tr>\n      <th>12373</th>\n      <td>14619957</td>\n      <td>3965</td>\n      <td>https://www.zameen.com/Property/johar_town_pha...</td>\n      <td>House</td>\n      <td>12500000</td>\n      <td>Johar Town</td>\n      <td>Lahore</td>\n      <td>Punjab</td>\n      <td>31.474097</td>\n      <td>74.263802</td>\n      <td>5</td>\n      <td>0 Marla</td>\n      <td>For Sale</td>\n      <td>5</td>\n      <td>06-11-2019</td>\n      <td>Siddique Associates &amp; Builders</td>\n      <td>Hamza Malik</td>\n      <td>Marla</td>\n      <td>0.0</td>\n      <td>0-5 Marla</td>\n    </tr>\n  </tbody>\n</table>\n</div>"
     },
     "execution_count": 8,
     "metadata": {},
     "output_type": "execute_result"
    }
   ],
   "source": [
    "# count number of 0 in Area Size\n",
    "df[df['Area Size'] == 0]\n"
   ],
   "metadata": {
    "collapsed": false,
    "ExecuteTime": {
     "end_time": "2024-07-08T11:10:42.041589Z",
     "start_time": "2024-07-08T11:10:42.032668Z"
    }
   },
   "id": "4ac66263f7d3a834",
   "execution_count": 8
  },
  {
   "cell_type": "code",
   "outputs": [
    {
     "data": {
      "text/plain": "(13.108136186885927, 13.108136186885927)"
     },
     "execution_count": 9,
     "metadata": {},
     "output_type": "execute_result"
    }
   ],
   "source": [
    "# count percentage of Null values in agency\n",
    "df['agency'].isnull().sum() / len(df) * 100, df['agent'].isnull().sum() / len(df) * 100"
   ],
   "metadata": {
    "collapsed": false,
    "ExecuteTime": {
     "end_time": "2024-07-08T11:10:42.047761Z",
     "start_time": "2024-07-08T11:10:42.042653Z"
    }
   },
   "id": "5ca9586ec2529b90",
   "execution_count": 9
  },
  {
   "cell_type": "code",
   "outputs": [
    {
     "data": {
      "text/plain": "<Axes: ylabel='Frequency'>"
     },
     "execution_count": 10,
     "metadata": {},
     "output_type": "execute_result"
    },
    {
     "data": {
      "text/plain": "<Figure size 640x480 with 1 Axes>",
      "image/png": "[encoded data removed]"
     },
     "metadata": {},
     "output_type": "display_data"
    }
   ],
   "source": [
    "# plot the price distribution\n",
    "df['price'].plot.hist(bins=100)"
   ],
   "metadata": {
    "collapsed": false,
    "ExecuteTime": {
     "end_time": "2024-07-08T11:10:42.205322Z",
     "start_time": "2024-07-08T11:10:42.049768Z"
    }
   },
   "id": "79a829617de95f21",
   "execution_count": 10
  },
  {
   "cell_type": "code",
   "outputs": [
    {
     "data": {
      "text/plain": "       property_id  location_id  \\\n30291     16786134        12395   \n\n                                                page_url property_type  price  \\\n30291  https://www.zameen.com/Property/karachi_gadap_...    Farm House      0   \n\n         location     city province_name   latitude  longitude  baths  \\\n30291  Gadap Road  Karachi         Sindh  25.053956  67.253365      0   \n\n          area   purpose  bedrooms  date_added                agency  \\\n30291  8 Kanal  For Sale         0  06-21-2019  Bin Anus Real Estate   \n\n                   agent Area Type  Area Size Area Category  \n30291  M. Humayun Jokhio     Kanal        8.0    5-10 Kanal  ",
      "text/html": "<div>\n<style scoped>\n    .dataframe tbody tr th:only-of-type {\n        vertical-align: middle;\n    }\n\n    .dataframe tbody tr th {\n        vertical-align: top;\n    }\n\n    .dataframe thead th {\n        text-align: right;\n    }\n</style>\n<table border=\"1\" class=\"dataframe\">\n  <thead>\n    <tr style=\"text-align: right;\">\n      <th></th>\n      <th>property_id</th>\n      <th>location_id</th>\n      <th>page_url</th>\n      <th>property_type</th>\n      <th>price</th>\n      <th>location</th>\n      <th>city</th>\n      <th>province_name</th>\n      <th>latitude</th>\n      <th>longitude</th>\n      <th>baths</th>\n      <th>area</th>\n      <th>purpose</th>\n      <th>bedrooms</th>\n      <th>date_added</th>\n      <th>agency</th>\n      <th>agent</th>\n      <th>Area Type</th>\n      <th>Area Size</th>\n      <th>Area Category</th>\n    </tr>\n  </thead>\n  <tbody>\n    <tr>\n      <th>30291</th>\n      <td>16786134</td>\n      <td>12395</td>\n      <td>https://www.zameen.com/Property/karachi_gadap_...</td>\n      <td>Farm House</td>\n      <td>0</td>\n      <td>Gadap Road</td>\n      <td>Karachi</td>\n      <td>Sindh</td>\n      <td>25.053956</td>\n      <td>67.253365</td>\n      <td>0</td>\n      <td>8 Kanal</td>\n      <td>For Sale</td>\n      <td>0</td>\n      <td>06-21-2019</td>\n      <td>Bin Anus Real Estate</td>\n      <td>M. Humayun Jokhio</td>\n      <td>Kanal</td>\n      <td>8.0</td>\n      <td>5-10 Kanal</td>\n    </tr>\n  </tbody>\n</table>\n</div>"
     },
     "execution_count": 11,
     "metadata": {},
     "output_type": "execute_result"
    }
   ],
   "source": [
    "# count number of price == 0\n",
    "df[df['price'] == 0]"
   ],
   "metadata": {
    "collapsed": false,
    "ExecuteTime": {
     "end_time": "2024-07-08T11:10:42.215373Z",
     "start_time": "2024-07-08T11:10:42.206332Z"
    }
   },
   "id": "7a76fe3c2daf022a",
   "execution_count": 11
  },
  {
   "cell_type": "code",
   "outputs": [
    {
     "name": "stdout",
     "output_type": "stream",
     "text": [
      "<class 'pandas.core.frame.DataFrame'>\n",
      "RangeIndex: 33689 entries, 0 to 33688\n",
      "Data columns (total 20 columns):\n",
      " #   Column         Non-Null Count  Dtype  \n",
      "---  ------         --------------  -----  \n",
      " 0   property_id    33689 non-null  int64  \n",
      " 1   location_id    33689 non-null  int64  \n",
      " 2   page_url       33689 non-null  object \n",
      " 3   property_type  33689 non-null  object \n",
      " 4   price          33689 non-null  int64  \n",
      " 5   location       33689 non-null  object \n",
      " 6   city           33689 non-null  object \n",
      " 7   province_name  33689 non-null  object \n",
      " 8   latitude       33689 non-null  float64\n",
      " 9   longitude      33689 non-null  float64\n",
      " 10  baths          33689 non-null  int64  \n",
      " 11  area           33689 non-null  object \n",
      " 12  purpose        33689 non-null  object \n",
      " 13  bedrooms       33689 non-null  int64  \n",
      " 14  date_added     33689 non-null  object \n",
      " 15  agency         29273 non-null  object \n",
      " 16  agent          29273 non-null  object \n",
      " 17  Area Type      33689 non-null  object \n",
      " 18  Area Size      33689 non-null  float64\n",
      " 19  Area Category  33689 non-null  object \n",
      "dtypes: float64(3), int64(5), object(12)\n",
      "memory usage: 5.1+ MB\n"
     ]
    }
   ],
   "source": [
    "df.info()"
   ],
   "metadata": {
    "collapsed": false,
    "ExecuteTime": {
     "end_time": "2024-07-08T11:10:42.233267Z",
     "start_time": "2024-07-08T11:10:42.215880Z"
    }
   },
   "id": "809022ce3373bada",
   "execution_count": 12
  },
  {
   "cell_type": "code",
   "outputs": [
    {
     "data": {
      "text/plain": "array(['House', 'Flat', 'Lower Portion', 'Upper Portion', 'Penthouse',\n       'Farm House', 'Room'], dtype=object)"
     },
     "execution_count": 13,
     "metadata": {},
     "output_type": "execute_result"
    }
   ],
   "source": [
    "# find distinct property types\n",
    "df['property_type'].unique()"
   ],
   "metadata": {
    "collapsed": false,
    "ExecuteTime": {
     "end_time": "2024-07-08T11:10:42.239132Z",
     "start_time": "2024-07-08T11:10:42.234275Z"
    }
   },
   "id": "7f18ba87f8b9a55d",
   "execution_count": 13
  },
  {
   "cell_type": "code",
   "outputs": [
    {
     "data": {
      "text/plain": "array(['Parekh Estate', 'A. A Associates', 'Civic Estate', ...,\n       'Khizra Estate', 'Mansoor Estate Advisor',\n       'New Al Haseeb Estate Advisor & Builders'], dtype=object)"
     },
     "execution_count": 14,
     "metadata": {},
     "output_type": "execute_result"
    }
   ],
   "source": [
    "df['agency'].unique()"
   ],
   "metadata": {
    "collapsed": false,
    "ExecuteTime": {
     "end_time": "2024-07-08T11:10:42.246363Z",
     "start_time": "2024-07-08T11:10:42.240138Z"
    }
   },
   "id": "6b7f838ab2ad8ed3",
   "execution_count": 14
  },
  {
   "cell_type": "code",
   "outputs": [
    {
     "data": {
      "text/plain": "property_id      33689\nlocation_id       2692\npage_url         33689\nproperty_type        7\nprice             1095\nlocation           961\ncity                 5\nprovince_name        3\nlatitude          3043\nlongitude         3131\nbaths               13\narea               267\npurpose              2\nbedrooms            17\ndate_added          26\nagency            3467\nagent             5182\nArea Type            2\nArea Size          204\nArea Category       15\ndtype: int64"
     },
     "execution_count": 15,
     "metadata": {},
     "output_type": "execute_result"
    }
   ],
   "source": [
    "df.nunique()"
   ],
   "metadata": {
    "collapsed": false,
    "ExecuteTime": {
     "end_time": "2024-07-08T11:10:42.279142Z",
     "start_time": "2024-07-08T11:10:42.247448Z"
    }
   },
   "id": "1f65335e46c1321",
   "execution_count": 15
  },
  {
   "cell_type": "code",
   "outputs": [
    {
     "data": {
      "text/plain": "array(['16 Marla', '1 Kanal', '10 Marla', '4.8 Marla', '4 Kanal',\n       '1.2 Kanal', '5.2 Marla', '10.6 Marla', '4.4 Marla', '3.4 Marla',\n       '12.4 Marla', '12.5 Marla', '11 Marla', '5.8 Marla', '9.8 Marla',\n       '8.6 Marla', '8 Marla', '5 Marla', '12 Marla', '4.2 Marla',\n       '1.6 Kanal', '4.9 Marla', '15 Marla', '5.7 Marla', '13.3 Marla',\n       '15.9 Marla', '4 Marla', '6 Marla', '4.5 Marla', '2.2 Kanal',\n       '6.3 Marla', '6.4 Marla', '4.7 Marla', '17.2 Marla', '3.3 Marla',\n       '5.6 Marla', '12.9 Marla', '1.8 Marla', '10.4 Marla', '3.2 Marla',\n       '3.6 Marla', '3 Marla', '7.1 Marla', '6.1 Marla', '2.6 Marla',\n       '2.4 Marla', '3.1 Marla', '2.2 Marla', '6.2 Marla', '5.3 Marla',\n       '7.6 Marla', '6.7 Marla', '2.9 Marla', '9.6 Marla', '2.8 Marla',\n       '1.2 Marla', '9.3 Marla', '7.9 Marla', '10.2 Marla', '2 Kanal',\n       '7 Marla', '7.2 Marla', '11.6 Marla', '12.7 Marla', '14 Marla',\n       '2 Marla', '9.1 Marla', '7.8 Marla', '8.9 Marla', '8.4 Marla',\n       '1.1 Kanal', '5.4 Marla', '1.3 Kanal', '17.6 Marla', '3.2 Kanal',\n       '10.9 Marla', '5.1 Marla', '12.1 Marla', '2.3 Marla', '9.4 Marla',\n       '10.7 Marla', '11.4 Marla', '1.1 Marla', '18 Marla', '7.3 Marla',\n       '14.2 Marla', '2.1 Marla', '8 Kanal', '6 Kanal', '10.3 Marla',\n       '6.9 Marla', '1.5 Kanal', '9.7 Marla', '1.7 Marla', '3.8 Marla',\n       '2.7 Marla', '3.7 Marla', '16.7 Marla', '10 Kanal', '18.4 Marla',\n       '6.8 Marla', '5.5 Marla', '9.2 Marla', '19.2 Marla', '13.4 Marla',\n       '1.6 Marla', '18.7 Marla', '13 Marla', '9.5 Marla', '1.4 Kanal',\n       '9 Marla', '8.8 Marla', '8.5 Marla', '17 Marla', '4.1 Marla',\n       '4.3 Marla', '11.1 Marla', '7.4 Marla', '1.3 Marla', '4.6 Marla',\n       '19.6 Marla', '15.1 Marla', '13.2 Marla', '10.8 Marla',\n       '15.6 Marla', '18.5 Marla', '2.5 Marla', '11.8 Marla', '3.5 Marla',\n       '7.5 Marla', '1 Marla', '0.8 Marla', '10.5 Marla', '19 Marla',\n       '3 Kanal', '3.3 Kanal', '2.7 Kanal', '0.7 Marla', '17.5 Marla',\n       '2.5 Kanal', '17.8 Marla', '16.2 Marla', '17.1 Marla',\n       '16.4 Marla', '6.6 Marla', '1.8 Kanal', '0.6 Marla', '16.6 Marla',\n       '2.4 Kanal', '0.5 Marla', '0.9 Marla', '3.9 Marla', '8.2 Marla',\n       '12.2 Marla', '8.7 Marla', '0.4 Marla', '23 Kanal', '1.4 Marla',\n       '10.5 Kanal', '24 Kanal', '8.1 Kanal', '12 Kanal', '2.3 Kanal',\n       '11.5 Marla', '7.7 Marla', '1.9 Kanal', '6.5 Marla', '9 Kanal',\n       '16 Kanal', '2.9 Kanal', '3.5 Kanal', '1.5 Marla', '1.7 Kanal',\n       '2.1 Kanal', '4.8 Kanal', '5.4 Kanal', '20 Kanal', '13.1 Marla',\n       '10.1 Marla', '5.9 Marla', '14.7 Marla', '26 Kanal', '2.6 Kanal',\n       '30 Kanal', '14.9 Marla', '6.4 Kanal', '11.7 Marla', '8.3 Marla',\n       '1.9 Marla', '12.3 Marla', '3.8 Kanal', '8.1 Marla', '3.6 Kanal',\n       '14.5 Kanal', '4.5 Kanal', '5 Kanal', '15.3 Marla', '3.9 Kanal',\n       '17.3 Marla', '20 Marla', '19.1 Marla', '11.2 Marla', '18.3 Marla',\n       '13.7 Marla', '9.9 Marla', '18.2 Marla', '17.5 Kanal',\n       '13.6 Marla', '16.8 Marla', '12.8 Marla', '16.3 Marla',\n       '4.1 Kanal', '19.3 Marla', '16.9 Marla', '15.4 Marla',\n       '18.8 Marla', '14.5 Marla', '28 Kanal', '7 Kanal', '0 Marla',\n       '5.5 Kanal', '13 Kanal', '19.2 Kanal', '14.3 Marla', '14.4 Marla',\n       '300 Kanal', '19.5 Marla', '27 Kanal', '4.3 Kanal', '11.3 Marla',\n       '14 Kanal', '11 Kanal', '17.9 Marla', '14.8 Marla', '18.9 Marla',\n       '19.9 Marla', '15.2 Marla', '9.6 Kanal', '14.6 Marla',\n       '13.8 Marla', '3.4 Kanal', '64 Kanal', '90 Kanal', '14.4 Kanal',\n       '7.3 Kanal', '40 Kanal', '32 Kanal', '4.2 Kanal', '11.2 Kanal',\n       '25.5 Kanal', '29 Kanal', '50 Kanal', '5.6 Kanal', '19 Kanal',\n       '0.2 Marla', '18 Kanal', '18.6 Marla', '11.9 Marla', '41 Kanal',\n       '4.4 Kanal', '19.4 Kanal', '15.8 Marla', '13.5 Marla',\n       '13.9 Marla', '7.8 Kanal', '17 Kanal', '100 Kanal'], dtype=object)"
     },
     "execution_count": 16,
     "metadata": {},
     "output_type": "execute_result"
    }
   ],
   "source": [
    "df['area'].unique()"
   ],
   "metadata": {
    "collapsed": false,
    "ExecuteTime": {
     "end_time": "2024-07-08T11:10:42.285005Z",
     "start_time": "2024-07-08T11:10:42.279650Z"
    }
   },
   "id": "270d2d996b1f980f",
   "execution_count": 16
  },
  {
   "cell_type": "code",
   "outputs": [
    {
     "data": {
      "text/plain": "{\n  \"anonymous_usage_statistics\": {\n    \"enabled\": true,\n    \"usage_statistics_url\": \"https://stats.greatexpectations.io/great_expectations/v1/usage_statistics\",\n    \"data_context_id\": \"0130baae-afdd-427c-9cf0-7472caa4256b\",\n    \"explicit_id\": true,\n    \"explicit_url\": false\n  },\n  \"checkpoint_store_name\": \"checkpoint_store\",\n  \"config_variables_file_path\": \"uncommitted/config_variables.yml\",\n  \"config_version\": 3.0,\n  \"data_docs_sites\": {\n    \"local_site\": {\n      \"class_name\": \"SiteBuilder\",\n      \"show_how_to_buttons\": true,\n      \"store_backend\": {\n        \"class_name\": \"TupleFilesystemStoreBackend\",\n        \"base_directory\": \"uncommitted/data_docs/local_site/\"\n      },\n      \"site_index_builder\": {\n        \"class_name\": \"DefaultSiteIndexBuilder\"\n      }\n    }\n  },\n  \"datasources\": {},\n  \"evaluation_parameter_store_name\": \"evaluation_parameter_store\",\n  \"expectations_store_name\": \"expectations_store\",\n  \"fluent_datasources\": {},\n  \"include_rendered_content\": {\n    \"expectation_suite\": false,\n    \"expectation_validation_result\": false,\n    \"globally\": false\n  },\n  \"plugins_directory\": \"plugins/\",\n  \"stores\": {\n    \"expectations_store\": {\n      \"class_name\": \"ExpectationsStore\",\n      \"store_backend\": {\n        \"class_name\": \"TupleFilesystemStoreBackend\",\n        \"base_directory\": \"expectations/\"\n      }\n    },\n    \"validations_store\": {\n      \"class_name\": \"ValidationsStore\",\n      \"store_backend\": {\n        \"class_name\": \"TupleFilesystemStoreBackend\",\n        \"base_directory\": \"uncommitted/validations/\"\n      }\n    },\n    \"evaluation_parameter_store\": {\n      \"class_name\": \"EvaluationParameterStore\"\n    },\n    \"checkpoint_store\": {\n      \"class_name\": \"CheckpointStore\",\n      \"store_backend\": {\n        \"class_name\": \"TupleFilesystemStoreBackend\",\n        \"suppress_store_backend_id\": true,\n        \"base_directory\": \"checkpoints/\"\n      }\n    },\n    \"profiler_store\": {\n      \"class_name\": \"ProfilerStore\",\n      \"store_backend\": {\n        \"class_name\": \"TupleFilesystemStoreBackend\",\n        \"suppress_store_backend_id\": true,\n        \"base_directory\": \"profilers/\"\n      }\n    }\n  },\n  \"validations_store_name\": \"validations_store\"\n}"
     },
     "execution_count": 17,
     "metadata": {},
     "output_type": "execute_result"
    }
   ],
   "source": [
    "context = FileDataContext(context_root_dir = \"services/gx\")\n",
    "context"
   ],
   "metadata": {
    "collapsed": false,
    "ExecuteTime": {
     "end_time": "2024-07-08T11:10:42.352069Z",
     "start_time": "2024-07-08T11:10:42.286011Z"
    }
   },
   "id": "6533ee7fda6558e8",
   "execution_count": 17
  },
  {
   "cell_type": "code",
   "outputs": [],
   "source": [
    "from pathlib import Path\n",
    "\n",
    "ds = context.sources.add_or_update_pandas(name=\"first_ds\")\n",
    "\n",
    "da = ds.add_csv_asset(\n",
    "    name = \"asset01\",\n",
    "    filepath_or_buffer=\"data/samples/sample.csv\",\n",
    "\n",
    ")"
   ],
   "metadata": {
    "collapsed": false,
    "ExecuteTime": {
     "end_time": "2024-07-08T11:10:42.370073Z",
     "start_time": "2024-07-08T11:10:42.353076Z"
    }
   },
   "id": "6a85b727aae7a9ab",
   "execution_count": 18
  },
  {
   "cell_type": "code",
   "outputs": [],
   "source": [
    "batch_request = da.build_batch_request()\n",
    "\n",
    "batches = da.get_batch_list_from_batch_request(batch_request)\n"
   ],
   "metadata": {
    "collapsed": false,
    "ExecuteTime": {
     "end_time": "2024-07-08T11:10:42.557348Z",
     "start_time": "2024-07-08T11:10:42.370578Z"
    }
   },
   "id": "a94b8a49fb6b183a",
   "execution_count": 19
  },
  {
   "cell_type": "code",
   "outputs": [],
   "source": [
    "# use head to get the first 5 rows\n",
    "data_asset = context.get_datasource(\"first_ds\").get_asset(\"asset01\")\n",
    "batch_request = data_asset.build_batch_request()"
   ],
   "metadata": {
    "collapsed": false,
    "ExecuteTime": {
     "end_time": "2024-07-08T11:10:42.561698Z",
     "start_time": "2024-07-08T11:10:42.558354Z"
    }
   },
   "id": "467380856c9217ff",
   "execution_count": 20
  },
  {
   "cell_type": "code",
   "outputs": [
    {
     "data": {
      "text/plain": "['first_phase_expectation_suite']"
     },
     "execution_count": 21,
     "metadata": {},
     "output_type": "execute_result"
    }
   ],
   "source": [
    "# create expectations\n",
    "context.add_or_update_expectation_suite(\"first_phase_expectation_suite\")\n",
    "context.list_expectation_suite_names()\n"
   ],
   "metadata": {
    "collapsed": false,
    "ExecuteTime": {
     "end_time": "2024-07-08T11:10:42.640570Z",
     "start_time": "2024-07-08T11:10:42.562704Z"
    }
   },
   "id": "93185ea1a38a556d",
   "execution_count": 21
  },
  {
   "cell_type": "code",
   "outputs": [
    {
     "data": {
      "text/plain": "Calculating Metrics:   0%|          | 0/1 [00:00<?, ?it/s]",
      "application/vnd.jupyter.widget-view+json": {
       "version_major": 2,
       "version_minor": 0,
       "model_id": "22c0b4769f8d42e09d1914ee09080d2c"
      }
     },
     "metadata": {},
     "output_type": "display_data"
    },
    {
     "name": "stdout",
     "output_type": "stream",
     "text": [
      "   property_id  location_id  \\\n",
      "0     15829916         1483   \n",
      "1     15829917         1482   \n",
      "2     15829919         1482   \n",
      "3     15829920         1482   \n",
      "4     15829921         1482   \n",
      "\n",
      "                                            page_url property_type     price  \\\n",
      "0  https://www.zameen.com/Property/d_h_a_dha_phas...         House  70000000   \n",
      "1  https://www.zameen.com/Property/d_h_a_dha_phas...         House  75000000   \n",
      "2  https://www.zameen.com/Property/d_h_a_dha_phas...         House  75000000   \n",
      "3  https://www.zameen.com/Property/d_h_a_dha_phas...         House  72500000   \n",
      "4  https://www.zameen.com/Property/d_h_a_dha_phas...         House  80000000   \n",
      "\n",
      "      location     city province_name   latitude  longitude  baths      area  \\\n",
      "0  DHA Defence  Karachi         Sindh  24.805045  67.064323      6  16 Marla   \n",
      "1  DHA Defence  Karachi         Sindh  24.810265  67.043552      5   1 Kanal   \n",
      "2  DHA Defence  Karachi         Sindh  24.810265  67.043552      3   1 Kanal   \n",
      "3  DHA Defence  Karachi         Sindh  24.810265  67.043552      6   1 Kanal   \n",
      "4  DHA Defence  Karachi         Sindh  24.810265  67.043552      5   1 Kanal   \n",
      "\n",
      "    purpose  bedrooms  date_added         agency           agent Area Type  \\\n",
      "0  For Sale         6  05-06-2019  Parekh Estate  Noman Charakry     Marla   \n",
      "1  For Sale         5  05-06-2019  Parekh Estate  Noman Charakry     Kanal   \n",
      "2  For Sale         3  05-06-2019  Parekh Estate  Noman Charakry     Kanal   \n",
      "3  For Sale         6  05-06-2019  Parekh Estate  Noman Charakry     Kanal   \n",
      "4  For Sale         5  05-06-2019  Parekh Estate  Noman Charakry     Kanal   \n",
      "\n",
      "   Area Size Area Category  \n",
      "0       16.0   15-20 Marla  \n",
      "1        1.0     1-5 Kanal  \n",
      "2        1.0     1-5 Kanal  \n",
      "3        1.0     1-5 Kanal  \n",
      "4        1.0     1-5 Kanal  \n"
     ]
    }
   ],
   "source": [
    "# Create a validator\n",
    "validator = context.get_validator(\n",
    "    batch_request=batch_request,\n",
    "    expectation_suite_name=\"first_phase_expectation_suite\",\n",
    ")\n",
    "print(validator.head())\n"
   ],
   "metadata": {
    "collapsed": false,
    "ExecuteTime": {
     "end_time": "2024-07-08T11:10:42.829173Z",
     "start_time": "2024-07-08T11:10:42.640570Z"
    }
   },
   "id": "8cb44dae307f9f61",
   "execution_count": 22
  },
  {
   "cell_type": "code",
   "outputs": [
    {
     "data": {
      "text/plain": "Calculating Metrics:   0%|          | 0/1 [00:00<?, ?it/s]",
      "application/vnd.jupyter.widget-view+json": {
       "version_major": 2,
       "version_minor": 0,
       "model_id": "d4335e7aff5441f08ac25312c7c1bcef"
      }
     },
     "metadata": {},
     "output_type": "display_data"
    }
   ],
   "source": [
    "# create expectations\n",
    "# 7 most important features:\n",
    "#  price, location, area, agency, baths, bedrooms, property_type\n",
    "# 3 most important dimensions per each\n",
    "ex_number_of_rows = validator.expect_table_row_count_to_be_between(min_value=33689, max_value=168446)"
   ],
   "metadata": {
    "collapsed": false,
    "ExecuteTime": {
     "end_time": "2024-07-08T11:10:42.842960Z",
     "start_time": "2024-07-08T11:10:42.830181Z"
    }
   },
   "id": "9707571093d93c7e",
   "execution_count": 23
  },
  {
   "cell_type": "code",
   "outputs": [],
   "source": [
    "assert ex_number_of_rows['success']"
   ],
   "metadata": {
    "collapsed": false
   },
   "id": "ba6dbfdc91c53eeb",
   "execution_count": 24
  },
  {
   "cell_type": "code",
   "outputs": [
    {
     "data": {
      "text/plain": "Calculating Metrics:   0%|          | 0/6 [00:00<?, ?it/s]",
      "application/vnd.jupyter.widget-view+json": {
       "version_major": 2,
       "version_minor": 0,
       "model_id": "83b8ffa2166c497791d668cbbdf3dfc9"
      }
     },
     "metadata": {},
     "output_type": "display_data"
    },
    {
     "data": {
      "text/plain": "Calculating Metrics:   0%|          | 0/1 [00:00<?, ?it/s]",
      "application/vnd.jupyter.widget-view+json": {
       "version_major": 2,
       "version_minor": 0,
       "model_id": "7f9b99a9d78a4a8f8cf23507c4ef51dd"
      }
     },
     "metadata": {},
     "output_type": "display_data"
    },
    {
     "data": {
      "text/plain": "Calculating Metrics:   0%|          | 0/4 [00:00<?, ?it/s]",
      "application/vnd.jupyter.widget-view+json": {
       "version_major": 2,
       "version_minor": 0,
       "model_id": "1daf5e67bb6844a987d786de7e54693e"
      }
     },
     "metadata": {},
     "output_type": "display_data"
    },
    {
     "data": {
      "text/plain": "Calculating Metrics:   0%|          | 0/4 [00:00<?, ?it/s]",
      "application/vnd.jupyter.widget-view+json": {
       "version_major": 2,
       "version_minor": 0,
       "model_id": "ed4de491a3be473eafc26bc9cb2ecd7b"
      }
     },
     "metadata": {},
     "output_type": "display_data"
    }
   ],
   "source": [
    "# price\n",
    "ex_price_completeness = validator.expect_column_values_to_not_be_null(\n",
    "\tcolumn=\"price\", \n",
    "    meta = {\"dimension\": \"Completeness\"}\n",
    ")\n",
    "\n",
    "ex_price_validity = validator.expect_column_values_to_be_of_type(\n",
    "    column=\"price\", \n",
    "    type_=\"int64\", \n",
    "    meta = {\"dimension\": \"Validity\"}\n",
    ")\n",
    "\n",
    "ex_price_accuracy = validator.expect_column_min_to_be_between(\n",
    "    column=\"price\", \n",
    "    min_value=0, \n",
    "    meta = {\"dimension\": \"Accuracy\"}\n",
    ")\n",
    "\n",
    "price_25 = 120000.0\n",
    "price75 = 19800000.0\n",
    "ex_price_timelessness = validator.expect_column_median_to_be_between(\n",
    "    column=\"price\", \n",
    "    min_value=price_25, \n",
    "    max_value=price_75, \n",
    "    meta = {\"dimension\": \"Timelessness\"}\n",
    ")"
   ],
   "metadata": {
    "collapsed": false,
    "ExecuteTime": {
     "end_time": "2024-07-08T11:10:42.907957Z",
     "start_time": "2024-07-08T11:10:42.847626Z"
    }
   },
   "id": "bdfc55061f2f0f1b",
   "execution_count": 25
  },
  {
   "cell_type": "code",
   "outputs": [],
   "source": [
    "assert ex_price_completeness['success']\n",
    "assert ex_price_validity['success']\n",
    "assert ex_price_accuracy['success']\n",
    "assert ex_price_timelessness['success']"
   ],
   "metadata": {
    "collapsed": false
   },
   "id": "dae862852c8d63fb",
   "execution_count": 26
  },
  {
   "cell_type": "code",
   "outputs": [],
   "source": [
    "# list of known locations\n",
    "list_of_known_locations = df['location'].unique()\n",
    "list_of_known_locations = [str(location) for location in list_of_known_locations if str(location) != 'nan']"
   ],
   "metadata": {
    "collapsed": false
   },
   "id": "9fc75f2fcfca68e4",
   "execution_count": 27
  },
  {
   "cell_type": "code",
   "outputs": [
    {
     "data": {
      "text/plain": "Calculating Metrics:   0%|          | 0/6 [00:00<?, ?it/s]",
      "application/vnd.jupyter.widget-view+json": {
       "version_major": 2,
       "version_minor": 0,
       "model_id": "b568838fe55b479482d4b1548ae59c66"
      }
     },
     "metadata": {},
     "output_type": "display_data"
    },
    {
     "data": {
      "text/plain": "Calculating Metrics:   0%|          | 0/8 [00:00<?, ?it/s]",
      "application/vnd.jupyter.widget-view+json": {
       "version_major": 2,
       "version_minor": 0,
       "model_id": "ba62ec29d41246ae872beb7e8890b90c"
      }
     },
     "metadata": {},
     "output_type": "display_data"
    },
    {
     "data": {
      "text/plain": "Calculating Metrics:   0%|          | 0/4 [00:00<?, ?it/s]",
      "application/vnd.jupyter.widget-view+json": {
       "version_major": 2,
       "version_minor": 0,
       "model_id": "fc66f606d9af4fdfa17d8b798bf7be11"
      }
     },
     "metadata": {},
     "output_type": "display_data"
    }
   ],
   "source": [
    "# location\n",
    "ex_location_completeness = validator.expect_column_values_to_not_be_null(\n",
    "    column=\"location\", \n",
    "    meta = {\"dimension\": \"Completeness\"}\n",
    ")\n",
    "\n",
    "ex_location_validity = validator.expect_column_values_to_be_of_type(\n",
    "    column=\"location\", \n",
    "    type_=\"str\", \n",
    "    meta = {\"dimension\": \"Validity\"}\n",
    ")\n",
    "\n",
    "\n",
    "ex_location_uniqueness = validator.expect_column_unique_value_count_to_be_between(\n",
    "    column=\"location\", \n",
    "    min_value=800, \n",
    "    max_value=1500, \n",
    "    meta = {\"dimension\": \"Uniqueness\"}\n",
    ")"
   ],
   "metadata": {
    "collapsed": false,
    "ExecuteTime": {
     "end_time": "2024-07-08T11:10:43.017709Z",
     "start_time": "2024-07-08T11:10:42.922243Z"
    }
   },
   "id": "6d78c0635909aa76",
   "execution_count": 28
  },
  {
   "cell_type": "code",
   "outputs": [],
   "source": [
    "assert ex_location_completeness['success']\n",
    "assert ex_location_validity['success']\n",
    "assert ex_location_uniqueness['success']"
   ],
   "metadata": {
    "collapsed": false,
    "ExecuteTime": {
     "end_time": "2024-07-08T11:10:43.021440Z",
     "start_time": "2024-07-08T11:10:43.018719Z"
    }
   },
   "id": "ff0912a9c8375853",
   "execution_count": 29
  },
  {
   "cell_type": "code",
   "outputs": [],
   "source": [
    "import re\n",
    "regex = r\"^[0-9]+\\s*(Kanal|Marla)$\"\n",
    "example = \"1 Kanal\"\n",
    "assert re.match(regex, example)"
   ],
   "metadata": {
    "collapsed": false,
    "ExecuteTime": {
     "end_time": "2024-07-08T11:10:43.026862Z",
     "start_time": "2024-07-08T11:10:43.022447Z"
    }
   },
   "id": "392a605a5a982b99",
   "execution_count": 30
  },
  {
   "cell_type": "code",
   "outputs": [
    {
     "data": {
      "text/plain": "Calculating Metrics:   0%|          | 0/6 [00:00<?, ?it/s]",
      "application/vnd.jupyter.widget-view+json": {
       "version_major": 2,
       "version_minor": 0,
       "model_id": "b5222750e3fc451ea1650c4822456419"
      }
     },
     "metadata": {},
     "output_type": "display_data"
    },
    {
     "data": {
      "text/plain": "Calculating Metrics:   0%|          | 0/8 [00:00<?, ?it/s]",
      "application/vnd.jupyter.widget-view+json": {
       "version_major": 2,
       "version_minor": 0,
       "model_id": "9658fc2b3bd74de6b385e40d63309dd5"
      }
     },
     "metadata": {},
     "output_type": "display_data"
    },
    {
     "data": {
      "text/plain": "Calculating Metrics:   0%|          | 0/4 [00:00<?, ?it/s]",
      "application/vnd.jupyter.widget-view+json": {
       "version_major": 2,
       "version_minor": 0,
       "model_id": "afb6b93092894a90a7706d51615783bc"
      }
     },
     "metadata": {},
     "output_type": "display_data"
    }
   ],
   "source": [
    "# area\n",
    "ex_area_completeness = validator.expect_column_values_to_not_be_null(\n",
    "    column=\"area\", \n",
    "    meta = {\"dimension\": \"Completeness\"}\n",
    ")\n",
    "\n",
    "ex_area_validity = validator.expect_column_values_to_match_regex(\n",
    "    column=\"area\", \n",
    "    # format = {number} {unit}\n",
    "    regex=r\"^[0-9]+(\\.[0-9])?\\s*(Kanal|Marla)$\",\n",
    "    meta = {\"dimension\": \"Validity\"}\n",
    ")\n",
    "\n",
    "# value of area should be greater than 0\n",
    "ex_area_accuracy = validator.expect_column_min_to_be_between(\n",
    "    column=\"Area Size\", \n",
    "    min_value=0, \n",
    "    meta = {\"dimension\": \"Accuracy\"}\n",
    ")"
   ],
   "metadata": {
    "collapsed": false,
    "ExecuteTime": {
     "end_time": "2024-07-08T11:10:43.122244Z",
     "start_time": "2024-07-08T11:10:43.027872Z"
    }
   },
   "id": "127ac477e94cbf9a",
   "execution_count": 31
  },
  {
   "cell_type": "code",
   "outputs": [],
   "source": [
    "assert ex_area_completeness['success']\n",
    "assert ex_area_validity['success']\n",
    "assert ex_area_accuracy['success']"
   ],
   "metadata": {
    "collapsed": false
   },
   "id": "7f31e7897034ce6e",
   "execution_count": 32
  },
  {
   "cell_type": "code",
   "outputs": [],
   "source": [
    "list_of_known_agencies = df['agency'].unique()\n",
    "list_of_known_agencies = [str(agency) for agency in list_of_known_agencies if str(agency) != 'nan']"
   ],
   "metadata": {
    "collapsed": false,
    "ExecuteTime": {
     "end_time": "2024-07-08T11:10:43.132979Z",
     "start_time": "2024-07-08T11:10:43.127336Z"
    }
   },
   "id": "ce24fd75b8dfa7cd",
   "execution_count": 33
  },
  {
   "cell_type": "code",
   "outputs": [
    {
     "data": {
      "text/plain": "Calculating Metrics:   0%|          | 0/4 [00:00<?, ?it/s]",
      "application/vnd.jupyter.widget-view+json": {
       "version_major": 2,
       "version_minor": 0,
       "model_id": "46d79608069342739992b95e7bd50eb5"
      }
     },
     "metadata": {},
     "output_type": "display_data"
    },
    {
     "data": {
      "text/plain": "Calculating Metrics:   0%|          | 0/8 [00:00<?, ?it/s]",
      "application/vnd.jupyter.widget-view+json": {
       "version_major": 2,
       "version_minor": 0,
       "model_id": "7182c3d3aecc422cb18797c93535ecd1"
      }
     },
     "metadata": {},
     "output_type": "display_data"
    },
    {
     "data": {
      "text/plain": "Calculating Metrics:   0%|          | 0/6 [00:00<?, ?it/s]",
      "application/vnd.jupyter.widget-view+json": {
       "version_major": 2,
       "version_minor": 0,
       "model_id": "fa6fd1699c984bc6b16b06b56ec7e7cc"
      }
     },
     "metadata": {},
     "output_type": "display_data"
    }
   ],
   "source": [
    "ex_agency_uniqueness = validator.expect_column_unique_value_count_to_be_between(\n",
    "    column=\"agency\", \n",
    "    min_value=3000, \n",
    "    max_value=4000, \n",
    "    meta = {\"dimension\": \"Uniqueness\"}\n",
    ")\n",
    "\n",
    "\n",
    "ex_agency_validity = validator.expect_column_values_to_be_of_type(\n",
    "    column=\"agency\", \n",
    "    type_=\"str\", \n",
    "    meta = {\"dimension\": \"Validity\"}\n",
    ")\n",
    "\n",
    "ex_agency_completeness = validator.expect_column_values_to_not_be_null(\n",
    "    column=\"agency\", \n",
    "    mostly=0.5,\n",
    "    meta = {\"dimension\": \"Completeness\"}\n",
    ")\n",
    "    "
   ],
   "metadata": {
    "collapsed": false,
    "ExecuteTime": {
     "end_time": "2024-07-08T11:10:43.220124Z",
     "start_time": "2024-07-08T11:10:43.133986Z"
    }
   },
   "id": "68f920826edbf92d",
   "execution_count": 34
  },
  {
   "cell_type": "code",
   "outputs": [],
   "source": [
    "assert ex_agency_uniqueness['success']\n",
    "assert ex_agency_validity['success']\n",
    "assert ex_agency_completeness['success']"
   ],
   "metadata": {
    "collapsed": false,
    "ExecuteTime": {
     "end_time": "2024-07-08T11:10:43.880841Z",
     "start_time": "2024-07-08T11:10:43.221130Z"
    }
   },
   "id": "3797654827945680",
   "execution_count": 35
  },
  {
   "cell_type": "code",
   "outputs": [
    {
     "data": {
      "text/plain": "Calculating Metrics:   0%|          | 0/4 [00:00<?, ?it/s]",
      "application/vnd.jupyter.widget-view+json": {
       "version_major": 2,
       "version_minor": 0,
       "model_id": "2901e431b7874424a9b967a40c97ba8f"
      }
     },
     "metadata": {},
     "output_type": "display_data"
    },
    {
     "data": {
      "text/plain": "Calculating Metrics:   0%|          | 0/1 [00:00<?, ?it/s]",
      "application/vnd.jupyter.widget-view+json": {
       "version_major": 2,
       "version_minor": 0,
       "model_id": "c4d0ee67c70b487d9cd9e252ebc3db87"
      }
     },
     "metadata": {},
     "output_type": "display_data"
    },
    {
     "data": {
      "text/plain": "Calculating Metrics:   0%|          | 0/4 [00:00<?, ?it/s]",
      "application/vnd.jupyter.widget-view+json": {
       "version_major": 2,
       "version_minor": 0,
       "model_id": "60fcc0b3970445f6ab9ae8b122126fdd"
      }
     },
     "metadata": {},
     "output_type": "display_data"
    }
   ],
   "source": [
    "# baths\n",
    "ex_baths_accuracy = validator.expect_column_min_to_be_between(\n",
    "    column=\"baths\", \n",
    "    min_value=0, \n",
    "    meta = {\"dimension\": \"Accuracy\"}\n",
    ")\n",
    "\n",
    "ex_baths_validity = validator.expect_column_values_to_be_of_type(\n",
    "    column=\"baths\", \n",
    "    type_=\"int64\", \n",
    "    meta = {\"dimension\": \"Validity\"}\n",
    ")\n",
    "\n",
    "ex_baths_timelessness = validator.expect_column_max_to_be_between(\n",
    "    column=\"baths\", \n",
    "    max_value=15, \n",
    "    meta = {\"dimension\": \"Timelessness\"}\n",
    ")"
   ],
   "metadata": {
    "collapsed": false
   },
   "id": "f470d9003b069a3e",
   "execution_count": 36
  },
  {
   "cell_type": "code",
   "outputs": [],
   "source": [
    "assert ex_baths_accuracy['success']\n",
    "assert ex_baths_validity['success']\n",
    "assert ex_baths_timelessness['success']"
   ],
   "metadata": {
    "collapsed": false
   },
   "id": "1eea85b71c1151f0",
   "execution_count": 37
  },
  {
   "cell_type": "code",
   "outputs": [
    {
     "data": {
      "text/plain": "Calculating Metrics:   0%|          | 0/4 [00:00<?, ?it/s]",
      "application/vnd.jupyter.widget-view+json": {
       "version_major": 2,
       "version_minor": 0,
       "model_id": "9addd5dc3a714b70b53950eb5a61b59b"
      }
     },
     "metadata": {},
     "output_type": "display_data"
    },
    {
     "data": {
      "text/plain": "Calculating Metrics:   0%|          | 0/1 [00:00<?, ?it/s]",
      "application/vnd.jupyter.widget-view+json": {
       "version_major": 2,
       "version_minor": 0,
       "model_id": "9d1589fb5f8a48699feb56605457299d"
      }
     },
     "metadata": {},
     "output_type": "display_data"
    },
    {
     "data": {
      "text/plain": "Calculating Metrics:   0%|          | 0/4 [00:00<?, ?it/s]",
      "application/vnd.jupyter.widget-view+json": {
       "version_major": 2,
       "version_minor": 0,
       "model_id": "8aa1342917aa41ae93115bd43fdbd3ea"
      }
     },
     "metadata": {},
     "output_type": "display_data"
    }
   ],
   "source": [
    "# bedrooms\n",
    "ex_bedrooms_accuracy = validator.expect_column_min_to_be_between(\n",
    "    column=\"bedrooms\", \n",
    "    min_value=0, \n",
    "    meta = {\"dimension\": \"Accuracy\"}\n",
    ")\n",
    "\n",
    "ex_bedrooms_validity = validator.expect_column_values_to_be_of_type(\n",
    "    column=\"bedrooms\", \n",
    "    type_=\"int64\", \n",
    "    meta = {\"dimension\": \"Validity\"}\n",
    ")\n",
    "\n",
    "ex_bedrooms_timelessness = validator.expect_column_max_to_be_between(\n",
    "    column=\"bedrooms\", \n",
    "    max_value=18, \n",
    "    meta = {\"dimension\": \"Consistency\"}\n",
    ")"
   ],
   "metadata": {
    "collapsed": false,
    "ExecuteTime": {
     "start_time": "2024-07-08T11:10:43.882847Z"
    }
   },
   "id": "ff229ac0999c8874",
   "execution_count": 38
  },
  {
   "cell_type": "code",
   "outputs": [],
   "source": [
    "assert ex_bedrooms_accuracy['success']\n",
    "assert ex_bedrooms_validity['success']\n",
    "assert ex_bedrooms_timelessness['success']"
   ],
   "metadata": {
    "collapsed": false,
    "ExecuteTime": {
     "start_time": "2024-07-08T11:10:43.883847Z"
    }
   },
   "id": "7866ffa4bd2a5758",
   "execution_count": 39
  },
  {
   "cell_type": "code",
   "outputs": [
    {
     "data": {
      "text/plain": "Calculating Metrics:   0%|          | 0/4 [00:00<?, ?it/s]",
      "application/vnd.jupyter.widget-view+json": {
       "version_major": 2,
       "version_minor": 0,
       "model_id": "0c2776b46783450bb1e37bfea5f797e5"
      }
     },
     "metadata": {},
     "output_type": "display_data"
    },
    {
     "data": {
      "text/plain": "Calculating Metrics:   0%|          | 0/6 [00:00<?, ?it/s]",
      "application/vnd.jupyter.widget-view+json": {
       "version_major": 2,
       "version_minor": 0,
       "model_id": "b1986f30839d4662985361321ddb2555"
      }
     },
     "metadata": {},
     "output_type": "display_data"
    },
    {
     "data": {
      "text/plain": "Calculating Metrics:   0%|          | 0/4 [00:00<?, ?it/s]",
      "application/vnd.jupyter.widget-view+json": {
       "version_major": 2,
       "version_minor": 0,
       "model_id": "fe17f53ab918454296487c7f2512abfe"
      }
     },
     "metadata": {},
     "output_type": "display_data"
    }
   ],
   "source": [
    "# property_type\n",
    "\n",
    "ex_property_type_timelessness_and_consistency_and_validity = validator.expect_column_distinct_values_to_be_in_set(\n",
    "    column=\"property_type\", \n",
    "    value_set=[\"House\", \"Penthouse\", \"Flat\", \"Farm House\", \"Upper Portion\", \"Lower Portion\", \"Room\"],\n",
    "    meta = {\"dimension\": \"Timelessness and Consistency and Validity\"}\n",
    ")\n",
    "\n",
    "ex_property_type_completeness = validator.expect_column_values_to_not_be_null(\n",
    "    column=\"property_type\", \n",
    "    meta = {\"dimension\": \"Completeness\"}\n",
    ")\n",
    "\n",
    "ex_property_type_uniqueness = validator.expect_column_unique_value_count_to_be_between(\n",
    "    column=\"property_type\", \n",
    "    min_value=5, \n",
    "    max_value=9, \n",
    "    meta = {\"dimension\": \"Uniqueness\"}\n",
    ")\n",
    "\n"
   ],
   "metadata": {
    "collapsed": false,
    "ExecuteTime": {
     "start_time": "2024-07-08T11:10:43.884850Z"
    }
   },
   "id": "9bbaaea2e836530f",
   "execution_count": 40
  },
  {
   "cell_type": "code",
   "outputs": [],
   "source": [
    "assert ex_property_type_timelessness_and_consistency_and_validity['success']\n",
    "assert ex_property_type_completeness['success']\n",
    "assert ex_property_type_uniqueness['success']"
   ],
   "metadata": {
    "collapsed": false
   },
   "id": "d8d8292ad28eda84",
   "execution_count": 41
  },
  {
   "cell_type": "code",
   "outputs": [],
   "source": [
    "\n",
    "validator.save_expectation_suite(\n",
    "\tdiscard_failed_expectations = False\n",
    ")"
   ],
   "metadata": {
    "collapsed": false
   },
   "id": "1a911c4f42e624fb",
   "execution_count": 42
  },
  {
   "cell_type": "code",
   "outputs": [],
   "source": [
    "# create a checkpoint to validate the data\n",
    "\n",
    "checkpoint = context.add_or_update_checkpoint(\n",
    "    name=\"first_phase_checkpoint\",\n",
    "    validations=[ # A list of validations\n",
    "        {\n",
    "            \"batch_request\": batch_request,\n",
    "            \"expectation_suite_name\": \"first_phase_expectation_suite\",\n",
    "        },\n",
    "    ],\n",
    ")"
   ],
   "metadata": {
    "collapsed": false,
    "ExecuteTime": {
     "start_time": "2024-07-08T11:10:43.886848Z"
    }
   },
   "id": "a70e1a6af519f5b3",
   "execution_count": 43
  },
  {
   "cell_type": "code",
   "outputs": [
    {
     "data": {
      "text/plain": "Calculating Metrics:   0%|          | 0/54 [00:00<?, ?it/s]",
      "application/vnd.jupyter.widget-view+json": {
       "version_major": 2,
       "version_minor": 0,
       "model_id": "e36fe25243fc4418a6ff4f4c1ad348b3"
      }
     },
     "metadata": {},
     "output_type": "display_data"
    }
   ],
   "source": [
    "# validate the data\n",
    "results = checkpoint.run()"
   ],
   "metadata": {
    "collapsed": false,
    "ExecuteTime": {
     "start_time": "2024-07-08T11:10:43.887848Z"
    }
   },
   "id": "cfe9bbe0d66a45bb",
   "execution_count": 44
  },
  {
   "cell_type": "code",
   "outputs": [
    {
     "data": {
      "text/plain": "True"
     },
     "execution_count": 45,
     "metadata": {},
     "output_type": "execute_result"
    }
   ],
   "source": [
    "results.success"
   ],
   "metadata": {
    "collapsed": false
   },
   "id": "72a9c1934719b637",
   "execution_count": 45
  },
  {
   "cell_type": "code",
   "outputs": [],
   "source": [
    "# Build the data docs (website files)\n",
    "context.build_data_docs()\n",
    "\n",
    "# Open the data docs in a browser\n",
    "context.open_data_docs()"
   ],
   "metadata": {
    "collapsed": false,
    "ExecuteTime": {
     "start_time": "2024-07-08T11:10:43.888847Z"
    }
   },
   "id": "b814a1ddec5d14b4",
   "execution_count": 46
  },
  {
   "cell_type": "code",
   "outputs": [],
   "source": [
    "retrieved_checkpoint = context.get_checkpoint(name=\"first_phase_checkpoint\")"
   ],
   "metadata": {
    "collapsed": false,
    "ExecuteTime": {
     "start_time": "2024-07-08T11:10:43.889846Z"
    }
   },
   "id": "7c6355a9cd09b3ce",
   "execution_count": 47
  }
 ],
 "metadata": {
  "kernelspec": {
   "display_name": "Python 3",
   "language": "python",
   "name": "python3"
  },
  "language_info": {
   "codemirror_mode": {
    "name": "ipython",
    "version": 2
   },
   "file_extension": ".py",
   "mimetype": "text/x-python",
   "name": "python",
   "nbconvert_exporter": "python",
   "pygments_lexer": "ipython2",
   "version": "2.7.6"
  }
 },
 "nbformat": 4,
 "nbformat_minor": 5
}
