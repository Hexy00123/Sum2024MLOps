{
 "cells": [
  {
   "cell_type": "code",
   "execution_count": 1,
   "id": "c5eb80217681ccae",
   "metadata": {
    "collapsed": false,
    "ExecuteTime": {
     "end_time": "2024-06-19T22:40:31.833699Z",
     "start_time": "2024-06-19T22:40:29.648961Z"
    }
   },
   "outputs": [],
   "source": [
    "# read the data/samples/sample.csv file\n",
    "import pandas as pd\n",
    "import great_expectations as gx\n",
    "from great_expectations.data_context import FileDataContext"
   ]
  },
  {
   "cell_type": "code",
   "outputs": [],
   "source": [
    "df = pd.read_csv('../data/samples/sample.csv')\n",
    "# df = pd.read_csv('../data/zameen-updated.csv')"
   ],
   "metadata": {
    "collapsed": true,
    "ExecuteTime": {
     "end_time": "2024-06-19T22:40:31.957967Z",
     "start_time": "2024-06-19T22:40:31.834704Z"
    }
   },
   "id": "initial_id",
   "execution_count": 2
  },
  {
   "cell_type": "code",
   "outputs": [
    {
     "data": {
      "text/plain": "   property_id  location_id  \\\n0     13979008         3696   \n1     14053499         1451   \n2     14117380          756   \n3     14052338           69   \n4     14034663         1553   \n\n                                            page_url property_type     price  \\\n0  https://www.zameen.com/Property/chinar_bagh_ch...         House  13000000   \n1  https://www.zameen.com/Property/dha_defence_dh...         House  46000000   \n2  https://www.zameen.com/Property/lahore_bor_boa...         House   7500000   \n3  https://www.zameen.com/Property/lahore_cavalry...         House  12500000   \n4  https://www.zameen.com/Property/model_town_mod...         House  65000000   \n\n                                 location    city province_name   latitude  \\\n0                             Chinar Bagh  Lahore        Punjab  31.321454   \n1                             DHA Defence  Lahore        Punjab  31.494408   \n2  BOR - Board of Revenue Housing Society  Lahore        Punjab  31.478452   \n3                          Cavalry Ground  Lahore        Punjab  31.492705   \n4                              Model Town  Lahore        Punjab  31.476915   \n\n   longitude  baths     area   purpose  bedrooms  date_added  \\\n0  74.239497      0  1 Kanal  For Sale         6  01-03-2019   \n1  74.437666      7  1 Kanal  For Sale         6  01-03-2019   \n2  74.296846      4  3 Marla  For Sale         4  01-03-2019   \n3  74.367093      3  5 Marla  For Sale         3  01-03-2019   \n4  74.324641      0  1 Kanal  For Sale         4  01-03-2019   \n\n                          agency                        agent Area Type  \\\n0  Niazi Real Estate & Marketing  Agha Mansoor Ali Khan Niazi     Kanal   \n1                            NaN                          NaN     Kanal   \n2                            NaN                          NaN     Marla   \n3                            NaN                          NaN     Marla   \n4                            NaN                          NaN     Kanal   \n\n   Area Size Area Category  \n0        1.0     1-5 Kanal  \n1        1.0     1-5 Kanal  \n2        3.0     0-5 Marla  \n3        5.0     0-5 Marla  \n4        1.0     1-5 Kanal  ",
      "text/html": "<div>\n<style scoped>\n    .dataframe tbody tr th:only-of-type {\n        vertical-align: middle;\n    }\n\n    .dataframe tbody tr th {\n        vertical-align: top;\n    }\n\n    .dataframe thead th {\n        text-align: right;\n    }\n</style>\n<table border=\"1\" class=\"dataframe\">\n  <thead>\n    <tr style=\"text-align: right;\">\n      <th></th>\n      <th>property_id</th>\n      <th>location_id</th>\n      <th>page_url</th>\n      <th>property_type</th>\n      <th>price</th>\n      <th>location</th>\n      <th>city</th>\n      <th>province_name</th>\n      <th>latitude</th>\n      <th>longitude</th>\n      <th>baths</th>\n      <th>area</th>\n      <th>purpose</th>\n      <th>bedrooms</th>\n      <th>date_added</th>\n      <th>agency</th>\n      <th>agent</th>\n      <th>Area Type</th>\n      <th>Area Size</th>\n      <th>Area Category</th>\n    </tr>\n  </thead>\n  <tbody>\n    <tr>\n      <th>0</th>\n      <td>13979008</td>\n      <td>3696</td>\n      <td>https://www.zameen.com/Property/chinar_bagh_ch...</td>\n      <td>House</td>\n      <td>13000000</td>\n      <td>Chinar Bagh</td>\n      <td>Lahore</td>\n      <td>Punjab</td>\n      <td>31.321454</td>\n      <td>74.239497</td>\n      <td>0</td>\n      <td>1 Kanal</td>\n      <td>For Sale</td>\n      <td>6</td>\n      <td>01-03-2019</td>\n      <td>Niazi Real Estate &amp; Marketing</td>\n      <td>Agha Mansoor Ali Khan Niazi</td>\n      <td>Kanal</td>\n      <td>1.0</td>\n      <td>1-5 Kanal</td>\n    </tr>\n    <tr>\n      <th>1</th>\n      <td>14053499</td>\n      <td>1451</td>\n      <td>https://www.zameen.com/Property/dha_defence_dh...</td>\n      <td>House</td>\n      <td>46000000</td>\n      <td>DHA Defence</td>\n      <td>Lahore</td>\n      <td>Punjab</td>\n      <td>31.494408</td>\n      <td>74.437666</td>\n      <td>7</td>\n      <td>1 Kanal</td>\n      <td>For Sale</td>\n      <td>6</td>\n      <td>01-03-2019</td>\n      <td>NaN</td>\n      <td>NaN</td>\n      <td>Kanal</td>\n      <td>1.0</td>\n      <td>1-5 Kanal</td>\n    </tr>\n    <tr>\n      <th>2</th>\n      <td>14117380</td>\n      <td>756</td>\n      <td>https://www.zameen.com/Property/lahore_bor_boa...</td>\n      <td>House</td>\n      <td>7500000</td>\n      <td>BOR - Board of Revenue Housing Society</td>\n      <td>Lahore</td>\n      <td>Punjab</td>\n      <td>31.478452</td>\n      <td>74.296846</td>\n      <td>4</td>\n      <td>3 Marla</td>\n      <td>For Sale</td>\n      <td>4</td>\n      <td>01-03-2019</td>\n      <td>NaN</td>\n      <td>NaN</td>\n      <td>Marla</td>\n      <td>3.0</td>\n      <td>0-5 Marla</td>\n    </tr>\n    <tr>\n      <th>3</th>\n      <td>14052338</td>\n      <td>69</td>\n      <td>https://www.zameen.com/Property/lahore_cavalry...</td>\n      <td>House</td>\n      <td>12500000</td>\n      <td>Cavalry Ground</td>\n      <td>Lahore</td>\n      <td>Punjab</td>\n      <td>31.492705</td>\n      <td>74.367093</td>\n      <td>3</td>\n      <td>5 Marla</td>\n      <td>For Sale</td>\n      <td>3</td>\n      <td>01-03-2019</td>\n      <td>NaN</td>\n      <td>NaN</td>\n      <td>Marla</td>\n      <td>5.0</td>\n      <td>0-5 Marla</td>\n    </tr>\n    <tr>\n      <th>4</th>\n      <td>14034663</td>\n      <td>1553</td>\n      <td>https://www.zameen.com/Property/model_town_mod...</td>\n      <td>House</td>\n      <td>65000000</td>\n      <td>Model Town</td>\n      <td>Lahore</td>\n      <td>Punjab</td>\n      <td>31.476915</td>\n      <td>74.324641</td>\n      <td>0</td>\n      <td>1 Kanal</td>\n      <td>For Sale</td>\n      <td>4</td>\n      <td>01-03-2019</td>\n      <td>NaN</td>\n      <td>NaN</td>\n      <td>Kanal</td>\n      <td>1.0</td>\n      <td>1-5 Kanal</td>\n    </tr>\n  </tbody>\n</table>\n</div>"
     },
     "execution_count": 3,
     "metadata": {},
     "output_type": "execute_result"
    }
   ],
   "source": [
    "df.head()"
   ],
   "metadata": {
    "collapsed": false,
    "ExecuteTime": {
     "end_time": "2024-06-19T22:40:31.972844Z",
     "start_time": "2024-06-19T22:40:31.958974Z"
    }
   },
   "id": "b49d1a900a809de2",
   "execution_count": 3
  },
  {
   "cell_type": "code",
   "outputs": [
    {
     "name": "stdout",
     "output_type": "stream",
     "text": [
      "<class 'pandas.core.frame.DataFrame'>\n",
      "RangeIndex: 33689 entries, 0 to 33688\n",
      "Data columns (total 20 columns):\n",
      " #   Column         Non-Null Count  Dtype  \n",
      "---  ------         --------------  -----  \n",
      " 0   property_id    33689 non-null  int64  \n",
      " 1   location_id    33689 non-null  int64  \n",
      " 2   page_url       33689 non-null  object \n",
      " 3   property_type  33689 non-null  object \n",
      " 4   price          33689 non-null  int64  \n",
      " 5   location       33689 non-null  object \n",
      " 6   city           33689 non-null  object \n",
      " 7   province_name  33689 non-null  object \n",
      " 8   latitude       33689 non-null  float64\n",
      " 9   longitude      33689 non-null  float64\n",
      " 10  baths          33689 non-null  int64  \n",
      " 11  area           33689 non-null  object \n",
      " 12  purpose        33689 non-null  object \n",
      " 13  bedrooms       33689 non-null  int64  \n",
      " 14  date_added     33689 non-null  object \n",
      " 15  agency         19014 non-null  object \n",
      " 16  agent          19014 non-null  object \n",
      " 17  Area Type      33689 non-null  object \n",
      " 18  Area Size      33689 non-null  float64\n",
      " 19  Area Category  33689 non-null  object \n",
      "dtypes: float64(3), int64(5), object(12)\n",
      "memory usage: 5.1+ MB\n"
     ]
    }
   ],
   "source": [
    "df.info()"
   ],
   "metadata": {
    "collapsed": false,
    "ExecuteTime": {
     "end_time": "2024-06-19T22:40:31.994304Z",
     "start_time": "2024-06-19T22:40:31.973927Z"
    }
   },
   "id": "809022ce3373bada",
   "execution_count": 4
  },
  {
   "cell_type": "code",
   "outputs": [
    {
     "data": {
      "text/plain": "{\n  \"anonymous_usage_statistics\": {\n    \"explicit_id\": true,\n    \"usage_statistics_url\": \"https://stats.greatexpectations.io/great_expectations/v1/usage_statistics\",\n    \"explicit_url\": false,\n    \"data_context_id\": \"fda37b1f-28d8-4588-aeaf-330261aafd30\",\n    \"enabled\": true\n  },\n  \"checkpoint_store_name\": \"checkpoint_store\",\n  \"config_variables_file_path\": \"uncommitted/config_variables.yml\",\n  \"config_version\": 3.0,\n  \"data_docs_sites\": {\n    \"local_site\": {\n      \"class_name\": \"SiteBuilder\",\n      \"show_how_to_buttons\": true,\n      \"store_backend\": {\n        \"class_name\": \"TupleFilesystemStoreBackend\",\n        \"base_directory\": \"uncommitted/data_docs/local_site/\"\n      },\n      \"site_index_builder\": {\n        \"class_name\": \"DefaultSiteIndexBuilder\"\n      }\n    }\n  },\n  \"datasources\": {},\n  \"evaluation_parameter_store_name\": \"evaluation_parameter_store\",\n  \"expectations_store_name\": \"expectations_store\",\n  \"fluent_datasources\": {\n    \"first_ds\": {\n      \"type\": \"pandas\",\n      \"assets\": {\n        \"asset01\": {\n          \"type\": \"csv\",\n          \"filepath_or_buffer\": \"..\\\\data\\\\samples\\\\sample.csv\"\n        }\n      }\n    }\n  },\n  \"include_rendered_content\": {\n    \"expectation_suite\": false,\n    \"globally\": false,\n    \"expectation_validation_result\": false\n  },\n  \"plugins_directory\": \"plugins/\",\n  \"stores\": {\n    \"expectations_store\": {\n      \"class_name\": \"ExpectationsStore\",\n      \"store_backend\": {\n        \"class_name\": \"TupleFilesystemStoreBackend\",\n        \"base_directory\": \"expectations/\"\n      }\n    },\n    \"validations_store\": {\n      \"class_name\": \"ValidationsStore\",\n      \"store_backend\": {\n        \"class_name\": \"TupleFilesystemStoreBackend\",\n        \"base_directory\": \"uncommitted/validations/\"\n      }\n    },\n    \"evaluation_parameter_store\": {\n      \"class_name\": \"EvaluationParameterStore\"\n    },\n    \"checkpoint_store\": {\n      \"class_name\": \"CheckpointStore\",\n      \"store_backend\": {\n        \"class_name\": \"TupleFilesystemStoreBackend\",\n        \"suppress_store_backend_id\": true,\n        \"base_directory\": \"checkpoints/\"\n      }\n    },\n    \"profiler_store\": {\n      \"class_name\": \"ProfilerStore\",\n      \"store_backend\": {\n        \"class_name\": \"TupleFilesystemStoreBackend\",\n        \"suppress_store_backend_id\": true,\n        \"base_directory\": \"profilers/\"\n      }\n    }\n  },\n  \"validations_store_name\": \"validations_store\"\n}"
     },
     "execution_count": 5,
     "metadata": {},
     "output_type": "execute_result"
    }
   ],
   "source": [
    "context = FileDataContext(context_root_dir = \"../services/gx\")\n",
    "context"
   ],
   "metadata": {
    "collapsed": false,
    "ExecuteTime": {
     "end_time": "2024-06-19T22:40:32.059860Z",
     "start_time": "2024-06-19T22:40:31.995458Z"
    }
   },
   "id": "6533ee7fda6558e8",
   "execution_count": 5
  },
  {
   "cell_type": "code",
   "outputs": [],
   "source": [
    "ds = context.sources.add_or_update_pandas(name=\"first_ds\")\n",
    "\n",
    "da = ds.add_csv_asset(\n",
    "    name = \"asset01\",\n",
    "    filepath_or_buffer=\"../data/samples/sample.csv\",\n",
    ")"
   ],
   "metadata": {
    "collapsed": false,
    "ExecuteTime": {
     "end_time": "2024-06-19T22:40:32.077100Z",
     "start_time": "2024-06-19T22:40:32.059860Z"
    }
   },
   "id": "6a85b727aae7a9ab",
   "execution_count": 6
  },
  {
   "cell_type": "code",
   "outputs": [],
   "source": [
    "batch_request = da.build_batch_request()\n",
    "\n",
    "batches = da.get_batch_list_from_batch_request(batch_request)\n"
   ],
   "metadata": {
    "collapsed": false,
    "ExecuteTime": {
     "end_time": "2024-06-19T22:40:32.237742Z",
     "start_time": "2024-06-19T22:40:32.077159Z"
    }
   },
   "id": "a94b8a49fb6b183a",
   "execution_count": 7
  },
  {
   "cell_type": "code",
   "outputs": [],
   "source": [
    "# use head to get the first 5 rows\n",
    "data_asset = context.get_datasource(\"first_ds\").get_asset(\"asset01\")\n",
    "batch_request = data_asset.build_batch_request()"
   ],
   "metadata": {
    "collapsed": false,
    "ExecuteTime": {
     "end_time": "2024-06-19T22:40:32.241172Z",
     "start_time": "2024-06-19T22:40:32.237742Z"
    }
   },
   "id": "467380856c9217ff",
   "execution_count": 8
  },
  {
   "cell_type": "code",
   "outputs": [
    {
     "data": {
      "text/plain": "['first_expectation_suite']"
     },
     "execution_count": 9,
     "metadata": {},
     "output_type": "execute_result"
    }
   ],
   "source": [
    "# create expectations\n",
    "context.add_or_update_expectation_suite(\"first_expectation_suite\")\n",
    "context.list_expectation_suite_names()\n"
   ],
   "metadata": {
    "collapsed": false,
    "ExecuteTime": {
     "end_time": "2024-06-19T22:40:32.324182Z",
     "start_time": "2024-06-19T22:40:32.241240Z"
    }
   },
   "id": "93185ea1a38a556d",
   "execution_count": 9
  },
  {
   "cell_type": "code",
   "outputs": [
    {
     "data": {
      "text/plain": "Calculating Metrics:   0%|          | 0/1 [00:00<?, ?it/s]",
      "application/vnd.jupyter.widget-view+json": {
       "version_major": 2,
       "version_minor": 0,
       "model_id": "6eeedb9c90164201868cf9e807577b88"
      }
     },
     "metadata": {},
     "output_type": "display_data"
    },
    {
     "name": "stdout",
     "output_type": "stream",
     "text": [
      "   property_id  location_id  \\\n",
      "0     13979008         3696   \n",
      "1     14053499         1451   \n",
      "2     14117380          756   \n",
      "3     14052338           69   \n",
      "4     14034663         1553   \n",
      "\n",
      "                                            page_url property_type     price  \\\n",
      "0  https://www.zameen.com/Property/chinar_bagh_ch...         House  13000000   \n",
      "1  https://www.zameen.com/Property/dha_defence_dh...         House  46000000   \n",
      "2  https://www.zameen.com/Property/lahore_bor_boa...         House   7500000   \n",
      "3  https://www.zameen.com/Property/lahore_cavalry...         House  12500000   \n",
      "4  https://www.zameen.com/Property/model_town_mod...         House  65000000   \n",
      "\n",
      "                                 location    city province_name   latitude  \\\n",
      "0                             Chinar Bagh  Lahore        Punjab  31.321454   \n",
      "1                             DHA Defence  Lahore        Punjab  31.494408   \n",
      "2  BOR - Board of Revenue Housing Society  Lahore        Punjab  31.478452   \n",
      "3                          Cavalry Ground  Lahore        Punjab  31.492705   \n",
      "4                              Model Town  Lahore        Punjab  31.476915   \n",
      "\n",
      "   longitude  baths     area   purpose  bedrooms  date_added  \\\n",
      "0  74.239497      0  1 Kanal  For Sale         6  01-03-2019   \n",
      "1  74.437666      7  1 Kanal  For Sale         6  01-03-2019   \n",
      "2  74.296846      4  3 Marla  For Sale         4  01-03-2019   \n",
      "3  74.367093      3  5 Marla  For Sale         3  01-03-2019   \n",
      "4  74.324641      0  1 Kanal  For Sale         4  01-03-2019   \n",
      "\n",
      "                          agency                        agent Area Type  \\\n",
      "0  Niazi Real Estate & Marketing  Agha Mansoor Ali Khan Niazi     Kanal   \n",
      "1                            NaN                          NaN     Kanal   \n",
      "2                            NaN                          NaN     Marla   \n",
      "3                            NaN                          NaN     Marla   \n",
      "4                            NaN                          NaN     Kanal   \n",
      "\n",
      "   Area Size Area Category  \n",
      "0        1.0     1-5 Kanal  \n",
      "1        1.0     1-5 Kanal  \n",
      "2        3.0     0-5 Marla  \n",
      "3        5.0     0-5 Marla  \n",
      "4        1.0     1-5 Kanal  \n"
     ]
    }
   ],
   "source": [
    "# Create a validator\n",
    "validator = context.get_validator(\n",
    "    batch_request=batch_request,\n",
    "    expectation_suite_name=\"first_expectation_suite\",\n",
    ")\n",
    "print(validator.head())\n"
   ],
   "metadata": {
    "collapsed": false,
    "ExecuteTime": {
     "end_time": "2024-06-19T22:40:32.519829Z",
     "start_time": "2024-06-19T22:40:32.324237Z"
    }
   },
   "id": "8cb44dae307f9f61",
   "execution_count": 10
  },
  {
   "cell_type": "code",
   "outputs": [
    {
     "data": {
      "text/plain": "Calculating Metrics:   0%|          | 0/1 [00:00<?, ?it/s]",
      "application/vnd.jupyter.widget-view+json": {
       "version_major": 2,
       "version_minor": 0,
       "model_id": "e29798319ea5488eb47d4f1d3b9fe32a"
      }
     },
     "metadata": {},
     "output_type": "display_data"
    },
    {
     "data": {
      "text/plain": "Calculating Metrics:   0%|          | 0/6 [00:00<?, ?it/s]",
      "application/vnd.jupyter.widget-view+json": {
       "version_major": 2,
       "version_minor": 0,
       "model_id": "9b42f551b0a44e52897a5d12114d83da"
      }
     },
     "metadata": {},
     "output_type": "display_data"
    },
    {
     "data": {
      "text/plain": "Calculating Metrics:   0%|          | 0/6 [00:00<?, ?it/s]",
      "application/vnd.jupyter.widget-view+json": {
       "version_major": 2,
       "version_minor": 0,
       "model_id": "253d8deaade545409b9910b61bb8f7d2"
      }
     },
     "metadata": {},
     "output_type": "display_data"
    }
   ],
   "source": [
    "# create expectations\n",
    "validator.expect_table_row_count_to_be_between(min_value=33689, max_value=168446)\n",
    "\n",
    "validator.expect_column_values_to_not_be_null(\n",
    "\tcolumn=\"property_id\"\n",
    ")\n",
    "\n",
    "validator.expect_column_values_to_not_be_null(\n",
    "\tcolumn=\"location_id\"\n",
    ")\n",
    "\n",
    "# validator.expect_column_values_to_not_be_null(\n",
    "# \tcolumn=\"agency\"\n",
    "# )\n",
    "\n",
    "validator.save_expectation_suite(\n",
    "\tdiscard_failed_expectations = False\n",
    ")"
   ],
   "metadata": {
    "collapsed": false,
    "ExecuteTime": {
     "end_time": "2024-06-19T22:40:32.578447Z",
     "start_time": "2024-06-19T22:40:32.519893Z"
    }
   },
   "id": "1a911c4f42e624fb",
   "execution_count": 11
  },
  {
   "cell_type": "code",
   "outputs": [],
   "source": [
    "# create a checkpoint to validate the data\n",
    "\n",
    "checkpoint = context.add_or_update_checkpoint(\n",
    "    name=\"first_checkpoint\",\n",
    "    validations=[ # A list of validations\n",
    "        {\n",
    "            \"batch_request\": batch_request,\n",
    "            \"expectation_suite_name\": \"first_expectation_suite\",\n",
    "        },\n",
    "    ],\n",
    ")"
   ],
   "metadata": {
    "collapsed": false,
    "ExecuteTime": {
     "end_time": "2024-06-19T22:40:32.588599Z",
     "start_time": "2024-06-19T22:40:32.579456Z"
    }
   },
   "id": "a70e1a6af519f5b3",
   "execution_count": 12
  },
  {
   "cell_type": "code",
   "outputs": [
    {
     "data": {
      "text/plain": "Calculating Metrics:   0%|          | 0/13 [00:00<?, ?it/s]",
      "application/vnd.jupyter.widget-view+json": {
       "version_major": 2,
       "version_minor": 0,
       "model_id": "4bf62bf4939d4cac9b2e673da5c0d18b"
      }
     },
     "metadata": {},
     "output_type": "display_data"
    }
   ],
   "source": [
    "# validate the data\n",
    "results = checkpoint.run()"
   ],
   "metadata": {
    "collapsed": false,
    "ExecuteTime": {
     "end_time": "2024-06-19T22:40:33.075275Z",
     "start_time": "2024-06-19T22:40:32.589605Z"
    }
   },
   "id": "cfe9bbe0d66a45bb",
   "execution_count": 13
  },
  {
   "cell_type": "code",
   "outputs": [
    {
     "data": {
      "text/plain": "True"
     },
     "execution_count": 17,
     "metadata": {},
     "output_type": "execute_result"
    }
   ],
   "source": [
    "results.success"
   ],
   "metadata": {
    "collapsed": false,
    "ExecuteTime": {
     "end_time": "2024-06-19T22:58:41.125055Z",
     "start_time": "2024-06-19T22:58:41.121517Z"
    }
   },
   "id": "72a9c1934719b637",
   "execution_count": 17
  },
  {
   "cell_type": "code",
   "outputs": [],
   "source": [
    "# Build the data docs (website files)\n",
    "context.build_data_docs()\n",
    "\n",
    "# Open the data docs in a browser\n",
    "context.open_data_docs()"
   ],
   "metadata": {
    "collapsed": false,
    "ExecuteTime": {
     "end_time": "2024-06-19T22:40:33.390510Z",
     "start_time": "2024-06-19T22:40:33.084669Z"
    }
   },
   "id": "b814a1ddec5d14b4",
   "execution_count": 15
  },
  {
   "cell_type": "code",
   "outputs": [],
   "source": [
    "retrieved_checkpoint = context.get_checkpoint(name=\"first_checkpoint\")\n"
   ],
   "metadata": {
    "collapsed": false,
    "ExecuteTime": {
     "end_time": "2024-06-19T22:40:33.402743Z",
     "start_time": "2024-06-19T22:40:33.391747Z"
    }
   },
   "id": "7c6355a9cd09b3ce",
   "execution_count": 16
  }
 ],
 "metadata": {
  "kernelspec": {
   "display_name": "Python 3",
   "language": "python",
   "name": "python3"
  },
  "language_info": {
   "codemirror_mode": {
    "name": "ipython",
    "version": 2
   },
   "file_extension": ".py",
   "mimetype": "text/x-python",
   "name": "python",
   "nbconvert_exporter": "python",
   "pygments_lexer": "ipython2",
   "version": "2.7.6"
  }
 },
 "nbformat": 4,
 "nbformat_minor": 5
}
