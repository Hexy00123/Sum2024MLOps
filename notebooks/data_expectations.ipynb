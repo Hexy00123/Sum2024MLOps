{
 "cells": [
  {
   "cell_type": "code",
   "execution_count": 1,
   "id": "5a891277e044ad9e",
   "metadata": {
    "ExecuteTime": {
     "end_time": "2024-07-08T11:10:41.331648Z",
     "start_time": "2024-07-08T11:10:39.288665Z"
    },
    "collapsed": false
   },
   "outputs": [
    {
     "name": "stdout",
     "output_type": "stream",
     "text": [
      "/home/sshk/project/notebooks\n",
      "/home/sshk/project\n"
     ]
    }
   ],
   "source": [
    "import pandas as pd\n",
    "from great_expectations.data_context import FileDataContext\n",
    "import os\n",
    "\n",
    "print(os.getcwd())\n",
    "# leave to the directory one level up\n",
    "os.chdir(\"../\")\n",
    "\n",
    "print(os.getcwd())"
   ]
  },
  {
   "cell_type": "code",
   "execution_count": 2,
   "id": "2b1ecb25da4bdece",
   "metadata": {
    "ExecuteTime": {
     "end_time": "2024-07-08T11:10:41.452373Z",
     "start_time": "2024-07-08T11:10:41.332655Z"
    },
    "collapsed": false
   },
   "outputs": [],
   "source": [
    "relative_path = 'data/samples/sample.csv'\n",
    "df = pd.read_csv(relative_path)"
   ]
  },
  {
   "cell_type": "code",
   "execution_count": 3,
   "id": "b49d1a900a809de2",
   "metadata": {
    "ExecuteTime": {
     "end_time": "2024-07-08T11:10:41.466816Z",
     "start_time": "2024-07-08T11:10:41.453379Z"
    },
    "collapsed": false
   },
   "outputs": [
    {
     "data": {
      "text/html": [
       "<div>\n",
       "<style scoped>\n",
       "    .dataframe tbody tr th:only-of-type {\n",
       "        vertical-align: middle;\n",
       "    }\n",
       "\n",
       "    .dataframe tbody tr th {\n",
       "        vertical-align: top;\n",
       "    }\n",
       "\n",
       "    .dataframe thead th {\n",
       "        text-align: right;\n",
       "    }\n",
       "</style>\n",
       "<table border=\"1\" class=\"dataframe\">\n",
       "  <thead>\n",
       "    <tr style=\"text-align: right;\">\n",
       "      <th></th>\n",
       "      <th>property_id</th>\n",
       "      <th>location_id</th>\n",
       "      <th>page_url</th>\n",
       "      <th>property_type</th>\n",
       "      <th>price</th>\n",
       "      <th>location</th>\n",
       "      <th>city</th>\n",
       "      <th>province_name</th>\n",
       "      <th>latitude</th>\n",
       "      <th>longitude</th>\n",
       "      <th>baths</th>\n",
       "      <th>area</th>\n",
       "      <th>purpose</th>\n",
       "      <th>bedrooms</th>\n",
       "      <th>date_added</th>\n",
       "      <th>agency</th>\n",
       "      <th>agent</th>\n",
       "      <th>Area Type</th>\n",
       "      <th>Area Size</th>\n",
       "      <th>Area Category</th>\n",
       "    </tr>\n",
       "  </thead>\n",
       "  <tbody>\n",
       "    <tr>\n",
       "      <th>0</th>\n",
       "      <td>17252255</td>\n",
       "      <td>67</td>\n",
       "      <td>https://www.zameen.com/Property/lahore_canal_v...</td>\n",
       "      <td>House</td>\n",
       "      <td>53000000</td>\n",
       "      <td>Canal View</td>\n",
       "      <td>Lahore</td>\n",
       "      <td>Punjab</td>\n",
       "      <td>31.478159</td>\n",
       "      <td>74.254017</td>\n",
       "      <td>5</td>\n",
       "      <td>2.0 Kanal</td>\n",
       "      <td>For Sale</td>\n",
       "      <td>5</td>\n",
       "      <td>07-15-2019</td>\n",
       "      <td>Sana Enterprises Real Estate</td>\n",
       "      <td>Engineer Ahtesham sb</td>\n",
       "      <td>Kanal</td>\n",
       "      <td>2.0</td>\n",
       "      <td>1-5 Kanal</td>\n",
       "    </tr>\n",
       "    <tr>\n",
       "      <th>1</th>\n",
       "      <td>17281578</td>\n",
       "      <td>335</td>\n",
       "      <td>https://www.zameen.com/Property/islamabad_f_17...</td>\n",
       "      <td>Flat</td>\n",
       "      <td>4400000</td>\n",
       "      <td>F-17</td>\n",
       "      <td>Islamabad</td>\n",
       "      <td>Islamabad Capital</td>\n",
       "      <td>33.631987</td>\n",
       "      <td>72.880297</td>\n",
       "      <td>2</td>\n",
       "      <td>3.6 Marla</td>\n",
       "      <td>For Sale</td>\n",
       "      <td>2</td>\n",
       "      <td>07-15-2019</td>\n",
       "      <td>NaN</td>\n",
       "      <td>NaN</td>\n",
       "      <td>Marla</td>\n",
       "      <td>3.6</td>\n",
       "      <td>0-5 Marla</td>\n",
       "    </tr>\n",
       "    <tr>\n",
       "      <th>2</th>\n",
       "      <td>17248355</td>\n",
       "      <td>587</td>\n",
       "      <td>https://www.zameen.com/Property/rawalpindi_kha...</td>\n",
       "      <td>House</td>\n",
       "      <td>15000</td>\n",
       "      <td>Khayaban-e-Sir Syed</td>\n",
       "      <td>Rawalpindi</td>\n",
       "      <td>Punjab</td>\n",
       "      <td>33.638847</td>\n",
       "      <td>73.048089</td>\n",
       "      <td>0</td>\n",
       "      <td>3.0 Marla</td>\n",
       "      <td>For Rent</td>\n",
       "      <td>0</td>\n",
       "      <td>07-15-2019</td>\n",
       "      <td>Mughal Property Dealer</td>\n",
       "      <td>Nadeem Mughal</td>\n",
       "      <td>Marla</td>\n",
       "      <td>3.0</td>\n",
       "      <td>0-5 Marla</td>\n",
       "    </tr>\n",
       "    <tr>\n",
       "      <th>3</th>\n",
       "      <td>17252060</td>\n",
       "      <td>3945</td>\n",
       "      <td>https://www.zameen.com/Property/johar_town_pha...</td>\n",
       "      <td>House</td>\n",
       "      <td>6000000</td>\n",
       "      <td>Johar Town</td>\n",
       "      <td>Lahore</td>\n",
       "      <td>Punjab</td>\n",
       "      <td>31.458466</td>\n",
       "      <td>74.292161</td>\n",
       "      <td>0</td>\n",
       "      <td>3.5 Marla</td>\n",
       "      <td>For Sale</td>\n",
       "      <td>1</td>\n",
       "      <td>07-15-2019</td>\n",
       "      <td>Faisal Associates</td>\n",
       "      <td>Mr Naveed</td>\n",
       "      <td>Marla</td>\n",
       "      <td>3.5</td>\n",
       "      <td>0-5 Marla</td>\n",
       "    </tr>\n",
       "    <tr>\n",
       "      <th>4</th>\n",
       "      <td>17280689</td>\n",
       "      <td>10664</td>\n",
       "      <td>https://www.zameen.com/Property/g_13_1_lifesty...</td>\n",
       "      <td>Flat</td>\n",
       "      <td>5535000</td>\n",
       "      <td>G-13</td>\n",
       "      <td>Islamabad</td>\n",
       "      <td>Islamabad Capital</td>\n",
       "      <td>33.648606</td>\n",
       "      <td>72.962353</td>\n",
       "      <td>2</td>\n",
       "      <td>6.0 Marla</td>\n",
       "      <td>For Sale</td>\n",
       "      <td>2</td>\n",
       "      <td>07-15-2019</td>\n",
       "      <td>Diamond Real Estate</td>\n",
       "      <td>Sajjad Janjua</td>\n",
       "      <td>Marla</td>\n",
       "      <td>6.0</td>\n",
       "      <td>5-10 Marla</td>\n",
       "    </tr>\n",
       "  </tbody>\n",
       "</table>\n",
       "</div>"
      ],
      "text/plain": [
       "   property_id  location_id  \\\n",
       "0     17252255           67   \n",
       "1     17281578          335   \n",
       "2     17248355          587   \n",
       "3     17252060         3945   \n",
       "4     17280689        10664   \n",
       "\n",
       "                                            page_url property_type     price  \\\n",
       "0  https://www.zameen.com/Property/lahore_canal_v...         House  53000000   \n",
       "1  https://www.zameen.com/Property/islamabad_f_17...          Flat   4400000   \n",
       "2  https://www.zameen.com/Property/rawalpindi_kha...         House     15000   \n",
       "3  https://www.zameen.com/Property/johar_town_pha...         House   6000000   \n",
       "4  https://www.zameen.com/Property/g_13_1_lifesty...          Flat   5535000   \n",
       "\n",
       "              location        city      province_name   latitude  longitude  \\\n",
       "0           Canal View      Lahore             Punjab  31.478159  74.254017   \n",
       "1                 F-17   Islamabad  Islamabad Capital  33.631987  72.880297   \n",
       "2  Khayaban-e-Sir Syed  Rawalpindi             Punjab  33.638847  73.048089   \n",
       "3           Johar Town      Lahore             Punjab  31.458466  74.292161   \n",
       "4                 G-13   Islamabad  Islamabad Capital  33.648606  72.962353   \n",
       "\n",
       "   baths       area   purpose  bedrooms  date_added  \\\n",
       "0      5  2.0 Kanal  For Sale         5  07-15-2019   \n",
       "1      2  3.6 Marla  For Sale         2  07-15-2019   \n",
       "2      0  3.0 Marla  For Rent         0  07-15-2019   \n",
       "3      0  3.5 Marla  For Sale         1  07-15-2019   \n",
       "4      2  6.0 Marla  For Sale         2  07-15-2019   \n",
       "\n",
       "                         agency                 agent Area Type  Area Size  \\\n",
       "0  Sana Enterprises Real Estate  Engineer Ahtesham sb     Kanal        2.0   \n",
       "1                           NaN                   NaN     Marla        3.6   \n",
       "2        Mughal Property Dealer         Nadeem Mughal     Marla        3.0   \n",
       "3             Faisal Associates             Mr Naveed     Marla        3.5   \n",
       "4           Diamond Real Estate         Sajjad Janjua     Marla        6.0   \n",
       "\n",
       "  Area Category  \n",
       "0     1-5 Kanal  \n",
       "1     0-5 Marla  \n",
       "2     0-5 Marla  \n",
       "3     0-5 Marla  \n",
       "4    5-10 Marla  "
      ]
     },
     "execution_count": 3,
     "metadata": {},
     "output_type": "execute_result"
    }
   ],
   "source": [
    "df.head()"
   ]
  },
  {
   "cell_type": "code",
   "execution_count": 4,
   "id": "97a152fd894eba86",
   "metadata": {
    "ExecuteTime": {
     "end_time": "2024-07-08T11:10:42.013101Z",
     "start_time": "2024-07-08T11:10:41.467827Z"
    },
    "collapsed": false
   },
   "outputs": [
    {
     "data": {
      "text/plain": [
       "<Axes: >"
      ]
     },
     "execution_count": 4,
     "metadata": {},
     "output_type": "execute_result"
    },
    {
     "data": {
      "image/png": "[encoded data removed]",
      "text/plain": [
       "<Figure size 640x480 with 1 Axes>"
      ]
     },
     "metadata": {},
     "output_type": "display_data"
    }
   ],
   "source": [
    "df['Area Size'].hist(bins=100)"
   ]
  },
  {
   "cell_type": "code",
   "execution_count": 5,
   "id": "8dcf97336c402e20",
   "metadata": {
    "ExecuteTime": {
     "end_time": "2024-07-08T11:10:42.020788Z",
     "start_time": "2024-07-08T11:10:42.014108Z"
    },
    "collapsed": false
   },
   "outputs": [
    {
     "data": {
      "text/plain": [
       "(13700183.239840897,\n",
       " 1,\n",
       " 90000.0,\n",
       " 6500000.0,\n",
       " 15000000.0,\n",
       " 600000000,\n",
       " 26080487.83306622)"
      ]
     },
     "execution_count": 5,
     "metadata": {},
     "output_type": "execute_result"
    }
   ],
   "source": [
    "# calculate mean and max of the price\n",
    "min_price = df['price'].min()\n",
    "price_25 = df['price'].quantile(0.25)\n",
    "mean_price = df['price'].mean()\n",
    "median_price = df['price'].median()\n",
    "price_75 = df['price'].quantile(0.75)\n",
    "max_price = df['price'].max()\n",
    "std_dev_price = df['price'].std()\n",
    "mean_price, min_price, price_25, median_price, price_75, max_price, std_dev_price"
   ]
  },
  {
   "cell_type": "code",
   "execution_count": 6,
   "id": "3d157ad70468c04",
   "metadata": {
    "ExecuteTime": {
     "end_time": "2024-07-08T11:10:42.026031Z",
     "start_time": "2024-07-08T11:10:42.021796Z"
    },
    "collapsed": false
   },
   "outputs": [
    {
     "name": "stdout",
     "output_type": "stream",
     "text": [
      "0.0 800.0\n"
     ]
    }
   ],
   "source": [
    "min_area = df['Area Size'].min()\n",
    "max_area = df['Area Size'].max()\n",
    "print(round(min_area, 5), max_area)"
   ]
  },
  {
   "cell_type": "code",
   "execution_count": 7,
   "id": "87326527ec448e66",
   "metadata": {
    "ExecuteTime": {
     "end_time": "2024-07-08T11:10:42.031661Z",
     "start_time": "2024-07-08T11:10:42.026613Z"
    },
    "collapsed": false
   },
   "outputs": [
    {
     "data": {
      "text/plain": [
       "(0, 14, 0, 28)"
      ]
     },
     "execution_count": 7,
     "metadata": {},
     "output_type": "execute_result"
    }
   ],
   "source": [
    "min_baths = df['baths'].min()\n",
    "max_baths = df['baths'].max()\n",
    "min_bedrooms = df['bedrooms'].min()\n",
    "max_bedrooms = df['bedrooms'].max()\n",
    "min_baths, max_baths, min_bedrooms, max_bedrooms"
   ]
  },
  {
   "cell_type": "code",
   "execution_count": 8,
   "id": "4ac66263f7d3a834",
   "metadata": {
    "ExecuteTime": {
     "end_time": "2024-07-08T11:10:42.041589Z",
     "start_time": "2024-07-08T11:10:42.032668Z"
    },
    "collapsed": false
   },
   "outputs": [
    {
     "data": {
      "text/html": [
       "<div>\n",
       "<style scoped>\n",
       "    .dataframe tbody tr th:only-of-type {\n",
       "        vertical-align: middle;\n",
       "    }\n",
       "\n",
       "    .dataframe tbody tr th {\n",
       "        vertical-align: top;\n",
       "    }\n",
       "\n",
       "    .dataframe thead th {\n",
       "        text-align: right;\n",
       "    }\n",
       "</style>\n",
       "<table border=\"1\" class=\"dataframe\">\n",
       "  <thead>\n",
       "    <tr style=\"text-align: right;\">\n",
       "      <th></th>\n",
       "      <th>property_id</th>\n",
       "      <th>location_id</th>\n",
       "      <th>page_url</th>\n",
       "      <th>property_type</th>\n",
       "      <th>price</th>\n",
       "      <th>location</th>\n",
       "      <th>city</th>\n",
       "      <th>province_name</th>\n",
       "      <th>latitude</th>\n",
       "      <th>longitude</th>\n",
       "      <th>baths</th>\n",
       "      <th>area</th>\n",
       "      <th>purpose</th>\n",
       "      <th>bedrooms</th>\n",
       "      <th>date_added</th>\n",
       "      <th>agency</th>\n",
       "      <th>agent</th>\n",
       "      <th>Area Type</th>\n",
       "      <th>Area Size</th>\n",
       "      <th>Area Category</th>\n",
       "    </tr>\n",
       "  </thead>\n",
       "  <tbody>\n",
       "    <tr>\n",
       "      <th>6461</th>\n",
       "      <td>17312326</td>\n",
       "      <td>738</td>\n",
       "      <td>https://www.zameen.com/Property/lahore_alfalah...</td>\n",
       "      <td>House</td>\n",
       "      <td>4500000</td>\n",
       "      <td>Alfalah Town</td>\n",
       "      <td>Lahore</td>\n",
       "      <td>Punjab</td>\n",
       "      <td>31.482881</td>\n",
       "      <td>74.418933</td>\n",
       "      <td>2</td>\n",
       "      <td>0.0 Marla</td>\n",
       "      <td>For Sale</td>\n",
       "      <td>2</td>\n",
       "      <td>07-16-2019</td>\n",
       "      <td>Pakistan Real Estate</td>\n",
       "      <td>Pakistan Real Estate</td>\n",
       "      <td>Marla</td>\n",
       "      <td>0.0</td>\n",
       "      <td>0-5 Marla</td>\n",
       "    </tr>\n",
       "    <tr>\n",
       "      <th>13073</th>\n",
       "      <td>17340289</td>\n",
       "      <td>1784</td>\n",
       "      <td>https://www.zameen.com/Property/bahria_town_ba...</td>\n",
       "      <td>House</td>\n",
       "      <td>19500000</td>\n",
       "      <td>Bahria Town</td>\n",
       "      <td>Lahore</td>\n",
       "      <td>Punjab</td>\n",
       "      <td>31.374195</td>\n",
       "      <td>74.191482</td>\n",
       "      <td>7</td>\n",
       "      <td>0.0 Marla</td>\n",
       "      <td>For Sale</td>\n",
       "      <td>5</td>\n",
       "      <td>07-17-2019</td>\n",
       "      <td>Al Ghazi Estate &amp; Builders</td>\n",
       "      <td>Hasnain Raza Zaidi</td>\n",
       "      <td>Marla</td>\n",
       "      <td>0.0</td>\n",
       "      <td>0-5 Marla</td>\n",
       "    </tr>\n",
       "    <tr>\n",
       "      <th>13765</th>\n",
       "      <td>17337222</td>\n",
       "      <td>1378</td>\n",
       "      <td>https://www.zameen.com/Property/islamabad_paki...</td>\n",
       "      <td>Upper Portion</td>\n",
       "      <td>18000</td>\n",
       "      <td>Pakistan Town</td>\n",
       "      <td>Islamabad</td>\n",
       "      <td>Islamabad Capital</td>\n",
       "      <td>33.575405</td>\n",
       "      <td>73.143325</td>\n",
       "      <td>2</td>\n",
       "      <td>0.0 Marla</td>\n",
       "      <td>For Rent</td>\n",
       "      <td>2</td>\n",
       "      <td>07-17-2019</td>\n",
       "      <td>Unique Property</td>\n",
       "      <td>Kishwar Mehmood</td>\n",
       "      <td>Marla</td>\n",
       "      <td>0.0</td>\n",
       "      <td>0-5 Marla</td>\n",
       "    </tr>\n",
       "    <tr>\n",
       "      <th>13767</th>\n",
       "      <td>17337157</td>\n",
       "      <td>1378</td>\n",
       "      <td>https://www.zameen.com/Property/islamabad_paki...</td>\n",
       "      <td>House</td>\n",
       "      <td>35000</td>\n",
       "      <td>Pakistan Town</td>\n",
       "      <td>Islamabad</td>\n",
       "      <td>Islamabad Capital</td>\n",
       "      <td>33.575405</td>\n",
       "      <td>73.143325</td>\n",
       "      <td>4</td>\n",
       "      <td>0.0 Marla</td>\n",
       "      <td>For Rent</td>\n",
       "      <td>4</td>\n",
       "      <td>07-17-2019</td>\n",
       "      <td>Unique Property</td>\n",
       "      <td>Kishwar Mehmood</td>\n",
       "      <td>Marla</td>\n",
       "      <td>0.0</td>\n",
       "      <td>0-5 Marla</td>\n",
       "    </tr>\n",
       "    <tr>\n",
       "      <th>14706</th>\n",
       "      <td>17342798</td>\n",
       "      <td>718</td>\n",
       "      <td>https://www.zameen.com/Property/rawalpindi_ten...</td>\n",
       "      <td>House</td>\n",
       "      <td>5000000</td>\n",
       "      <td>Tench Bhata</td>\n",
       "      <td>Rawalpindi</td>\n",
       "      <td>Punjab</td>\n",
       "      <td>33.584665</td>\n",
       "      <td>73.035436</td>\n",
       "      <td>5</td>\n",
       "      <td>0.0 Marla</td>\n",
       "      <td>For Sale</td>\n",
       "      <td>5</td>\n",
       "      <td>07-17-2019</td>\n",
       "      <td>Gillani Real Estate &amp; Construction</td>\n",
       "      <td>Syed Ahmed Gillani</td>\n",
       "      <td>Marla</td>\n",
       "      <td>0.0</td>\n",
       "      <td>0-5 Marla</td>\n",
       "    </tr>\n",
       "  </tbody>\n",
       "</table>\n",
       "</div>"
      ],
      "text/plain": [
       "       property_id  location_id  \\\n",
       "6461      17312326          738   \n",
       "13073     17340289         1784   \n",
       "13765     17337222         1378   \n",
       "13767     17337157         1378   \n",
       "14706     17342798          718   \n",
       "\n",
       "                                                page_url  property_type  \\\n",
       "6461   https://www.zameen.com/Property/lahore_alfalah...          House   \n",
       "13073  https://www.zameen.com/Property/bahria_town_ba...          House   \n",
       "13765  https://www.zameen.com/Property/islamabad_paki...  Upper Portion   \n",
       "13767  https://www.zameen.com/Property/islamabad_paki...          House   \n",
       "14706  https://www.zameen.com/Property/rawalpindi_ten...          House   \n",
       "\n",
       "          price       location        city      province_name   latitude  \\\n",
       "6461    4500000   Alfalah Town      Lahore             Punjab  31.482881   \n",
       "13073  19500000    Bahria Town      Lahore             Punjab  31.374195   \n",
       "13765     18000  Pakistan Town   Islamabad  Islamabad Capital  33.575405   \n",
       "13767     35000  Pakistan Town   Islamabad  Islamabad Capital  33.575405   \n",
       "14706   5000000    Tench Bhata  Rawalpindi             Punjab  33.584665   \n",
       "\n",
       "       longitude  baths       area   purpose  bedrooms  date_added  \\\n",
       "6461   74.418933      2  0.0 Marla  For Sale         2  07-16-2019   \n",
       "13073  74.191482      7  0.0 Marla  For Sale         5  07-17-2019   \n",
       "13765  73.143325      2  0.0 Marla  For Rent         2  07-17-2019   \n",
       "13767  73.143325      4  0.0 Marla  For Rent         4  07-17-2019   \n",
       "14706  73.035436      5  0.0 Marla  For Sale         5  07-17-2019   \n",
       "\n",
       "                                   agency                 agent Area Type  \\\n",
       "6461                 Pakistan Real Estate  Pakistan Real Estate     Marla   \n",
       "13073          Al Ghazi Estate & Builders    Hasnain Raza Zaidi     Marla   \n",
       "13765                     Unique Property       Kishwar Mehmood     Marla   \n",
       "13767                     Unique Property       Kishwar Mehmood     Marla   \n",
       "14706  Gillani Real Estate & Construction    Syed Ahmed Gillani     Marla   \n",
       "\n",
       "       Area Size Area Category  \n",
       "6461         0.0     0-5 Marla  \n",
       "13073        0.0     0-5 Marla  \n",
       "13765        0.0     0-5 Marla  \n",
       "13767        0.0     0-5 Marla  \n",
       "14706        0.0     0-5 Marla  "
      ]
     },
     "execution_count": 8,
     "metadata": {},
     "output_type": "execute_result"
    }
   ],
   "source": [
    "# count number of 0 in Area Size\n",
    "df[df['Area Size'] == 0]\n"
   ]
  },
  {
   "cell_type": "code",
   "execution_count": 9,
   "id": "5ca9586ec2529b90",
   "metadata": {
    "ExecuteTime": {
     "end_time": "2024-07-08T11:10:42.047761Z",
     "start_time": "2024-07-08T11:10:42.042653Z"
    },
    "collapsed": false
   },
   "outputs": [
    {
     "data": {
      "text/plain": [
       "(47.35670396865446, 47.35967229659533)"
      ]
     },
     "execution_count": 9,
     "metadata": {},
     "output_type": "execute_result"
    }
   ],
   "source": [
    "# count percentage of Null values in agency\n",
    "df['agency'].isnull().sum() / len(df) * 100, df['agent'].isnull().sum() / len(df) * 100"
   ]
  },
  {
   "cell_type": "code",
   "execution_count": 10,
   "id": "79a829617de95f21",
   "metadata": {
    "ExecuteTime": {
     "end_time": "2024-07-08T11:10:42.205322Z",
     "start_time": "2024-07-08T11:10:42.049768Z"
    },
    "collapsed": false
   },
   "outputs": [
    {
     "data": {
      "text/plain": [
       "<Axes: ylabel='Frequency'>"
      ]
     },
     "execution_count": 10,
     "metadata": {},
     "output_type": "execute_result"
    },
    {
     "data": {
      "image/png": "[encoded data removed]",
      "text/plain": [
       "<Figure size 640x480 with 1 Axes>"
      ]
     },
     "metadata": {},
     "output_type": "display_data"
    }
   ],
   "source": [
    "# plot the price distribution\n",
    "df['price'].plot.hist(bins=100)"
   ]
  },
  {
   "cell_type": "code",
   "execution_count": 11,
   "id": "7a76fe3c2daf022a",
   "metadata": {
    "ExecuteTime": {
     "end_time": "2024-07-08T11:10:42.215373Z",
     "start_time": "2024-07-08T11:10:42.206332Z"
    },
    "collapsed": false
   },
   "outputs": [
    {
     "data": {
      "text/html": [
       "<div>\n",
       "<style scoped>\n",
       "    .dataframe tbody tr th:only-of-type {\n",
       "        vertical-align: middle;\n",
       "    }\n",
       "\n",
       "    .dataframe tbody tr th {\n",
       "        vertical-align: top;\n",
       "    }\n",
       "\n",
       "    .dataframe thead th {\n",
       "        text-align: right;\n",
       "    }\n",
       "</style>\n",
       "<table border=\"1\" class=\"dataframe\">\n",
       "  <thead>\n",
       "    <tr style=\"text-align: right;\">\n",
       "      <th></th>\n",
       "      <th>property_id</th>\n",
       "      <th>location_id</th>\n",
       "      <th>page_url</th>\n",
       "      <th>property_type</th>\n",
       "      <th>price</th>\n",
       "      <th>location</th>\n",
       "      <th>city</th>\n",
       "      <th>province_name</th>\n",
       "      <th>latitude</th>\n",
       "      <th>longitude</th>\n",
       "      <th>baths</th>\n",
       "      <th>area</th>\n",
       "      <th>purpose</th>\n",
       "      <th>bedrooms</th>\n",
       "      <th>date_added</th>\n",
       "      <th>agency</th>\n",
       "      <th>agent</th>\n",
       "      <th>Area Type</th>\n",
       "      <th>Area Size</th>\n",
       "      <th>Area Category</th>\n",
       "    </tr>\n",
       "  </thead>\n",
       "  <tbody>\n",
       "  </tbody>\n",
       "</table>\n",
       "</div>"
      ],
      "text/plain": [
       "Empty DataFrame\n",
       "Columns: [property_id, location_id, page_url, property_type, price, location, city, province_name, latitude, longitude, baths, area, purpose, bedrooms, date_added, agency, agent, Area Type, Area Size, Area Category]\n",
       "Index: []"
      ]
     },
     "execution_count": 11,
     "metadata": {},
     "output_type": "execute_result"
    }
   ],
   "source": [
    "# count number of price == 0\n",
    "df[df['price'] == 0]"
   ]
  },
  {
   "cell_type": "code",
   "execution_count": 12,
   "id": "809022ce3373bada",
   "metadata": {
    "ExecuteTime": {
     "end_time": "2024-07-08T11:10:42.233267Z",
     "start_time": "2024-07-08T11:10:42.215880Z"
    },
    "collapsed": false
   },
   "outputs": [
    {
     "name": "stdout",
     "output_type": "stream",
     "text": [
      "<class 'pandas.core.frame.DataFrame'>\n",
      "RangeIndex: 33689 entries, 0 to 33688\n",
      "Data columns (total 20 columns):\n",
      " #   Column         Non-Null Count  Dtype  \n",
      "---  ------         --------------  -----  \n",
      " 0   property_id    33689 non-null  int64  \n",
      " 1   location_id    33689 non-null  int64  \n",
      " 2   page_url       33689 non-null  object \n",
      " 3   property_type  33689 non-null  object \n",
      " 4   price          33689 non-null  int64  \n",
      " 5   location       33689 non-null  object \n",
      " 6   city           33689 non-null  object \n",
      " 7   province_name  33689 non-null  object \n",
      " 8   latitude       33689 non-null  float64\n",
      " 9   longitude      33689 non-null  float64\n",
      " 10  baths          33689 non-null  int64  \n",
      " 11  area           33689 non-null  object \n",
      " 12  purpose        33689 non-null  object \n",
      " 13  bedrooms       33689 non-null  int64  \n",
      " 14  date_added     33689 non-null  object \n",
      " 15  agency         17735 non-null  object \n",
      " 16  agent          17734 non-null  object \n",
      " 17  Area Type      33689 non-null  object \n",
      " 18  Area Size      33689 non-null  float64\n",
      " 19  Area Category  33689 non-null  object \n",
      "dtypes: float64(3), int64(5), object(12)\n",
      "memory usage: 5.1+ MB\n"
     ]
    }
   ],
   "source": [
    "df.info()"
   ]
  },
  {
   "cell_type": "code",
   "execution_count": 13,
   "id": "7f18ba87f8b9a55d",
   "metadata": {
    "ExecuteTime": {
     "end_time": "2024-07-08T11:10:42.239132Z",
     "start_time": "2024-07-08T11:10:42.234275Z"
    },
    "collapsed": false
   },
   "outputs": [
    {
     "data": {
      "text/plain": [
       "array(['House', 'Flat', 'Lower Portion', 'Upper Portion', 'Penthouse',\n",
       "       'Room', 'Farm House'], dtype=object)"
      ]
     },
     "execution_count": 13,
     "metadata": {},
     "output_type": "execute_result"
    }
   ],
   "source": [
    "# find distinct property types\n",
    "df['property_type'].unique()"
   ]
  },
  {
   "cell_type": "code",
   "execution_count": 14,
   "id": "6b7f838ab2ad8ed3",
   "metadata": {
    "ExecuteTime": {
     "end_time": "2024-07-08T11:10:42.246363Z",
     "start_time": "2024-07-08T11:10:42.240138Z"
    },
    "collapsed": false
   },
   "outputs": [
    {
     "data": {
      "text/plain": [
       "array(['Sana Enterprises Real Estate', nan, 'Mughal Property Dealer', ...,\n",
       "       'Memon Estate', 'Moosa Estate Advisors & Builders',\n",
       "       'SF Real Estate'], dtype=object)"
      ]
     },
     "execution_count": 14,
     "metadata": {},
     "output_type": "execute_result"
    }
   ],
   "source": [
    "df['agency'].unique()"
   ]
  },
  {
   "cell_type": "code",
   "execution_count": 15,
   "id": "1f65335e46c1321",
   "metadata": {
    "ExecuteTime": {
     "end_time": "2024-07-08T11:10:42.279142Z",
     "start_time": "2024-07-08T11:10:42.247448Z"
    },
    "collapsed": false
   },
   "outputs": [
    {
     "data": {
      "text/plain": [
       "property_id      33689\n",
       "location_id       2954\n",
       "page_url         33689\n",
       "property_type        7\n",
       "price             1158\n",
       "location          1156\n",
       "city                 5\n",
       "province_name        3\n",
       "latitude          4495\n",
       "longitude         4770\n",
       "baths               15\n",
       "area               259\n",
       "purpose              2\n",
       "bedrooms            16\n",
       "date_added          44\n",
       "agency            2086\n",
       "agent             2667\n",
       "Area Type            2\n",
       "Area Size          200\n",
       "Area Category       15\n",
       "dtype: int64"
      ]
     },
     "execution_count": 15,
     "metadata": {},
     "output_type": "execute_result"
    }
   ],
   "source": [
    "df.nunique()"
   ]
  },
  {
   "cell_type": "code",
   "execution_count": 16,
   "id": "270d2d996b1f980f",
   "metadata": {
    "ExecuteTime": {
     "end_time": "2024-07-08T11:10:42.285005Z",
     "start_time": "2024-07-08T11:10:42.279650Z"
    },
    "collapsed": false
   },
   "outputs": [
    {
     "data": {
      "text/plain": [
       "array(['2.0 Kanal', '3.6 Marla', '3.0 Marla', '3.5 Marla', '6.0 Marla',\n",
       "       '1.0 Kanal', '7.5 Marla', '5.0 Marla', '7.8 Marla', '7.1 Marla',\n",
       "       '10.0 Marla', '4.7 Marla', '11.0 Marla', '8.0 Marla', '4.2 Marla',\n",
       "       '2.8 Marla', '5.1 Marla', '4.8 Marla', '4.4 Marla', '12.0 Marla',\n",
       "       '6.4 Marla', '1.3 Kanal', '5.6 Marla', '9.3 Marla', '9.1 Marla',\n",
       "       '7.0 Marla', '16.0 Marla', '10.2 Marla', '9.6 Marla', '5.8 Marla',\n",
       "       '2.2 Marla', '6.2 Marla', '1.2 Kanal', '4.9 Marla', '2.9 Marla',\n",
       "       '3.8 Marla', '2.3 Marla', '4.0 Marla', '5.3 Marla', '7.6 Marla',\n",
       "       '4.5 Marla', '16.6 Marla', '2.5 Marla', '2.0 Marla', '9.0 Marla',\n",
       "       '5.5 Marla', '10.7 Marla', '10.9 Marla', '13.0 Marla', '4.0 Kanal',\n",
       "       '6.7 Marla', '14.2 Marla', '3.2 Marla', '1.8 Marla', '1.6 Kanal',\n",
       "       '2.7 Marla', '6.1 Marla', '9.8 Marla', '1.8 Kanal', '3.1 Marla',\n",
       "       '3.3 Marla', '2.4 Marla', '8.0 Kanal', '5.2 Marla', '14.0 Marla',\n",
       "       '3.9 Marla', '1.9 Marla', '11.8 Marla', '11.5 Marla', '7.3 Marla',\n",
       "       '1.1 Marla', '18.0 Marla', '9.4 Marla', '1.5 Kanal', '8.4 Marla',\n",
       "       '6.5 Marla', '3.0 Kanal', '2.6 Marla', '2.1 Marla', '13.3 Marla',\n",
       "       '7.2 Marla', '5.4 Marla', '15.6 Marla', '12.4 Marla', '2.4 Kanal',\n",
       "       '3.4 Marla', '6.9 Marla', '17.8 Marla', '8.9 Marla', '1.5 Marla',\n",
       "       '3.7 Marla', '23.5 Kanal', '15.0 Marla', '12.8 Marla',\n",
       "       '11.1 Marla', '11.6 Marla', '11.2 Marla', '10.8 Marla',\n",
       "       '1.0 Marla', '1.7 Kanal', '14.8 Marla', '4.2 Kanal', '1.1 Kanal',\n",
       "       '2.7 Kanal', '2.9 Kanal', '2.5 Kanal', '9.7 Marla', '3.3 Kanal',\n",
       "       '2.1 Kanal', '8.5 Marla', '1.6 Marla', '8.7 Marla', '17.0 Marla',\n",
       "       '1.9 Kanal', '0.5 Marla', '0.8 Marla', '17.3 Marla', '18.4 Marla',\n",
       "       '12.5 Marla', '9.2 Marla', '7.4 Marla', '2.2 Kanal', '12.2 Marla',\n",
       "       '15.1 Marla', '10.4 Marla', '5.0 Kanal', '0.9 Marla', '1.4 Kanal',\n",
       "       '2.6 Kanal', '5.7 Marla', '6.3 Marla', '4.3 Marla', '30.0 Kanal',\n",
       "       '6.6 Marla', '9.5 Marla', '14.4 Marla', '16.0 Kanal', '3.2 Kanal',\n",
       "       '16.7 Marla', '13.4 Marla', '8.8 Marla', '8.6 Marla', '19.0 Marla',\n",
       "       '10.0 Kanal', '19.0 Kanal', '12.7 Marla', '11.4 Marla',\n",
       "       '80.0 Kanal', '10.1 Marla', '4.6 Marla', '0.6 Marla', '4.6 Kanal',\n",
       "       '12.9 Marla', '10.6 Marla', '3.6 Kanal', '19.6 Marla', '1.3 Marla',\n",
       "       '19.2 Marla', '20.0 Kanal', '1.7 Marla', '5.9 Marla', '1.4 Marla',\n",
       "       '16.4 Marla', '0.0 Marla', '17.1 Marla', '6.0 Kanal', '4.1 Marla',\n",
       "       '16.9 Marla', '4.5 Kanal', '9.1 Kanal', '8.7 Kanal', '7.8 Kanal',\n",
       "       '7.5 Kanal', '5.1 Kanal', '3.1 Kanal', '15.0 Kanal', '17.0 Kanal',\n",
       "       '6.2 Kanal', '8.1 Marla', '0.2 Marla', '12.0 Kanal', '14.0 Kanal',\n",
       "       '11.9 Marla', '2.8 Kanal', '24.0 Kanal', '15.9 Marla', '8.2 Marla',\n",
       "       '6.8 Marla', '4.4 Kanal', '8.3 Marla', '3.7 Kanal', '13.1 Marla',\n",
       "       '15.2 Marla', '1.2 Marla', '14.7 Marla', '11.3 Marla',\n",
       "       '13.8 Marla', '7.7 Marla', '13.7 Marla', '15.4 Marla', '7.9 Marla',\n",
       "       '12.6 Marla', '0.4 Marla', '33.0 Kanal', '14.5 Marla', '3.4 Kanal',\n",
       "       '25.0 Kanal', '9.5 Kanal', '800.0 Kanal', '500.0 Kanal',\n",
       "       '36.0 Kanal', '5.9 Kanal', '18.8 Marla', '9.4 Kanal', '8.5 Kanal',\n",
       "       '15.7 Marla', '6.1 Kanal', '15.3 Marla', '11.7 Marla',\n",
       "       '16.5 Marla', '5.4 Kanal', '40.0 Kanal', '17.6 Marla',\n",
       "       '23.0 Kanal', '7.0 Kanal', '13.6 Marla', '12.1 Marla',\n",
       "       '16.8 Marla', '20.0 Marla', '17.2 Marla', '10.3 Marla',\n",
       "       '0.7 Marla', '13.2 Marla', '18.1 Marla', '14.3 Marla',\n",
       "       '10.5 Marla', '19.1 Marla', '17.5 Marla', '0.3 Marla',\n",
       "       '18.0 Kanal', '62.5 Kanal', '18.2 Marla', '18.7 Marla',\n",
       "       '18.3 Marla', '2.3 Kanal', '13.9 Marla', '28.0 Kanal',\n",
       "       '19.8 Marla', '9.9 Marla', '33.3 Kanal', '14.6 Marla',\n",
       "       '72.0 Kanal', '9.7 Kanal', '18.6 Marla', '52.0 Kanal',\n",
       "       '13.5 Marla', '17.4 Marla', '15.5 Marla', '14.5 Kanal'],\n",
       "      dtype=object)"
      ]
     },
     "execution_count": 16,
     "metadata": {},
     "output_type": "execute_result"
    }
   ],
   "source": [
    "df['area'].unique()"
   ]
  },
  {
   "cell_type": "code",
   "execution_count": 17,
   "id": "6533ee7fda6558e8",
   "metadata": {
    "ExecuteTime": {
     "end_time": "2024-07-08T11:10:42.352069Z",
     "start_time": "2024-07-08T11:10:42.286011Z"
    },
    "collapsed": false
   },
   "outputs": [
    {
     "data": {
      "text/plain": [
       "{\n",
       "  \"anonymous_usage_statistics\": {\n",
       "    \"enabled\": true,\n",
       "    \"usage_statistics_url\": \"https://stats.greatexpectations.io/great_expectations/v1/usage_statistics\",\n",
       "    \"data_context_id\": \"0130baae-afdd-427c-9cf0-7472caa4256b\",\n",
       "    \"explicit_id\": true,\n",
       "    \"explicit_url\": false\n",
       "  },\n",
       "  \"checkpoint_store_name\": \"checkpoint_store\",\n",
       "  \"config_variables_file_path\": \"uncommitted/config_variables.yml\",\n",
       "  \"config_version\": 3.0,\n",
       "  \"data_docs_sites\": {\n",
       "    \"local_site\": {\n",
       "      \"class_name\": \"SiteBuilder\",\n",
       "      \"show_how_to_buttons\": true,\n",
       "      \"store_backend\": {\n",
       "        \"class_name\": \"TupleFilesystemStoreBackend\",\n",
       "        \"base_directory\": \"uncommitted/data_docs/local_site/\"\n",
       "      },\n",
       "      \"site_index_builder\": {\n",
       "        \"class_name\": \"DefaultSiteIndexBuilder\"\n",
       "      }\n",
       "    }\n",
       "  },\n",
       "  \"datasources\": {},\n",
       "  \"evaluation_parameter_store_name\": \"evaluation_parameter_store\",\n",
       "  \"expectations_store_name\": \"expectations_store\",\n",
       "  \"fluent_datasources\": {\n",
       "    \"first_ds\": {\n",
       "      \"type\": \"pandas\",\n",
       "      \"assets\": {\n",
       "        \"asset01\": {\n",
       "          \"type\": \"csv\",\n",
       "          \"filepath_or_buffer\": \"data/samples/sample.csv\"\n",
       "        }\n",
       "      }\n",
       "    },\n",
       "    \"my_pandas_ds\": {\n",
       "      \"type\": \"pandas\",\n",
       "      \"assets\": {\n",
       "        \"my_pandas_df\": {\n",
       "          \"type\": \"dataframe\",\n",
       "          \"batch_metadata\": {}\n",
       "        }\n",
       "      }\n",
       "    },\n",
       "    \"ds\": {\n",
       "      \"type\": \"pandas\",\n",
       "      \"assets\": {\n",
       "        \"df\": {\n",
       "          \"type\": \"dataframe\",\n",
       "          \"batch_metadata\": {}\n",
       "        }\n",
       "      }\n",
       "    }\n",
       "  },\n",
       "  \"include_rendered_content\": {\n",
       "    \"expectation_validation_result\": false,\n",
       "    \"globally\": false,\n",
       "    \"expectation_suite\": false\n",
       "  },\n",
       "  \"plugins_directory\": \"plugins/\",\n",
       "  \"stores\": {\n",
       "    \"expectations_store\": {\n",
       "      \"class_name\": \"ExpectationsStore\",\n",
       "      \"store_backend\": {\n",
       "        \"class_name\": \"TupleFilesystemStoreBackend\",\n",
       "        \"base_directory\": \"expectations/\"\n",
       "      }\n",
       "    },\n",
       "    \"validations_store\": {\n",
       "      \"class_name\": \"ValidationsStore\",\n",
       "      \"store_backend\": {\n",
       "        \"class_name\": \"TupleFilesystemStoreBackend\",\n",
       "        \"base_directory\": \"uncommitted/validations/\"\n",
       "      }\n",
       "    },\n",
       "    \"evaluation_parameter_store\": {\n",
       "      \"class_name\": \"EvaluationParameterStore\"\n",
       "    },\n",
       "    \"checkpoint_store\": {\n",
       "      \"class_name\": \"CheckpointStore\",\n",
       "      \"store_backend\": {\n",
       "        \"class_name\": \"TupleFilesystemStoreBackend\",\n",
       "        \"suppress_store_backend_id\": true,\n",
       "        \"base_directory\": \"checkpoints/\"\n",
       "      }\n",
       "    },\n",
       "    \"profiler_store\": {\n",
       "      \"class_name\": \"ProfilerStore\",\n",
       "      \"store_backend\": {\n",
       "        \"class_name\": \"TupleFilesystemStoreBackend\",\n",
       "        \"suppress_store_backend_id\": true,\n",
       "        \"base_directory\": \"profilers/\"\n",
       "      }\n",
       "    }\n",
       "  },\n",
       "  \"validations_store_name\": \"validations_store\"\n",
       "}"
      ]
     },
     "execution_count": 17,
     "metadata": {},
     "output_type": "execute_result"
    }
   ],
   "source": [
    "context = FileDataContext(context_root_dir = \"services/gx\")\n",
    "context"
   ]
  },
  {
   "cell_type": "code",
   "execution_count": 18,
   "id": "6a85b727aae7a9ab",
   "metadata": {
    "ExecuteTime": {
     "end_time": "2024-07-08T11:10:42.370073Z",
     "start_time": "2024-07-08T11:10:42.353076Z"
    },
    "collapsed": false
   },
   "outputs": [],
   "source": [
    "from pathlib import Path\n",
    "\n",
    "ds = context.sources.add_or_update_pandas(name=\"first_ds\")\n",
    "\n",
    "da = ds.add_csv_asset(\n",
    "    name = \"asset01\",\n",
    "    filepath_or_buffer=\"data/samples/sample.csv\",\n",
    "\n",
    ")"
   ]
  },
  {
   "cell_type": "code",
   "execution_count": 19,
   "id": "a94b8a49fb6b183a",
   "metadata": {
    "ExecuteTime": {
     "end_time": "2024-07-08T11:10:42.557348Z",
     "start_time": "2024-07-08T11:10:42.370578Z"
    },
    "collapsed": false
   },
   "outputs": [],
   "source": [
    "batch_request = da.build_batch_request()\n",
    "\n",
    "batches = da.get_batch_list_from_batch_request(batch_request)\n"
   ]
  },
  {
   "cell_type": "code",
   "execution_count": 20,
   "id": "467380856c9217ff",
   "metadata": {
    "ExecuteTime": {
     "end_time": "2024-07-08T11:10:42.561698Z",
     "start_time": "2024-07-08T11:10:42.558354Z"
    },
    "collapsed": false
   },
   "outputs": [],
   "source": [
    "# use head to get the first 5 rows\n",
    "data_asset = context.get_datasource(\"first_ds\").get_asset(\"asset01\")\n",
    "batch_request = data_asset.build_batch_request()"
   ]
  },
  {
   "cell_type": "code",
   "execution_count": 21,
   "id": "93185ea1a38a556d",
   "metadata": {
    "ExecuteTime": {
     "end_time": "2024-07-08T11:10:42.640570Z",
     "start_time": "2024-07-08T11:10:42.562704Z"
    },
    "collapsed": false
   },
   "outputs": [
    {
     "data": {
      "text/plain": [
       "['features_expectations_suite', 'first_phase_expectation_suite']"
      ]
     },
     "execution_count": 21,
     "metadata": {},
     "output_type": "execute_result"
    }
   ],
   "source": [
    "# create expectations\n",
    "context.add_or_update_expectation_suite(\"first_phase_expectation_suite\")\n",
    "context.list_expectation_suite_names()\n"
   ]
  },
  {
   "cell_type": "code",
   "execution_count": 22,
   "id": "8cb44dae307f9f61",
   "metadata": {
    "ExecuteTime": {
     "end_time": "2024-07-08T11:10:42.829173Z",
     "start_time": "2024-07-08T11:10:42.640570Z"
    },
    "collapsed": false
   },
   "outputs": [
    {
     "data": {
      "application/vnd.jupyter.widget-view+json": {
       "model_id": "d450a06295954bd5a02bd0bb9b39b305",
       "version_major": 2,
       "version_minor": 0
      },
      "text/plain": [
       "Calculating Metrics:   0%|          | 0/1 [00:00<?, ?it/s]"
      ]
     },
     "metadata": {},
     "output_type": "display_data"
    },
    {
     "name": "stdout",
     "output_type": "stream",
     "text": [
      "   property_id  location_id  \\\n",
      "0     17252255           67   \n",
      "1     17281578          335   \n",
      "2     17248355          587   \n",
      "3     17252060         3945   \n",
      "4     17280689        10664   \n",
      "\n",
      "                                            page_url property_type     price  \\\n",
      "0  https://www.zameen.com/Property/lahore_canal_v...         House  53000000   \n",
      "1  https://www.zameen.com/Property/islamabad_f_17...          Flat   4400000   \n",
      "2  https://www.zameen.com/Property/rawalpindi_kha...         House     15000   \n",
      "3  https://www.zameen.com/Property/johar_town_pha...         House   6000000   \n",
      "4  https://www.zameen.com/Property/g_13_1_lifesty...          Flat   5535000   \n",
      "\n",
      "              location        city      province_name   latitude  longitude  \\\n",
      "0           Canal View      Lahore             Punjab  31.478159  74.254017   \n",
      "1                 F-17   Islamabad  Islamabad Capital  33.631987  72.880297   \n",
      "2  Khayaban-e-Sir Syed  Rawalpindi             Punjab  33.638847  73.048089   \n",
      "3           Johar Town      Lahore             Punjab  31.458466  74.292161   \n",
      "4                 G-13   Islamabad  Islamabad Capital  33.648606  72.962353   \n",
      "\n",
      "   baths       area   purpose  bedrooms  date_added  \\\n",
      "0      5  2.0 Kanal  For Sale         5  07-15-2019   \n",
      "1      2  3.6 Marla  For Sale         2  07-15-2019   \n",
      "2      0  3.0 Marla  For Rent         0  07-15-2019   \n",
      "3      0  3.5 Marla  For Sale         1  07-15-2019   \n",
      "4      2  6.0 Marla  For Sale         2  07-15-2019   \n",
      "\n",
      "                         agency                 agent Area Type  Area Size  \\\n",
      "0  Sana Enterprises Real Estate  Engineer Ahtesham sb     Kanal        2.0   \n",
      "1                           NaN                   NaN     Marla        3.6   \n",
      "2        Mughal Property Dealer         Nadeem Mughal     Marla        3.0   \n",
      "3             Faisal Associates             Mr Naveed     Marla        3.5   \n",
      "4           Diamond Real Estate         Sajjad Janjua     Marla        6.0   \n",
      "\n",
      "  Area Category  \n",
      "0     1-5 Kanal  \n",
      "1     0-5 Marla  \n",
      "2     0-5 Marla  \n",
      "3     0-5 Marla  \n",
      "4    5-10 Marla  \n"
     ]
    }
   ],
   "source": [
    "# Create a validator\n",
    "validator = context.get_validator(\n",
    "    batch_request=batch_request,\n",
    "    expectation_suite_name=\"first_phase_expectation_suite\",\n",
    ")\n",
    "print(validator.head())\n"
   ]
  },
  {
   "cell_type": "code",
   "execution_count": 23,
   "id": "9707571093d93c7e",
   "metadata": {
    "ExecuteTime": {
     "end_time": "2024-07-08T11:10:42.842960Z",
     "start_time": "2024-07-08T11:10:42.830181Z"
    },
    "collapsed": false
   },
   "outputs": [
    {
     "data": {
      "application/vnd.jupyter.widget-view+json": {
       "model_id": "4431221869564832950e80e4c54fd31e",
       "version_major": 2,
       "version_minor": 0
      },
      "text/plain": [
       "Calculating Metrics:   0%|          | 0/1 [00:00<?, ?it/s]"
      ]
     },
     "metadata": {},
     "output_type": "display_data"
    }
   ],
   "source": [
    "# create expectations\n",
    "# 7 most important features:\n",
    "#  price, location, area, agency, baths, bedrooms, property_type\n",
    "# 3 most important dimensions per each\n",
    "ex_number_of_rows = validator.expect_table_row_count_to_be_between(min_value=33687, max_value=33690)"
   ]
  },
  {
   "cell_type": "code",
   "execution_count": 24,
   "id": "ba6dbfdc91c53eeb",
   "metadata": {
    "collapsed": false
   },
   "outputs": [],
   "source": [
    "assert ex_number_of_rows['success']"
   ]
  },
  {
   "cell_type": "code",
   "execution_count": 25,
   "id": "bdfc55061f2f0f1b",
   "metadata": {
    "ExecuteTime": {
     "end_time": "2024-07-08T11:10:42.907957Z",
     "start_time": "2024-07-08T11:10:42.847626Z"
    },
    "collapsed": false
   },
   "outputs": [
    {
     "data": {
      "application/vnd.jupyter.widget-view+json": {
       "model_id": "46328d31f09d438b977a4e13a0d0c887",
       "version_major": 2,
       "version_minor": 0
      },
      "text/plain": [
       "Calculating Metrics:   0%|          | 0/6 [00:00<?, ?it/s]"
      ]
     },
     "metadata": {},
     "output_type": "display_data"
    },
    {
     "data": {
      "application/vnd.jupyter.widget-view+json": {
       "model_id": "786a14df6e674b3e95c01551dfc569f9",
       "version_major": 2,
       "version_minor": 0
      },
      "text/plain": [
       "Calculating Metrics:   0%|          | 0/1 [00:00<?, ?it/s]"
      ]
     },
     "metadata": {},
     "output_type": "display_data"
    },
    {
     "data": {
      "application/vnd.jupyter.widget-view+json": {
       "model_id": "b57f6164c4434e519e549fc25e54f936",
       "version_major": 2,
       "version_minor": 0
      },
      "text/plain": [
       "Calculating Metrics:   0%|          | 0/4 [00:00<?, ?it/s]"
      ]
     },
     "metadata": {},
     "output_type": "display_data"
    },
    {
     "data": {
      "application/vnd.jupyter.widget-view+json": {
       "model_id": "f30d7867cb0344da8642d52650bb334e",
       "version_major": 2,
       "version_minor": 0
      },
      "text/plain": [
       "Calculating Metrics:   0%|          | 0/4 [00:00<?, ?it/s]"
      ]
     },
     "metadata": {},
     "output_type": "display_data"
    }
   ],
   "source": [
    "# price\n",
    "ex_price_completeness = validator.expect_column_values_to_not_be_null(\n",
    "\tcolumn=\"price\", \n",
    "    meta = {\"dimension\": \"Completeness\"}\n",
    ")\n",
    "\n",
    "ex_price_validity = validator.expect_column_values_to_be_of_type(\n",
    "    column=\"price\", \n",
    "    type_=\"int64\", \n",
    "    meta = {\"dimension\": \"Validity\"}\n",
    ")\n",
    "\n",
    "ex_price_accuracy = validator.expect_column_min_to_be_between(\n",
    "    column=\"price\", \n",
    "    min_value=0, \n",
    "    meta = {\"dimension\": \"Accuracy\"}\n",
    ")\n",
    "\n",
    "price_25 = 120000.0\n",
    "price75 = 19800000.0\n",
    "ex_price_timelessness = validator.expect_column_median_to_be_between(\n",
    "    column=\"price\", \n",
    "    min_value=price_25, \n",
    "    max_value=price_75, \n",
    "    meta = {\"dimension\": \"Timelessness\"}\n",
    ")"
   ]
  },
  {
   "cell_type": "code",
   "execution_count": 26,
   "id": "dae862852c8d63fb",
   "metadata": {
    "collapsed": false
   },
   "outputs": [],
   "source": [
    "assert ex_price_completeness['success']\n",
    "assert ex_price_validity['success']\n",
    "assert ex_price_accuracy['success']\n",
    "assert ex_price_timelessness['success']"
   ]
  },
  {
   "cell_type": "code",
   "execution_count": 27,
   "id": "9fc75f2fcfca68e4",
   "metadata": {
    "collapsed": false
   },
   "outputs": [],
   "source": [
    "# list of known locations\n",
    "list_of_known_locations = df['location'].unique()\n",
    "list_of_known_locations = [str(location) for location in list_of_known_locations if str(location) != 'nan']"
   ]
  },
  {
   "cell_type": "code",
   "execution_count": 28,
   "id": "6d78c0635909aa76",
   "metadata": {
    "ExecuteTime": {
     "end_time": "2024-07-08T11:10:43.017709Z",
     "start_time": "2024-07-08T11:10:42.922243Z"
    },
    "collapsed": false
   },
   "outputs": [
    {
     "data": {
      "application/vnd.jupyter.widget-view+json": {
       "model_id": "6c868d05697045bd931417ab39a1b085",
       "version_major": 2,
       "version_minor": 0
      },
      "text/plain": [
       "Calculating Metrics:   0%|          | 0/6 [00:00<?, ?it/s]"
      ]
     },
     "metadata": {},
     "output_type": "display_data"
    },
    {
     "data": {
      "application/vnd.jupyter.widget-view+json": {
       "model_id": "88bc5b8174d34c1f8d8cc0ea81760162",
       "version_major": 2,
       "version_minor": 0
      },
      "text/plain": [
       "Calculating Metrics:   0%|          | 0/8 [00:00<?, ?it/s]"
      ]
     },
     "metadata": {},
     "output_type": "display_data"
    },
    {
     "data": {
      "application/vnd.jupyter.widget-view+json": {
       "model_id": "3ef19ff74db148e284a8b30e4ad9695d",
       "version_major": 2,
       "version_minor": 0
      },
      "text/plain": [
       "Calculating Metrics:   0%|          | 0/4 [00:00<?, ?it/s]"
      ]
     },
     "metadata": {},
     "output_type": "display_data"
    }
   ],
   "source": [
    "# location\n",
    "ex_location_completeness = validator.expect_column_values_to_not_be_null(\n",
    "    column=\"location\", \n",
    "    meta = {\"dimension\": \"Completeness\"}\n",
    ")\n",
    "\n",
    "ex_location_validity = validator.expect_column_values_to_be_of_type(\n",
    "    column=\"location\", \n",
    "    type_=\"str\", \n",
    "    meta = {\"dimension\": \"Validity\"}\n",
    ")\n",
    "\n",
    "\n",
    "ex_location_uniqueness = validator.expect_column_unique_value_count_to_be_between(\n",
    "    column=\"location\", \n",
    "    min_value=700, \n",
    "    max_value=1500, \n",
    "    meta = {\"dimension\": \"Uniqueness\"}\n",
    ")"
   ]
  },
  {
   "cell_type": "code",
   "execution_count": 29,
   "id": "ff0912a9c8375853",
   "metadata": {
    "ExecuteTime": {
     "end_time": "2024-07-08T11:10:43.021440Z",
     "start_time": "2024-07-08T11:10:43.018719Z"
    },
    "collapsed": false
   },
   "outputs": [],
   "source": [
    "assert ex_location_completeness['success']\n",
    "assert ex_location_validity['success']\n",
    "assert ex_location_uniqueness['success']"
   ]
  },
  {
   "cell_type": "code",
   "execution_count": 30,
   "id": "392a605a5a982b99",
   "metadata": {
    "ExecuteTime": {
     "end_time": "2024-07-08T11:10:43.026862Z",
     "start_time": "2024-07-08T11:10:43.022447Z"
    },
    "collapsed": false
   },
   "outputs": [],
   "source": [
    "import re\n",
    "regex = r\"^[0-9]+\\s*(Kanal|Marla)$\"\n",
    "example = \"1 Kanal\"\n",
    "assert re.match(regex, example)"
   ]
  },
  {
   "cell_type": "code",
   "execution_count": 31,
   "id": "127ac477e94cbf9a",
   "metadata": {
    "ExecuteTime": {
     "end_time": "2024-07-08T11:10:43.122244Z",
     "start_time": "2024-07-08T11:10:43.027872Z"
    },
    "collapsed": false
   },
   "outputs": [
    {
     "data": {
      "application/vnd.jupyter.widget-view+json": {
       "model_id": "bee2dfea79e449e38983efc10a81e79e",
       "version_major": 2,
       "version_minor": 0
      },
      "text/plain": [
       "Calculating Metrics:   0%|          | 0/6 [00:00<?, ?it/s]"
      ]
     },
     "metadata": {},
     "output_type": "display_data"
    },
    {
     "data": {
      "application/vnd.jupyter.widget-view+json": {
       "model_id": "707e7def9d3049bdbe7b2ddeedb6a43a",
       "version_major": 2,
       "version_minor": 0
      },
      "text/plain": [
       "Calculating Metrics:   0%|          | 0/8 [00:00<?, ?it/s]"
      ]
     },
     "metadata": {},
     "output_type": "display_data"
    },
    {
     "data": {
      "application/vnd.jupyter.widget-view+json": {
       "model_id": "ecf1471101014a93802acb0807e2a080",
       "version_major": 2,
       "version_minor": 0
      },
      "text/plain": [
       "Calculating Metrics:   0%|          | 0/4 [00:00<?, ?it/s]"
      ]
     },
     "metadata": {},
     "output_type": "display_data"
    }
   ],
   "source": [
    "# area\n",
    "ex_area_completeness = validator.expect_column_values_to_not_be_null(\n",
    "    column=\"area\", \n",
    "    meta = {\"dimension\": \"Completeness\"}\n",
    ")\n",
    "\n",
    "ex_area_validity = validator.expect_column_values_to_match_regex(\n",
    "    column=\"area\", \n",
    "    # format = {number} {unit}\n",
    "    regex=r\"^[0-9]+(\\.[0-9])?\\s*(Kanal|Marla)$\",\n",
    "    meta = {\"dimension\": \"Validity\"}\n",
    ")\n",
    "\n",
    "# value of area should be greater than 0\n",
    "ex_area_accuracy = validator.expect_column_min_to_be_between(\n",
    "    column=\"Area Size\", \n",
    "    min_value=0, \n",
    "    meta = {\"dimension\": \"Accuracy\"}\n",
    ")"
   ]
  },
  {
   "cell_type": "code",
   "execution_count": 32,
   "id": "7f31e7897034ce6e",
   "metadata": {
    "collapsed": false
   },
   "outputs": [],
   "source": [
    "assert ex_area_completeness['success']\n",
    "assert ex_area_validity['success']\n",
    "assert ex_area_accuracy['success']\n",
    "# ex_area_validity"
   ]
  },
  {
   "cell_type": "code",
   "execution_count": 33,
   "id": "ce24fd75b8dfa7cd",
   "metadata": {
    "ExecuteTime": {
     "end_time": "2024-07-08T11:10:43.132979Z",
     "start_time": "2024-07-08T11:10:43.127336Z"
    },
    "collapsed": false
   },
   "outputs": [],
   "source": [
    "list_of_known_agencies = df['agency'].unique()\n",
    "list_of_known_agencies = [str(agency) for agency in list_of_known_agencies if str(agency) != 'nan']"
   ]
  },
  {
   "cell_type": "code",
   "execution_count": 34,
   "id": "68f920826edbf92d",
   "metadata": {
    "ExecuteTime": {
     "end_time": "2024-07-08T11:10:43.220124Z",
     "start_time": "2024-07-08T11:10:43.133986Z"
    },
    "collapsed": false
   },
   "outputs": [
    {
     "data": {
      "application/vnd.jupyter.widget-view+json": {
       "model_id": "fdd1f6eacbe440a4bf1cc35e179ad660",
       "version_major": 2,
       "version_minor": 0
      },
      "text/plain": [
       "Calculating Metrics:   0%|          | 0/4 [00:00<?, ?it/s]"
      ]
     },
     "metadata": {},
     "output_type": "display_data"
    },
    {
     "data": {
      "application/vnd.jupyter.widget-view+json": {
       "model_id": "816c6f4370b24bde8b3afb630872f617",
       "version_major": 2,
       "version_minor": 0
      },
      "text/plain": [
       "Calculating Metrics:   0%|          | 0/8 [00:00<?, ?it/s]"
      ]
     },
     "metadata": {},
     "output_type": "display_data"
    },
    {
     "data": {
      "application/vnd.jupyter.widget-view+json": {
       "model_id": "775594dc0c904e11a741a0f478d8df56",
       "version_major": 2,
       "version_minor": 0
      },
      "text/plain": [
       "Calculating Metrics:   0%|          | 0/6 [00:00<?, ?it/s]"
      ]
     },
     "metadata": {},
     "output_type": "display_data"
    }
   ],
   "source": [
    "ex_agency_uniqueness = validator.expect_column_unique_value_count_to_be_between(\n",
    "    column=\"agency\", \n",
    "    min_value=2000, \n",
    "    max_value=5000, \n",
    "    meta = {\"dimension\": \"Uniqueness\"}\n",
    ")\n",
    "\n",
    "\n",
    "ex_agency_validity = validator.expect_column_values_to_be_of_type(\n",
    "    column=\"agency\", \n",
    "    type_=\"str\", \n",
    "    meta = {\"dimension\": \"Validity\"}\n",
    ")\n",
    "\n",
    "ex_agency_completeness = validator.expect_column_values_to_not_be_null(\n",
    "    column=\"agency\", \n",
    "    mostly=0.5,\n",
    "    meta = {\"dimension\": \"Completeness\"}\n",
    ")\n",
    "    "
   ]
  },
  {
   "cell_type": "code",
   "execution_count": 35,
   "id": "3797654827945680",
   "metadata": {
    "ExecuteTime": {
     "end_time": "2024-07-08T11:10:43.880841Z",
     "start_time": "2024-07-08T11:10:43.221130Z"
    },
    "collapsed": false
   },
   "outputs": [],
   "source": [
    "assert ex_agency_uniqueness['success']\n",
    "assert ex_agency_validity['success']\n",
    "assert ex_agency_completeness['success']"
   ]
  },
  {
   "cell_type": "code",
   "execution_count": 36,
   "id": "f470d9003b069a3e",
   "metadata": {
    "collapsed": false
   },
   "outputs": [
    {
     "data": {
      "application/vnd.jupyter.widget-view+json": {
       "model_id": "22f34fae5f1e401b944c0708500171c4",
       "version_major": 2,
       "version_minor": 0
      },
      "text/plain": [
       "Calculating Metrics:   0%|          | 0/4 [00:00<?, ?it/s]"
      ]
     },
     "metadata": {},
     "output_type": "display_data"
    },
    {
     "data": {
      "application/vnd.jupyter.widget-view+json": {
       "model_id": "7c43cfc8236a499a8b807539694b8626",
       "version_major": 2,
       "version_minor": 0
      },
      "text/plain": [
       "Calculating Metrics:   0%|          | 0/1 [00:00<?, ?it/s]"
      ]
     },
     "metadata": {},
     "output_type": "display_data"
    },
    {
     "data": {
      "application/vnd.jupyter.widget-view+json": {
       "model_id": "eb58d7602bb3436eb0f5fe22c14ac546",
       "version_major": 2,
       "version_minor": 0
      },
      "text/plain": [
       "Calculating Metrics:   0%|          | 0/4 [00:00<?, ?it/s]"
      ]
     },
     "metadata": {},
     "output_type": "display_data"
    }
   ],
   "source": [
    "# baths\n",
    "ex_baths_accuracy = validator.expect_column_min_to_be_between(\n",
    "    column=\"baths\", \n",
    "    min_value=0, \n",
    "    meta = {\"dimension\": \"Accuracy\"}\n",
    ")\n",
    "\n",
    "ex_baths_validity = validator.expect_column_values_to_be_of_type(\n",
    "    column=\"baths\", \n",
    "    type_=\"int64\", \n",
    "    meta = {\"dimension\": \"Validity\"}\n",
    ")\n",
    "\n",
    "ex_baths_timelessness = validator.expect_column_max_to_be_between(\n",
    "    column=\"baths\", \n",
    "    max_value=30, \n",
    "    meta = {\"dimension\": \"Timelessness\"}\n",
    ")"
   ]
  },
  {
   "cell_type": "code",
   "execution_count": 37,
   "id": "1eea85b71c1151f0",
   "metadata": {
    "collapsed": false
   },
   "outputs": [],
   "source": [
    "assert ex_baths_accuracy['success']\n",
    "assert ex_baths_validity['success']\n",
    "assert ex_baths_timelessness['success']\n",
    "# ex_baths_timelessness"
   ]
  },
  {
   "cell_type": "code",
   "execution_count": 38,
   "id": "ff229ac0999c8874",
   "metadata": {
    "ExecuteTime": {
     "start_time": "2024-07-08T11:10:43.882847Z"
    },
    "collapsed": false
   },
   "outputs": [
    {
     "data": {
      "application/vnd.jupyter.widget-view+json": {
       "model_id": "5f9f9e682efb4ec092343f38a34eb2b9",
       "version_major": 2,
       "version_minor": 0
      },
      "text/plain": [
       "Calculating Metrics:   0%|          | 0/4 [00:00<?, ?it/s]"
      ]
     },
     "metadata": {},
     "output_type": "display_data"
    },
    {
     "data": {
      "application/vnd.jupyter.widget-view+json": {
       "model_id": "ca8169b49aff4e329e991baa84fd2111",
       "version_major": 2,
       "version_minor": 0
      },
      "text/plain": [
       "Calculating Metrics:   0%|          | 0/1 [00:00<?, ?it/s]"
      ]
     },
     "metadata": {},
     "output_type": "display_data"
    },
    {
     "data": {
      "application/vnd.jupyter.widget-view+json": {
       "model_id": "5dbf92df317f45f4a7b48318f633781b",
       "version_major": 2,
       "version_minor": 0
      },
      "text/plain": [
       "Calculating Metrics:   0%|          | 0/4 [00:00<?, ?it/s]"
      ]
     },
     "metadata": {},
     "output_type": "display_data"
    }
   ],
   "source": [
    "# bedrooms\n",
    "ex_bedrooms_accuracy = validator.expect_column_min_to_be_between(\n",
    "    column=\"bedrooms\", \n",
    "    min_value=0, \n",
    "    meta = {\"dimension\": \"Accuracy\"}\n",
    ")\n",
    "\n",
    "ex_bedrooms_validity = validator.expect_column_values_to_be_of_type(\n",
    "    column=\"bedrooms\", \n",
    "    type_=\"int64\", \n",
    "    meta = {\"dimension\": \"Validity\"}\n",
    ")\n",
    "\n",
    "ex_bedrooms_timelessness = validator.expect_column_max_to_be_between(\n",
    "    column=\"bedrooms\", \n",
    "    max_value=70, \n",
    "    meta = {\"dimension\": \"Consistency\"}\n",
    ")"
   ]
  },
  {
   "cell_type": "code",
   "execution_count": 39,
   "id": "7866ffa4bd2a5758",
   "metadata": {
    "ExecuteTime": {
     "start_time": "2024-07-08T11:10:43.883847Z"
    },
    "collapsed": false
   },
   "outputs": [],
   "source": [
    "assert ex_bedrooms_accuracy['success']\n",
    "assert ex_bedrooms_validity['success']\n",
    "assert ex_bedrooms_timelessness['success']\n",
    "# ex_bedrooms_timelessness"
   ]
  },
  {
   "cell_type": "code",
   "execution_count": 40,
   "id": "9bbaaea2e836530f",
   "metadata": {
    "ExecuteTime": {
     "start_time": "2024-07-08T11:10:43.884850Z"
    },
    "collapsed": false
   },
   "outputs": [
    {
     "data": {
      "application/vnd.jupyter.widget-view+json": {
       "model_id": "3948f349dbad4a7a9b34d0cbaf8a6605",
       "version_major": 2,
       "version_minor": 0
      },
      "text/plain": [
       "Calculating Metrics:   0%|          | 0/4 [00:00<?, ?it/s]"
      ]
     },
     "metadata": {},
     "output_type": "display_data"
    },
    {
     "data": {
      "application/vnd.jupyter.widget-view+json": {
       "model_id": "183543407d304c24883e0917a370dfb3",
       "version_major": 2,
       "version_minor": 0
      },
      "text/plain": [
       "Calculating Metrics:   0%|          | 0/6 [00:00<?, ?it/s]"
      ]
     },
     "metadata": {},
     "output_type": "display_data"
    },
    {
     "data": {
      "application/vnd.jupyter.widget-view+json": {
       "model_id": "63aeb70b4320415999efb1054f0b7a7a",
       "version_major": 2,
       "version_minor": 0
      },
      "text/plain": [
       "Calculating Metrics:   0%|          | 0/4 [00:00<?, ?it/s]"
      ]
     },
     "metadata": {},
     "output_type": "display_data"
    }
   ],
   "source": [
    "# property_type\n",
    "\n",
    "ex_property_type_timelessness_and_consistency_and_validity = validator.expect_column_distinct_values_to_be_in_set(\n",
    "    column=\"property_type\", \n",
    "    value_set=[\"House\", \"Penthouse\", \"Flat\", \"Farm House\", \"Upper Portion\", \"Lower Portion\", \"Room\"],\n",
    "    meta = {\"dimension\": \"Timelessness and Consistency and Validity\"}\n",
    ")\n",
    "\n",
    "ex_property_type_completeness = validator.expect_column_values_to_not_be_null(\n",
    "    column=\"property_type\", \n",
    "    meta = {\"dimension\": \"Completeness\"}\n",
    ")\n",
    "\n",
    "ex_property_type_uniqueness = validator.expect_column_unique_value_count_to_be_between(\n",
    "    column=\"property_type\", \n",
    "    min_value=5, \n",
    "    max_value=9, \n",
    "    meta = {\"dimension\": \"Uniqueness\"}\n",
    ")\n",
    "\n"
   ]
  },
  {
   "cell_type": "code",
   "execution_count": 41,
   "id": "d8d8292ad28eda84",
   "metadata": {
    "collapsed": false
   },
   "outputs": [],
   "source": [
    "assert ex_property_type_timelessness_and_consistency_and_validity['success']\n",
    "assert ex_property_type_completeness['success']\n",
    "assert ex_property_type_uniqueness['success']"
   ]
  },
  {
   "cell_type": "code",
   "execution_count": 42,
   "id": "1a911c4f42e624fb",
   "metadata": {
    "collapsed": false
   },
   "outputs": [],
   "source": [
    "\n",
    "validator.save_expectation_suite(\n",
    "\tdiscard_failed_expectations = False\n",
    ")"
   ]
  },
  {
   "cell_type": "code",
   "execution_count": 43,
   "id": "a70e1a6af519f5b3",
   "metadata": {
    "ExecuteTime": {
     "start_time": "2024-07-08T11:10:43.886848Z"
    },
    "collapsed": false
   },
   "outputs": [],
   "source": [
    "# create a checkpoint to validate the data\n",
    "\n",
    "checkpoint = context.add_or_update_checkpoint(\n",
    "    name=\"first_phase_checkpoint\",\n",
    "    validations=[ # A list of validations\n",
    "        {\n",
    "            \"batch_request\": batch_request,\n",
    "            \"expectation_suite_name\": \"first_phase_expectation_suite\",\n",
    "        },\n",
    "    ],\n",
    ")"
   ]
  },
  {
   "cell_type": "code",
   "execution_count": 44,
   "id": "cfe9bbe0d66a45bb",
   "metadata": {
    "ExecuteTime": {
     "start_time": "2024-07-08T11:10:43.887848Z"
    },
    "collapsed": false
   },
   "outputs": [
    {
     "data": {
      "application/vnd.jupyter.widget-view+json": {
       "model_id": "77b67ca7151f47faa9e13c1ec9f763f7",
       "version_major": 2,
       "version_minor": 0
      },
      "text/plain": [
       "Calculating Metrics:   0%|          | 0/54 [00:00<?, ?it/s]"
      ]
     },
     "metadata": {},
     "output_type": "display_data"
    }
   ],
   "source": [
    "# validate the data\n",
    "results = checkpoint.run()"
   ]
  },
  {
   "cell_type": "code",
   "execution_count": 45,
   "id": "72a9c1934719b637",
   "metadata": {
    "collapsed": false
   },
   "outputs": [
    {
     "data": {
      "text/plain": [
       "True"
      ]
     },
     "execution_count": 45,
     "metadata": {},
     "output_type": "execute_result"
    }
   ],
   "source": [
    "results.success"
   ]
  },
  {
   "cell_type": "code",
   "execution_count": 46,
   "id": "b814a1ddec5d14b4",
   "metadata": {
    "ExecuteTime": {
     "start_time": "2024-07-08T11:10:43.888847Z"
    },
    "collapsed": false
   },
   "outputs": [],
   "source": [
    "# Build the data docs (website files)\n",
    "context.build_data_docs()\n",
    "\n",
    "# Open the data docs in a browser\n",
    "context.open_data_docs()"
   ]
  },
  {
   "cell_type": "code",
   "execution_count": 47,
   "id": "7c6355a9cd09b3ce",
   "metadata": {
    "ExecuteTime": {
     "start_time": "2024-07-08T11:10:43.889846Z"
    },
    "collapsed": false
   },
   "outputs": [
    {
     "name": "stderr",
     "output_type": "stream",
     "text": [
      "gio: file:///home/sshk/project/services/gx/uncommitted/data_docs/local_site/index.html: No application is registered as handling this file\n"
     ]
    }
   ],
   "source": [
    "retrieved_checkpoint = context.get_checkpoint(name=\"first_phase_checkpoint\")"
   ]
  }
 ],
 "metadata": {
  "kernelspec": {
   "display_name": "Python 3",
   "language": "python",
   "name": "python3"
  },
  "language_info": {
   "codemirror_mode": {
    "name": "ipython",
    "version": 3
   },
   "file_extension": ".py",
   "mimetype": "text/x-python",
   "name": "python",
   "nbconvert_exporter": "python",
   "pygments_lexer": "ipython3",
   "version": "3.11.0"
  }
 },
 "nbformat": 4,
 "nbformat_minor": 5
}
