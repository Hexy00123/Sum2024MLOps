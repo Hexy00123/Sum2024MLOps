{
 "cells": [
  {
   "cell_type": "code",
   "outputs": [
    {
     "name": "stdout",
     "output_type": "stream",
     "text": [
      "C:\\Users\\sasha\\PycharmProjects\\Sum2024MLOps\\notebooks\n",
      "C:\\Users\\sasha\\PycharmProjects\\Sum2024MLOps\n"
     ]
    }
   ],
   "source": [
    "import pandas as pd\n",
    "from great_expectations.data_context import FileDataContext\n",
    "import os\n",
    "\n",
    "print(os.getcwd())\n",
    "# leave to the directory one level up\n",
    "os.chdir(\"../\")\n",
    "\n",
    "print(os.getcwd())"
   ],
   "metadata": {
    "collapsed": false,
    "ExecuteTime": {
     "end_time": "2024-06-21T22:43:17.432478Z",
     "start_time": "2024-06-21T22:43:15.722966Z"
    }
   },
   "id": "5a891277e044ad9e",
   "execution_count": 1
  },
  {
   "cell_type": "code",
   "outputs": [],
   "source": [
    "relative_path = 'data/samples/sample.csv'\n",
    "df = pd.read_csv(relative_path)"
   ],
   "metadata": {
    "collapsed": false,
    "ExecuteTime": {
     "end_time": "2024-06-21T22:43:17.550938Z",
     "start_time": "2024-06-21T22:43:17.433489Z"
    }
   },
   "id": "2b1ecb25da4bdece",
   "execution_count": 2
  },
  {
   "cell_type": "code",
   "outputs": [
    {
     "data": {
      "text/plain": "   property_id  location_id  \\\n0     13979008         3696   \n1     14053499         1451   \n2     14117380          756   \n3     14052338           69   \n4     14034663         1553   \n\n                                            page_url property_type     price  \\\n0  https://www.zameen.com/Property/chinar_bagh_ch...         House  13000000   \n1  https://www.zameen.com/Property/dha_defence_dh...         House  46000000   \n2  https://www.zameen.com/Property/lahore_bor_boa...         House   7500000   \n3  https://www.zameen.com/Property/lahore_cavalry...         House  12500000   \n4  https://www.zameen.com/Property/model_town_mod...         House  65000000   \n\n                                 location    city province_name   latitude  \\\n0                             Chinar Bagh  Lahore        Punjab  31.321454   \n1                             DHA Defence  Lahore        Punjab  31.494408   \n2  BOR - Board of Revenue Housing Society  Lahore        Punjab  31.478452   \n3                          Cavalry Ground  Lahore        Punjab  31.492705   \n4                              Model Town  Lahore        Punjab  31.476915   \n\n   longitude  baths     area   purpose  bedrooms  date_added  \\\n0  74.239497      0  1 Kanal  For Sale         6  01-03-2019   \n1  74.437666      7  1 Kanal  For Sale         6  01-03-2019   \n2  74.296846      4  3 Marla  For Sale         4  01-03-2019   \n3  74.367093      3  5 Marla  For Sale         3  01-03-2019   \n4  74.324641      0  1 Kanal  For Sale         4  01-03-2019   \n\n                          agency                        agent Area Type  \\\n0  Niazi Real Estate & Marketing  Agha Mansoor Ali Khan Niazi     Kanal   \n1                            NaN                          NaN     Kanal   \n2                            NaN                          NaN     Marla   \n3                            NaN                          NaN     Marla   \n4                            NaN                          NaN     Kanal   \n\n   Area Size Area Category  \n0        1.0     1-5 Kanal  \n1        1.0     1-5 Kanal  \n2        3.0     0-5 Marla  \n3        5.0     0-5 Marla  \n4        1.0     1-5 Kanal  ",
      "text/html": "<div>\n<style scoped>\n    .dataframe tbody tr th:only-of-type {\n        vertical-align: middle;\n    }\n\n    .dataframe tbody tr th {\n        vertical-align: top;\n    }\n\n    .dataframe thead th {\n        text-align: right;\n    }\n</style>\n<table border=\"1\" class=\"dataframe\">\n  <thead>\n    <tr style=\"text-align: right;\">\n      <th></th>\n      <th>property_id</th>\n      <th>location_id</th>\n      <th>page_url</th>\n      <th>property_type</th>\n      <th>price</th>\n      <th>location</th>\n      <th>city</th>\n      <th>province_name</th>\n      <th>latitude</th>\n      <th>longitude</th>\n      <th>baths</th>\n      <th>area</th>\n      <th>purpose</th>\n      <th>bedrooms</th>\n      <th>date_added</th>\n      <th>agency</th>\n      <th>agent</th>\n      <th>Area Type</th>\n      <th>Area Size</th>\n      <th>Area Category</th>\n    </tr>\n  </thead>\n  <tbody>\n    <tr>\n      <th>0</th>\n      <td>13979008</td>\n      <td>3696</td>\n      <td>https://www.zameen.com/Property/chinar_bagh_ch...</td>\n      <td>House</td>\n      <td>13000000</td>\n      <td>Chinar Bagh</td>\n      <td>Lahore</td>\n      <td>Punjab</td>\n      <td>31.321454</td>\n      <td>74.239497</td>\n      <td>0</td>\n      <td>1 Kanal</td>\n      <td>For Sale</td>\n      <td>6</td>\n      <td>01-03-2019</td>\n      <td>Niazi Real Estate &amp; Marketing</td>\n      <td>Agha Mansoor Ali Khan Niazi</td>\n      <td>Kanal</td>\n      <td>1.0</td>\n      <td>1-5 Kanal</td>\n    </tr>\n    <tr>\n      <th>1</th>\n      <td>14053499</td>\n      <td>1451</td>\n      <td>https://www.zameen.com/Property/dha_defence_dh...</td>\n      <td>House</td>\n      <td>46000000</td>\n      <td>DHA Defence</td>\n      <td>Lahore</td>\n      <td>Punjab</td>\n      <td>31.494408</td>\n      <td>74.437666</td>\n      <td>7</td>\n      <td>1 Kanal</td>\n      <td>For Sale</td>\n      <td>6</td>\n      <td>01-03-2019</td>\n      <td>NaN</td>\n      <td>NaN</td>\n      <td>Kanal</td>\n      <td>1.0</td>\n      <td>1-5 Kanal</td>\n    </tr>\n    <tr>\n      <th>2</th>\n      <td>14117380</td>\n      <td>756</td>\n      <td>https://www.zameen.com/Property/lahore_bor_boa...</td>\n      <td>House</td>\n      <td>7500000</td>\n      <td>BOR - Board of Revenue Housing Society</td>\n      <td>Lahore</td>\n      <td>Punjab</td>\n      <td>31.478452</td>\n      <td>74.296846</td>\n      <td>4</td>\n      <td>3 Marla</td>\n      <td>For Sale</td>\n      <td>4</td>\n      <td>01-03-2019</td>\n      <td>NaN</td>\n      <td>NaN</td>\n      <td>Marla</td>\n      <td>3.0</td>\n      <td>0-5 Marla</td>\n    </tr>\n    <tr>\n      <th>3</th>\n      <td>14052338</td>\n      <td>69</td>\n      <td>https://www.zameen.com/Property/lahore_cavalry...</td>\n      <td>House</td>\n      <td>12500000</td>\n      <td>Cavalry Ground</td>\n      <td>Lahore</td>\n      <td>Punjab</td>\n      <td>31.492705</td>\n      <td>74.367093</td>\n      <td>3</td>\n      <td>5 Marla</td>\n      <td>For Sale</td>\n      <td>3</td>\n      <td>01-03-2019</td>\n      <td>NaN</td>\n      <td>NaN</td>\n      <td>Marla</td>\n      <td>5.0</td>\n      <td>0-5 Marla</td>\n    </tr>\n    <tr>\n      <th>4</th>\n      <td>14034663</td>\n      <td>1553</td>\n      <td>https://www.zameen.com/Property/model_town_mod...</td>\n      <td>House</td>\n      <td>65000000</td>\n      <td>Model Town</td>\n      <td>Lahore</td>\n      <td>Punjab</td>\n      <td>31.476915</td>\n      <td>74.324641</td>\n      <td>0</td>\n      <td>1 Kanal</td>\n      <td>For Sale</td>\n      <td>4</td>\n      <td>01-03-2019</td>\n      <td>NaN</td>\n      <td>NaN</td>\n      <td>Kanal</td>\n      <td>1.0</td>\n      <td>1-5 Kanal</td>\n    </tr>\n  </tbody>\n</table>\n</div>"
     },
     "execution_count": 4,
     "metadata": {},
     "output_type": "execute_result"
    }
   ],
   "source": [
    "df.head()"
   ],
   "metadata": {
    "collapsed": false,
    "ExecuteTime": {
     "end_time": "2024-06-21T22:43:17.569989Z",
     "start_time": "2024-06-21T22:43:17.555498Z"
    }
   },
   "id": "b49d1a900a809de2",
   "execution_count": 4
  },
  {
   "cell_type": "code",
   "outputs": [
    {
     "data": {
      "text/plain": "<Axes: >"
     },
     "execution_count": 5,
     "metadata": {},
     "output_type": "execute_result"
    },
    {
     "data": {
      "text/plain": "<Figure size 640x480 with 1 Axes>",
      "image/png": "[encoded data removed]"
     },
     "metadata": {},
     "output_type": "display_data"
    }
   ],
   "source": [
    "df['Area Size'].hist(bins=100)"
   ],
   "metadata": {
    "collapsed": false,
    "ExecuteTime": {
     "end_time": "2024-06-21T22:43:17.782161Z",
     "start_time": "2024-06-21T22:43:17.569989Z"
    }
   },
   "id": "97a152fd894eba86",
   "execution_count": 5
  },
  {
   "cell_type": "code",
   "outputs": [
    {
     "data": {
      "text/plain": "(np.float64(18690692.356377453),\n np.int64(0),\n np.float64(120000.0),\n np.float64(8000000.0),\n np.float64(19800000.0),\n np.int64(1450000000),\n np.float64(40341490.52211307))"
     },
     "execution_count": 6,
     "metadata": {},
     "output_type": "execute_result"
    }
   ],
   "source": [
    "# calculate mean and max of the price\n",
    "min_price = df['price'].min()\n",
    "price_25 = df['price'].quantile(0.25)\n",
    "mean_price = df['price'].mean()\n",
    "median_price = df['price'].median()\n",
    "price_75 = df['price'].quantile(0.75)\n",
    "max_price = df['price'].max()\n",
    "std_dev_price = df['price'].std()\n",
    "mean_price, min_price, price_25, median_price, price_75, max_price, std_dev_price"
   ],
   "metadata": {
    "collapsed": false,
    "ExecuteTime": {
     "end_time": "2024-06-21T22:43:17.789915Z",
     "start_time": "2024-06-21T22:43:17.783169Z"
    }
   },
   "id": "8dcf97336c402e20",
   "execution_count": 6
  },
  {
   "cell_type": "code",
   "outputs": [
    {
     "name": "stdout",
     "output_type": "stream",
     "text": [
      "0.0 600.0\n"
     ]
    }
   ],
   "source": [
    "min_area = df['Area Size'].min()\n",
    "max_area = df['Area Size'].max()\n",
    "print(round(min_area, 5), max_area)"
   ],
   "metadata": {
    "collapsed": false,
    "ExecuteTime": {
     "end_time": "2024-06-21T22:43:17.793920Z",
     "start_time": "2024-06-21T22:43:17.789915Z"
    }
   },
   "id": "3d157ad70468c04",
   "execution_count": 7
  },
  {
   "cell_type": "code",
   "outputs": [
    {
     "data": {
      "text/plain": "(np.int64(0), np.int64(10), np.int64(0), np.int64(18))"
     },
     "execution_count": 8,
     "metadata": {},
     "output_type": "execute_result"
    }
   ],
   "source": [
    "min_baths = df['baths'].min()\n",
    "max_baths = df['baths'].max()\n",
    "min_bedrooms = df['bedrooms'].min()\n",
    "max_bedrooms = df['bedrooms'].max()\n",
    "min_baths, max_baths, min_bedrooms, max_bedrooms"
   ],
   "metadata": {
    "collapsed": false,
    "ExecuteTime": {
     "end_time": "2024-06-21T22:43:17.799506Z",
     "start_time": "2024-06-21T22:43:17.793920Z"
    }
   },
   "id": "87326527ec448e66",
   "execution_count": 8
  },
  {
   "cell_type": "code",
   "outputs": [
    {
     "data": {
      "text/plain": "       property_id  location_id  \\\n27744     13935017          476   \n\n                                                page_url property_type  \\\n27744  https://www.zameen.com/Property/karachi_malir_...         House   \n\n         price location     city province_name   latitude  longitude  baths  \\\n27744  4400000    Malir  Karachi         Sindh  24.893209  67.195473      2   \n\n          area   purpose  bedrooms  date_added               agency    agent  \\\n27744  0 Marla  For Sale         2  05-05-2019  Infinity Properties  Shehzad   \n\n      Area Type  Area Size Area Category  \n27744     Marla        0.0     0-5 Marla  ",
      "text/html": "<div>\n<style scoped>\n    .dataframe tbody tr th:only-of-type {\n        vertical-align: middle;\n    }\n\n    .dataframe tbody tr th {\n        vertical-align: top;\n    }\n\n    .dataframe thead th {\n        text-align: right;\n    }\n</style>\n<table border=\"1\" class=\"dataframe\">\n  <thead>\n    <tr style=\"text-align: right;\">\n      <th></th>\n      <th>property_id</th>\n      <th>location_id</th>\n      <th>page_url</th>\n      <th>property_type</th>\n      <th>price</th>\n      <th>location</th>\n      <th>city</th>\n      <th>province_name</th>\n      <th>latitude</th>\n      <th>longitude</th>\n      <th>baths</th>\n      <th>area</th>\n      <th>purpose</th>\n      <th>bedrooms</th>\n      <th>date_added</th>\n      <th>agency</th>\n      <th>agent</th>\n      <th>Area Type</th>\n      <th>Area Size</th>\n      <th>Area Category</th>\n    </tr>\n  </thead>\n  <tbody>\n    <tr>\n      <th>27744</th>\n      <td>13935017</td>\n      <td>476</td>\n      <td>https://www.zameen.com/Property/karachi_malir_...</td>\n      <td>House</td>\n      <td>4400000</td>\n      <td>Malir</td>\n      <td>Karachi</td>\n      <td>Sindh</td>\n      <td>24.893209</td>\n      <td>67.195473</td>\n      <td>2</td>\n      <td>0 Marla</td>\n      <td>For Sale</td>\n      <td>2</td>\n      <td>05-05-2019</td>\n      <td>Infinity Properties</td>\n      <td>Shehzad</td>\n      <td>Marla</td>\n      <td>0.0</td>\n      <td>0-5 Marla</td>\n    </tr>\n  </tbody>\n</table>\n</div>"
     },
     "execution_count": 9,
     "metadata": {},
     "output_type": "execute_result"
    }
   ],
   "source": [
    "# count number of 0 in Area Size\n",
    "df[df['Area Size'] == 0]\n"
   ],
   "metadata": {
    "collapsed": false,
    "ExecuteTime": {
     "end_time": "2024-06-21T22:43:17.810276Z",
     "start_time": "2024-06-21T22:43:17.800517Z"
    }
   },
   "id": "4ac66263f7d3a834",
   "execution_count": 9
  },
  {
   "cell_type": "code",
   "outputs": [
    {
     "data": {
      "text/plain": "(np.float64(43.560212532280566), np.float64(43.560212532280566))"
     },
     "execution_count": 10,
     "metadata": {},
     "output_type": "execute_result"
    }
   ],
   "source": [
    "# count percentage of Null values in agency\n",
    "df['agency'].isnull().sum() / len(df) * 100, df['agent'].isnull().sum() / len(df) * 100"
   ],
   "metadata": {
    "collapsed": false,
    "ExecuteTime": {
     "end_time": "2024-06-21T22:43:17.817336Z",
     "start_time": "2024-06-21T22:43:17.811284Z"
    }
   },
   "id": "5ca9586ec2529b90",
   "execution_count": 10
  },
  {
   "cell_type": "code",
   "outputs": [
    {
     "data": {
      "text/plain": "<Axes: ylabel='Frequency'>"
     },
     "execution_count": 11,
     "metadata": {},
     "output_type": "execute_result"
    },
    {
     "data": {
      "text/plain": "<Figure size 640x480 with 1 Axes>",
      "image/png": "[encoded data removed]"
     },
     "metadata": {},
     "output_type": "display_data"
    }
   ],
   "source": [
    "# plot the price distribution\n",
    "df['price'].plot.hist(bins=100)"
   ],
   "metadata": {
    "collapsed": false,
    "ExecuteTime": {
     "end_time": "2024-06-21T22:43:18.022193Z",
     "start_time": "2024-06-21T22:43:17.817336Z"
    }
   },
   "id": "79a829617de95f21",
   "execution_count": 11
  },
  {
   "cell_type": "code",
   "outputs": [
    {
     "data": {
      "text/plain": "       property_id  location_id  \\\n33306     16081186         8129   \n\n                                                page_url property_type  price  \\\n33306  https://www.zameen.com/Property/rawalpindi_ran...         House      0   \n\n         location        city province_name   latitude  longitude  baths  \\\n33306  Range Road  Rawalpindi        Punjab  33.598593  73.018003      0   \n\n          area   purpose  bedrooms  date_added agency agent Area Type  \\\n33306  5 Marla  For Rent         0  05-06-2019    NaN   NaN     Marla   \n\n       Area Size Area Category  \n33306        5.0     0-5 Marla  ",
      "text/html": "<div>\n<style scoped>\n    .dataframe tbody tr th:only-of-type {\n        vertical-align: middle;\n    }\n\n    .dataframe tbody tr th {\n        vertical-align: top;\n    }\n\n    .dataframe thead th {\n        text-align: right;\n    }\n</style>\n<table border=\"1\" class=\"dataframe\">\n  <thead>\n    <tr style=\"text-align: right;\">\n      <th></th>\n      <th>property_id</th>\n      <th>location_id</th>\n      <th>page_url</th>\n      <th>property_type</th>\n      <th>price</th>\n      <th>location</th>\n      <th>city</th>\n      <th>province_name</th>\n      <th>latitude</th>\n      <th>longitude</th>\n      <th>baths</th>\n      <th>area</th>\n      <th>purpose</th>\n      <th>bedrooms</th>\n      <th>date_added</th>\n      <th>agency</th>\n      <th>agent</th>\n      <th>Area Type</th>\n      <th>Area Size</th>\n      <th>Area Category</th>\n    </tr>\n  </thead>\n  <tbody>\n    <tr>\n      <th>33306</th>\n      <td>16081186</td>\n      <td>8129</td>\n      <td>https://www.zameen.com/Property/rawalpindi_ran...</td>\n      <td>House</td>\n      <td>0</td>\n      <td>Range Road</td>\n      <td>Rawalpindi</td>\n      <td>Punjab</td>\n      <td>33.598593</td>\n      <td>73.018003</td>\n      <td>0</td>\n      <td>5 Marla</td>\n      <td>For Rent</td>\n      <td>0</td>\n      <td>05-06-2019</td>\n      <td>NaN</td>\n      <td>NaN</td>\n      <td>Marla</td>\n      <td>5.0</td>\n      <td>0-5 Marla</td>\n    </tr>\n  </tbody>\n</table>\n</div>"
     },
     "execution_count": 12,
     "metadata": {},
     "output_type": "execute_result"
    }
   ],
   "source": [
    "# count number of price == 0\n",
    "df[df['price'] == 0]"
   ],
   "metadata": {
    "collapsed": false,
    "ExecuteTime": {
     "end_time": "2024-06-21T22:43:18.032763Z",
     "start_time": "2024-06-21T22:43:18.023204Z"
    }
   },
   "id": "7a76fe3c2daf022a",
   "execution_count": 12
  },
  {
   "cell_type": "code",
   "outputs": [
    {
     "name": "stdout",
     "output_type": "stream",
     "text": [
      "<class 'pandas.core.frame.DataFrame'>\n",
      "RangeIndex: 33689 entries, 0 to 33688\n",
      "Data columns (total 20 columns):\n",
      " #   Column         Non-Null Count  Dtype  \n",
      "---  ------         --------------  -----  \n",
      " 0   property_id    33689 non-null  int64  \n",
      " 1   location_id    33689 non-null  int64  \n",
      " 2   page_url       33689 non-null  object \n",
      " 3   property_type  33689 non-null  object \n",
      " 4   price          33689 non-null  int64  \n",
      " 5   location       33689 non-null  object \n",
      " 6   city           33689 non-null  object \n",
      " 7   province_name  33689 non-null  object \n",
      " 8   latitude       33689 non-null  float64\n",
      " 9   longitude      33689 non-null  float64\n",
      " 10  baths          33689 non-null  int64  \n",
      " 11  area           33689 non-null  object \n",
      " 12  purpose        33689 non-null  object \n",
      " 13  bedrooms       33689 non-null  int64  \n",
      " 14  date_added     33689 non-null  object \n",
      " 15  agency         19014 non-null  object \n",
      " 16  agent          19014 non-null  object \n",
      " 17  Area Type      33689 non-null  object \n",
      " 18  Area Size      33689 non-null  float64\n",
      " 19  Area Category  33689 non-null  object \n",
      "dtypes: float64(3), int64(5), object(12)\n",
      "memory usage: 5.1+ MB\n"
     ]
    }
   ],
   "source": [
    "df.info()"
   ],
   "metadata": {
    "collapsed": false,
    "ExecuteTime": {
     "end_time": "2024-06-21T22:43:18.051389Z",
     "start_time": "2024-06-21T22:43:18.032763Z"
    }
   },
   "id": "809022ce3373bada",
   "execution_count": 13
  },
  {
   "cell_type": "code",
   "outputs": [
    {
     "data": {
      "text/plain": "array(['House', 'Penthouse', 'Flat', 'Farm House', 'Upper Portion',\n       'Lower Portion', 'Room'], dtype=object)"
     },
     "execution_count": 14,
     "metadata": {},
     "output_type": "execute_result"
    }
   ],
   "source": [
    "# find distinct property types\n",
    "df['property_type'].unique()"
   ],
   "metadata": {
    "collapsed": false,
    "ExecuteTime": {
     "end_time": "2024-06-21T22:43:18.056851Z",
     "start_time": "2024-06-21T22:43:18.051389Z"
    }
   },
   "id": "7f18ba87f8b9a55d",
   "execution_count": 14
  },
  {
   "cell_type": "code",
   "outputs": [
    {
     "data": {
      "text/plain": "array(['Niazi Real Estate & Marketing', nan, 'A One Estate & Builders',\n       ..., 'Al-Nasir Builder/Developer & Real Estate Services',\n       'Estate 1. com', 'Unique Real Estate'], dtype=object)"
     },
     "execution_count": 15,
     "metadata": {},
     "output_type": "execute_result"
    }
   ],
   "source": [
    "df['agency'].unique()"
   ],
   "metadata": {
    "collapsed": false,
    "ExecuteTime": {
     "end_time": "2024-06-21T22:43:18.061994Z",
     "start_time": "2024-06-21T22:43:18.057858Z"
    }
   },
   "id": "6b7f838ab2ad8ed3",
   "execution_count": 15
  },
  {
   "cell_type": "code",
   "outputs": [
    {
     "data": {
      "text/plain": "property_id      33689\nlocation_id       3103\npage_url         33689\nproperty_type        7\nprice             1094\nlocation          1202\ncity                 5\nprovince_name        3\nlatitude          3688\nlongitude         3926\nbaths               11\narea               271\npurpose              2\nbedrooms            17\ndate_added          39\nagency            2670\nagent             3912\nArea Type            2\nArea Size          206\nArea Category       17\ndtype: int64"
     },
     "execution_count": 16,
     "metadata": {},
     "output_type": "execute_result"
    }
   ],
   "source": [
    "df.nunique()"
   ],
   "metadata": {
    "collapsed": false,
    "ExecuteTime": {
     "end_time": "2024-06-21T22:43:18.095287Z",
     "start_time": "2024-06-21T22:43:18.063002Z"
    }
   },
   "id": "1f65335e46c1321",
   "execution_count": 16
  },
  {
   "cell_type": "code",
   "outputs": [
    {
     "data": {
      "text/plain": "array(['1 Kanal', '3 Marla', '5 Marla', '6.2 Marla', '2 Kanal',\n       '12 Marla', '10 Marla', '2.5 Marla', '4 Kanal', '7.5 Marla',\n       '9.3 Marla', '11 Marla', '7 Marla', '1 Marla', '2 Marla',\n       '2.8 Marla', '12 Kanal', '6.8 Marla', '8 Marla', '9.6 Marla',\n       '3.2 Marla', '6.7 Marla', '1.7 Marla', '3 Kanal', '4 Marla',\n       '2.2 Marla', '3.5 Marla', '16 Marla', '9 Marla', '8.7 Kanal',\n       '1.5 Marla', '15 Marla', '1.1 Kanal', '5.8 Marla', '5.1 Marla',\n       '6 Marla', '2.3 Marla', '8.7 Marla', '18.1 Marla', '14.2 Marla',\n       '1.3 Kanal', '1.6 Marla', '10.5 Marla', '4.5 Marla', '2.1 Kanal',\n       '3.6 Marla', '5.6 Marla', '18 Marla', '13.5 Marla', '2.7 Marla',\n       '11.5 Marla', '4.8 Marla', '13.4 Marla', '1.5 Kanal', '14 Marla',\n       '5.5 Marla', '2.2 Kanal', '10.1 Marla', '1.2 Kanal', '2.4 Kanal',\n       '1.8 Marla', '3.1 Marla', '3.7 Marla', '5.9 Marla', '16 Kanal',\n       '19 Marla', '8.8 Marla', '1.2 Marla', '10 Kanal', '6.9 Marla',\n       '7.9 Marla', '13 Marla', '32 Kanal', '5.2 Marla', '11.6 Marla',\n       '2.9 Marla', '5.7 Marla', '5.3 Marla', '4.7 Marla', '1.9 Kanal',\n       '4.4 Marla', '9.1 Marla', '8.5 Marla', '3.3 Marla', '1.3 Marla',\n       '8.4 Marla', '6.1 Marla', '3.9 Marla', '11.4 Marla', '1.1 Marla',\n       '12.4 Marla', '7.4 Marla', '4.1 Marla', '4.3 Marla', '6.4 Marla',\n       '7.8 Marla', '7.6 Marla', '6.3 Marla', '12.5 Marla', '3.4 Marla',\n       '2.4 Marla', '14.4 Marla', '14.6 Marla', '20 Kanal', '15.5 Marla',\n       '16.9 Marla', '4.9 Marla', '9.4 Marla', '1.6 Kanal', '10.6 Marla',\n       '10.7 Marla', '4.6 Marla', '7.3 Marla', '7.1 Marla', '12.2 Marla',\n       '1.8 Kanal', '500 Kanal', '13.3 Marla', '8.9 Marla', '11.8 Marla',\n       '11.7 Marla', '17.5 Marla', '17.3 Marla', '12.5 Kanal',\n       '17.8 Marla', '5.4 Marla', '10.9 Marla', '8.6 Marla', '17.6 Marla',\n       '6.6 Marla', '12.3 Marla', '3.8 Marla', '10.8 Marla', '4.2 Marla',\n       '10.2 Marla', '9.8 Marla', '10.4 Marla', '2.6 Marla', '11.1 Marla',\n       '8.2 Marla', '14.7 Marla', '2.1 Marla', '17.1 Marla', '0.9 Marla',\n       '18.2 Marla', '16.4 Marla', '2.9 Kanal', '11.3 Marla',\n       '16.6 Marla', '2.7 Kanal', '14.8 Marla', '7.2 Marla', '2.5 Kanal',\n       '16.7 Marla', '14.5 Marla', '2.8 Kanal', '1.9 Marla', '12.9 Marla',\n       '6.5 Marla', '15.6 Marla', '0.5 Marla', '12.8 Marla', '8 Kanal',\n       '15.1 Marla', '15.2 Marla', '29 Kanal', '2.6 Kanal', '6 Kanal',\n       '7 Kanal', '9.2 Marla', '1.4 Kanal', '0.8 Marla', '7.5 Kanal',\n       '16.5 Marla', '18 Kanal', '17 Marla', '5 Kanal', '15 Kanal',\n       '14.1 Marla', '12.7 Marla', '14.3 Marla', '5.2 Kanal', '1.4 Marla',\n       '17.2 Marla', '10.3 Marla', '13.7 Marla', '4.4 Kanal', '3.2 Kanal',\n       '0.4 Marla', '6.2 Kanal', '4.5 Kanal', '16.8 Marla', '9.5 Marla',\n       '9.9 Marla', '13.8 Marla', '18.7 Marla', '8.3 Marla', '7.6 Kanal',\n       '3.1 Kanal', '18.6 Marla', '8.1 Marla', '18.3 Marla', '15.4 Marla',\n       '19.6 Marla', '15.7 Marla', '1.7 Kanal', '11.2 Marla',\n       '12.6 Marla', '13.2 Marla', '9.7 Marla', '0.6 Marla', '19.1 Marla',\n       '0.7 Marla', '14 Kanal', '9 Kanal', '3.3 Kanal', '40 Kanal',\n       '90 Kanal', '22 Kanal', '168 Kanal', '3.8 Kanal', '5.5 Kanal',\n       '3.4 Kanal', '13.9 Marla', '25 Kanal', '23 Kanal', '2.3 Kanal',\n       '19.7 Marla', '100 Kanal', '8.8 Kanal', '4.6 Kanal', '14.4 Kanal',\n       '19.5 Marla', '11.9 Marla', '0.1 Marla', '7.7 Marla', '4.3 Kanal',\n       '4.2 Kanal', '3.5 Kanal', '46 Kanal', '4.1 Kanal', '17 Kanal',\n       '17.7 Marla', '14.9 Marla', '12.1 Marla', '5.4 Kanal', '3.6 Kanal',\n       '9.7 Kanal', '15.9 Marla', '19.8 Marla', '13.1 Marla', '24 Kanal',\n       '19.2 Marla', '6.1 Kanal', '19.4 Marla', '20 Marla', '18.5 Marla',\n       '416 Kanal', '6.5 Kanal', '8.5 Kanal', '13 Kanal', '11 Kanal',\n       '18.4 Marla', '0 Marla', '16.2 Marla', '62.5 Kanal', '16.3 Marla',\n       '9.6 Kanal', '0.2 Marla', '600 Kanal', '13.6 Marla'], dtype=object)"
     },
     "execution_count": 17,
     "metadata": {},
     "output_type": "execute_result"
    }
   ],
   "source": [
    "df['area'].unique()"
   ],
   "metadata": {
    "collapsed": false,
    "ExecuteTime": {
     "end_time": "2024-06-21T22:43:18.100658Z",
     "start_time": "2024-06-21T22:43:18.096296Z"
    }
   },
   "id": "270d2d996b1f980f",
   "execution_count": 17
  },
  {
   "cell_type": "code",
   "outputs": [
    {
     "data": {
      "text/plain": "{\n  \"anonymous_usage_statistics\": {\n    \"usage_statistics_url\": \"https://stats.greatexpectations.io/great_expectations/v1/usage_statistics\",\n    \"data_context_id\": \"fda37b1f-28d8-4588-aeaf-330261aafd30\",\n    \"explicit_url\": false,\n    \"enabled\": true,\n    \"explicit_id\": true\n  },\n  \"checkpoint_store_name\": \"checkpoint_store\",\n  \"config_variables_file_path\": \"uncommitted/config_variables.yml\",\n  \"config_version\": 3.0,\n  \"data_docs_sites\": {\n    \"local_site\": {\n      \"class_name\": \"SiteBuilder\",\n      \"show_how_to_buttons\": true,\n      \"store_backend\": {\n        \"class_name\": \"TupleFilesystemStoreBackend\",\n        \"base_directory\": \"uncommitted/data_docs/local_site/\"\n      },\n      \"site_index_builder\": {\n        \"class_name\": \"DefaultSiteIndexBuilder\"\n      }\n    }\n  },\n  \"datasources\": {},\n  \"evaluation_parameter_store_name\": \"evaluation_parameter_store\",\n  \"expectations_store_name\": \"expectations_store\",\n  \"fluent_datasources\": {\n    \"first_ds\": {\n      \"type\": \"pandas\",\n      \"assets\": {\n        \"asset01\": {\n          \"type\": \"csv\",\n          \"filepath_or_buffer\": \"data\\\\samples\\\\sample.csv\"\n        }\n      }\n    }\n  },\n  \"include_rendered_content\": {\n    \"globally\": false,\n    \"expectation_validation_result\": false,\n    \"expectation_suite\": false\n  },\n  \"plugins_directory\": \"plugins/\",\n  \"stores\": {\n    \"expectations_store\": {\n      \"class_name\": \"ExpectationsStore\",\n      \"store_backend\": {\n        \"class_name\": \"TupleFilesystemStoreBackend\",\n        \"base_directory\": \"expectations/\"\n      }\n    },\n    \"validations_store\": {\n      \"class_name\": \"ValidationsStore\",\n      \"store_backend\": {\n        \"class_name\": \"TupleFilesystemStoreBackend\",\n        \"base_directory\": \"uncommitted/validations/\"\n      }\n    },\n    \"evaluation_parameter_store\": {\n      \"class_name\": \"EvaluationParameterStore\"\n    },\n    \"checkpoint_store\": {\n      \"class_name\": \"CheckpointStore\",\n      \"store_backend\": {\n        \"class_name\": \"TupleFilesystemStoreBackend\",\n        \"suppress_store_backend_id\": true,\n        \"base_directory\": \"checkpoints/\"\n      }\n    },\n    \"profiler_store\": {\n      \"class_name\": \"ProfilerStore\",\n      \"store_backend\": {\n        \"class_name\": \"TupleFilesystemStoreBackend\",\n        \"suppress_store_backend_id\": true,\n        \"base_directory\": \"profilers/\"\n      }\n    }\n  },\n  \"validations_store_name\": \"validations_store\"\n}"
     },
     "execution_count": 18,
     "metadata": {},
     "output_type": "execute_result"
    }
   ],
   "source": [
    "context = FileDataContext(context_root_dir = \"services/gx\")\n",
    "context"
   ],
   "metadata": {
    "collapsed": false,
    "ExecuteTime": {
     "end_time": "2024-06-21T22:43:18.173889Z",
     "start_time": "2024-06-21T22:43:18.101665Z"
    }
   },
   "id": "6533ee7fda6558e8",
   "execution_count": 18
  },
  {
   "cell_type": "code",
   "outputs": [],
   "source": [
    "from pathlib import Path\n",
    "\n",
    "ds = context.sources.add_or_update_pandas(name=\"first_ds\")\n",
    "\n",
    "da = ds.add_csv_asset(\n",
    "    name = \"asset01\",\n",
    "    filepath_or_buffer=\"data/samples/sample.csv\",\n",
    "\n",
    ")"
   ],
   "metadata": {
    "collapsed": false,
    "ExecuteTime": {
     "end_time": "2024-06-21T22:43:18.191997Z",
     "start_time": "2024-06-21T22:43:18.173889Z"
    }
   },
   "id": "6a85b727aae7a9ab",
   "execution_count": 19
  },
  {
   "cell_type": "code",
   "outputs": [],
   "source": [
    "batch_request = da.build_batch_request()\n",
    "\n",
    "batches = da.get_batch_list_from_batch_request(batch_request)\n"
   ],
   "metadata": {
    "collapsed": false,
    "ExecuteTime": {
     "end_time": "2024-06-21T22:43:18.351205Z",
     "start_time": "2024-06-21T22:43:18.193004Z"
    }
   },
   "id": "a94b8a49fb6b183a",
   "execution_count": 20
  },
  {
   "cell_type": "code",
   "outputs": [],
   "source": [
    "# use head to get the first 5 rows\n",
    "data_asset = context.get_datasource(\"first_ds\").get_asset(\"asset01\")\n",
    "batch_request = data_asset.build_batch_request()"
   ],
   "metadata": {
    "collapsed": false,
    "ExecuteTime": {
     "end_time": "2024-06-21T22:43:18.354606Z",
     "start_time": "2024-06-21T22:43:18.352216Z"
    }
   },
   "id": "467380856c9217ff",
   "execution_count": 21
  },
  {
   "cell_type": "code",
   "outputs": [
    {
     "data": {
      "text/plain": "['first_expectation_suite', 'first_phase_expectation_suite']"
     },
     "execution_count": 22,
     "metadata": {},
     "output_type": "execute_result"
    }
   ],
   "source": [
    "# create expectations\n",
    "context.add_or_update_expectation_suite(\"first_phase_expectation_suite\")\n",
    "context.list_expectation_suite_names()\n"
   ],
   "metadata": {
    "collapsed": false,
    "ExecuteTime": {
     "end_time": "2024-06-21T22:43:18.437581Z",
     "start_time": "2024-06-21T22:43:18.354606Z"
    }
   },
   "id": "93185ea1a38a556d",
   "execution_count": 22
  },
  {
   "cell_type": "code",
   "outputs": [
    {
     "data": {
      "text/plain": "Calculating Metrics:   0%|          | 0/1 [00:00<?, ?it/s]",
      "application/vnd.jupyter.widget-view+json": {
       "version_major": 2,
       "version_minor": 0,
       "model_id": "3a5d20e869d842ac9f5face1109b5c88"
      }
     },
     "metadata": {},
     "output_type": "display_data"
    },
    {
     "name": "stdout",
     "output_type": "stream",
     "text": [
      "   property_id  location_id  \\\n",
      "0     13979008         3696   \n",
      "1     14053499         1451   \n",
      "2     14117380          756   \n",
      "3     14052338           69   \n",
      "4     14034663         1553   \n",
      "\n",
      "                                            page_url property_type     price  \\\n",
      "0  https://www.zameen.com/Property/chinar_bagh_ch...         House  13000000   \n",
      "1  https://www.zameen.com/Property/dha_defence_dh...         House  46000000   \n",
      "2  https://www.zameen.com/Property/lahore_bor_boa...         House   7500000   \n",
      "3  https://www.zameen.com/Property/lahore_cavalry...         House  12500000   \n",
      "4  https://www.zameen.com/Property/model_town_mod...         House  65000000   \n",
      "\n",
      "                                 location    city province_name   latitude  \\\n",
      "0                             Chinar Bagh  Lahore        Punjab  31.321454   \n",
      "1                             DHA Defence  Lahore        Punjab  31.494408   \n",
      "2  BOR - Board of Revenue Housing Society  Lahore        Punjab  31.478452   \n",
      "3                          Cavalry Ground  Lahore        Punjab  31.492705   \n",
      "4                              Model Town  Lahore        Punjab  31.476915   \n",
      "\n",
      "   longitude  baths     area   purpose  bedrooms  date_added  \\\n",
      "0  74.239497      0  1 Kanal  For Sale         6  01-03-2019   \n",
      "1  74.437666      7  1 Kanal  For Sale         6  01-03-2019   \n",
      "2  74.296846      4  3 Marla  For Sale         4  01-03-2019   \n",
      "3  74.367093      3  5 Marla  For Sale         3  01-03-2019   \n",
      "4  74.324641      0  1 Kanal  For Sale         4  01-03-2019   \n",
      "\n",
      "                          agency                        agent Area Type  \\\n",
      "0  Niazi Real Estate & Marketing  Agha Mansoor Ali Khan Niazi     Kanal   \n",
      "1                            NaN                          NaN     Kanal   \n",
      "2                            NaN                          NaN     Marla   \n",
      "3                            NaN                          NaN     Marla   \n",
      "4                            NaN                          NaN     Kanal   \n",
      "\n",
      "   Area Size Area Category  \n",
      "0        1.0     1-5 Kanal  \n",
      "1        1.0     1-5 Kanal  \n",
      "2        3.0     0-5 Marla  \n",
      "3        5.0     0-5 Marla  \n",
      "4        1.0     1-5 Kanal  \n"
     ]
    }
   ],
   "source": [
    "# Create a validator\n",
    "validator = context.get_validator(\n",
    "    batch_request=batch_request,\n",
    "    expectation_suite_name=\"first_phase_expectation_suite\",\n",
    ")\n",
    "print(validator.head())\n"
   ],
   "metadata": {
    "collapsed": false,
    "ExecuteTime": {
     "end_time": "2024-06-21T22:43:18.611862Z",
     "start_time": "2024-06-21T22:43:18.438588Z"
    }
   },
   "id": "8cb44dae307f9f61",
   "execution_count": 23
  },
  {
   "cell_type": "code",
   "outputs": [
    {
     "data": {
      "text/plain": "Calculating Metrics:   0%|          | 0/1 [00:00<?, ?it/s]",
      "application/vnd.jupyter.widget-view+json": {
       "version_major": 2,
       "version_minor": 0,
       "model_id": "153e330c67994d0fa4f82636d70c0d60"
      }
     },
     "metadata": {},
     "output_type": "display_data"
    }
   ],
   "source": [
    "# create expectations\n",
    "# 7 most important features:\n",
    "#  price, location, area, agency, baths, bedrooms, property_type\n",
    "# 3 most important dimensions per each\n",
    "ex_number_of_rows = validator.expect_table_row_count_to_be_between(min_value=33689, max_value=168446)"
   ],
   "metadata": {
    "collapsed": false,
    "ExecuteTime": {
     "end_time": "2024-06-21T22:43:18.624106Z",
     "start_time": "2024-06-21T22:43:18.612868Z"
    }
   },
   "id": "9707571093d93c7e",
   "execution_count": 24
  },
  {
   "cell_type": "code",
   "outputs": [],
   "source": [
    "assert ex_number_of_rows['success']"
   ],
   "metadata": {
    "collapsed": false
   },
   "id": "ba6dbfdc91c53eeb",
   "execution_count": 25
  },
  {
   "cell_type": "code",
   "outputs": [
    {
     "data": {
      "text/plain": "Calculating Metrics:   0%|          | 0/6 [00:00<?, ?it/s]",
      "application/vnd.jupyter.widget-view+json": {
       "version_major": 2,
       "version_minor": 0,
       "model_id": "bef4faae599842a7b2540cb48c9148b2"
      }
     },
     "metadata": {},
     "output_type": "display_data"
    },
    {
     "data": {
      "text/plain": "Calculating Metrics:   0%|          | 0/1 [00:00<?, ?it/s]",
      "application/vnd.jupyter.widget-view+json": {
       "version_major": 2,
       "version_minor": 0,
       "model_id": "cf65bdc43857411c8a59c635f6de46e1"
      }
     },
     "metadata": {},
     "output_type": "display_data"
    },
    {
     "data": {
      "text/plain": "Calculating Metrics:   0%|          | 0/4 [00:00<?, ?it/s]",
      "application/vnd.jupyter.widget-view+json": {
       "version_major": 2,
       "version_minor": 0,
       "model_id": "9f387940b757409f9b63f39247064e47"
      }
     },
     "metadata": {},
     "output_type": "display_data"
    },
    {
     "data": {
      "text/plain": "Calculating Metrics:   0%|          | 0/4 [00:00<?, ?it/s]",
      "application/vnd.jupyter.widget-view+json": {
       "version_major": 2,
       "version_minor": 0,
       "model_id": "2a72181b922a40e9a8c3a5e06bac742f"
      }
     },
     "metadata": {},
     "output_type": "display_data"
    }
   ],
   "source": [
    "# price\n",
    "ex_price_completeness = validator.expect_column_values_to_not_be_null(\n",
    "\tcolumn=\"price\", \n",
    "    meta = {\"dimension\": \"Completeness\"}\n",
    ")\n",
    "\n",
    "ex_price_validity = validator.expect_column_values_to_be_of_type(\n",
    "    column=\"price\", \n",
    "    type_=\"int64\", \n",
    "    meta = {\"dimension\": \"Validity\"}\n",
    ")\n",
    "\n",
    "ex_price_accuracy = validator.expect_column_min_to_be_between(\n",
    "    column=\"price\", \n",
    "    min_value=0, \n",
    "    meta = {\"dimension\": \"Accuracy\"}\n",
    ")\n",
    "\n",
    "price_25 = 120000.0\n",
    "price75 = 19800000.0\n",
    "ex_price_consistency = validator.expect_column_median_to_be_between(\n",
    "    column=\"price\", \n",
    "    min_value=price_25, \n",
    "    max_value=price_75, \n",
    "    meta = {\"dimension\": \"Consistency\"}\n",
    ")"
   ],
   "metadata": {
    "collapsed": false,
    "ExecuteTime": {
     "end_time": "2024-06-21T22:43:18.689572Z",
     "start_time": "2024-06-21T22:43:18.628353Z"
    }
   },
   "id": "bdfc55061f2f0f1b",
   "execution_count": 26
  },
  {
   "cell_type": "code",
   "outputs": [],
   "source": [
    "assert ex_price_completeness['success']\n",
    "assert ex_price_validity['success']\n",
    "assert ex_price_accuracy['success']\n",
    "assert ex_price_consistency['success']"
   ],
   "metadata": {
    "collapsed": false,
    "ExecuteTime": {
     "end_time": "2024-06-21T22:43:18.693636Z",
     "start_time": "2024-06-21T22:43:18.690580Z"
    }
   },
   "id": "dae862852c8d63fb",
   "execution_count": 27
  },
  {
   "cell_type": "code",
   "outputs": [],
   "source": [
    "# list of known locations\n",
    "list_of_known_locations = df['location'].unique()\n",
    "list_of_known_locations = [str(location) for location in list_of_known_locations if str(location) != 'nan']"
   ],
   "metadata": {
    "collapsed": false,
    "ExecuteTime": {
     "end_time": "2024-06-21T22:43:18.700601Z",
     "start_time": "2024-06-21T22:43:18.696645Z"
    }
   },
   "id": "9fc75f2fcfca68e4",
   "execution_count": 28
  },
  {
   "cell_type": "code",
   "outputs": [
    {
     "data": {
      "text/plain": "Calculating Metrics:   0%|          | 0/6 [00:00<?, ?it/s]",
      "application/vnd.jupyter.widget-view+json": {
       "version_major": 2,
       "version_minor": 0,
       "model_id": "a4437e87cde44b75b9459f7a690999d0"
      }
     },
     "metadata": {},
     "output_type": "display_data"
    },
    {
     "data": {
      "text/plain": "Calculating Metrics:   0%|          | 0/4 [00:00<?, ?it/s]",
      "application/vnd.jupyter.widget-view+json": {
       "version_major": 2,
       "version_minor": 0,
       "model_id": "52559f914573463ea7d60c478b7c7e25"
      }
     },
     "metadata": {},
     "output_type": "display_data"
    },
    {
     "data": {
      "text/plain": "Calculating Metrics:   0%|          | 0/4 [00:00<?, ?it/s]",
      "application/vnd.jupyter.widget-view+json": {
       "version_major": 2,
       "version_minor": 0,
       "model_id": "3578f2966df843bc9dd1c51d4af58953"
      }
     },
     "metadata": {},
     "output_type": "display_data"
    }
   ],
   "source": [
    "# location\n",
    "ex_location_completeness = validator.expect_column_values_to_not_be_null(\n",
    "    column=\"location\", \n",
    "    meta = {\"dimension\": \"Completeness\"}\n",
    ")\n",
    "\n",
    "ex_location_timelessness_and_consistency = validator.expect_column_distinct_values_to_be_in_set(\n",
    "    column=\"location\", \n",
    "    value_set=list_of_known_locations,\n",
    "    meta = {\"dimension\": \"Timelessness and Consistency\"}\n",
    ")\n",
    "\n",
    "\n",
    "ex_location_uniqueness = validator.expect_column_unique_value_count_to_be_between(\n",
    "    column=\"location\", \n",
    "    min_value=800, \n",
    "    max_value=1500, \n",
    "    meta = {\"dimension\": \"Uniqueness\"}\n",
    ")"
   ],
   "metadata": {
    "collapsed": false,
    "ExecuteTime": {
     "end_time": "2024-06-21T22:43:18.768293Z",
     "start_time": "2024-06-21T22:43:18.701609Z"
    }
   },
   "id": "6d78c0635909aa76",
   "execution_count": 29
  },
  {
   "cell_type": "code",
   "outputs": [],
   "source": [
    "assert ex_location_completeness['success']\n",
    "assert ex_location_timelessness_and_consistency['success']\n",
    "assert ex_location_uniqueness['success']"
   ],
   "metadata": {
    "collapsed": false
   },
   "id": "ff0912a9c8375853",
   "execution_count": 30
  },
  {
   "cell_type": "code",
   "outputs": [],
   "source": [
    "import re\n",
    "regex = r\"^[0-9]+\\s*(Kanal|Marla)$\"\n",
    "example = \"1 Kanal\"\n",
    "assert re.match(regex, example)"
   ],
   "metadata": {
    "collapsed": false,
    "ExecuteTime": {
     "end_time": "2024-06-21T22:43:18.777023Z",
     "start_time": "2024-06-21T22:43:18.772611Z"
    }
   },
   "id": "392a605a5a982b99",
   "execution_count": 31
  },
  {
   "cell_type": "code",
   "outputs": [
    {
     "data": {
      "text/plain": "Calculating Metrics:   0%|          | 0/6 [00:00<?, ?it/s]",
      "application/vnd.jupyter.widget-view+json": {
       "version_major": 2,
       "version_minor": 0,
       "model_id": "b687c901bff94b73b8570f2d1894d8d6"
      }
     },
     "metadata": {},
     "output_type": "display_data"
    },
    {
     "data": {
      "text/plain": "Calculating Metrics:   0%|          | 0/8 [00:00<?, ?it/s]",
      "application/vnd.jupyter.widget-view+json": {
       "version_major": 2,
       "version_minor": 0,
       "model_id": "e53ef8f0a6414c18bafc4fd8f61272fd"
      }
     },
     "metadata": {},
     "output_type": "display_data"
    },
    {
     "data": {
      "text/plain": "Calculating Metrics:   0%|          | 0/4 [00:00<?, ?it/s]",
      "application/vnd.jupyter.widget-view+json": {
       "version_major": 2,
       "version_minor": 0,
       "model_id": "90a189bb36604309a5ac24ad2997d81b"
      }
     },
     "metadata": {},
     "output_type": "display_data"
    }
   ],
   "source": [
    "# area\n",
    "ex_area_completeness = validator.expect_column_values_to_not_be_null(\n",
    "    column=\"area\", \n",
    "    meta = {\"dimension\": \"Completeness\"}\n",
    ")\n",
    "\n",
    "ex_area_validity = validator.expect_column_values_to_match_regex(\n",
    "    column=\"area\", \n",
    "    # format = {number} {unit}\n",
    "    regex=r\"^[0-9]+(\\.[0-9])?\\s*(Kanal|Marla)$\",\n",
    "    meta = {\"dimension\": \"Validity\"}\n",
    ")\n",
    "\n",
    "# value of area should be greater than 0\n",
    "ex_area_accuracy = validator.expect_column_min_to_be_between(\n",
    "    column=\"Area Size\", \n",
    "    min_value=0, \n",
    "    meta = {\"dimension\": \"Accuracy\"}\n",
    ")"
   ],
   "metadata": {
    "collapsed": false,
    "ExecuteTime": {
     "end_time": "2024-06-21T22:43:18.868150Z",
     "start_time": "2024-06-21T22:43:18.778032Z"
    }
   },
   "id": "127ac477e94cbf9a",
   "execution_count": 32
  },
  {
   "cell_type": "code",
   "outputs": [],
   "source": [
    "assert ex_area_completeness['success']\n",
    "assert ex_area_validity['success']\n",
    "assert ex_area_accuracy['success']"
   ],
   "metadata": {
    "collapsed": false
   },
   "id": "7f31e7897034ce6e",
   "execution_count": 33
  },
  {
   "cell_type": "code",
   "outputs": [],
   "source": [
    "list_of_known_agencies = df['agency'].unique()\n",
    "list_of_known_agencies = [str(agency) for agency in list_of_known_agencies if str(agency) != 'nan']"
   ],
   "metadata": {
    "collapsed": false,
    "ExecuteTime": {
     "end_time": "2024-06-21T22:43:18.880005Z",
     "start_time": "2024-06-21T22:43:18.872764Z"
    }
   },
   "id": "ce24fd75b8dfa7cd",
   "execution_count": 34
  },
  {
   "cell_type": "code",
   "outputs": [
    {
     "data": {
      "text/plain": "Calculating Metrics:   0%|          | 0/4 [00:00<?, ?it/s]",
      "application/vnd.jupyter.widget-view+json": {
       "version_major": 2,
       "version_minor": 0,
       "model_id": "dd1c4a5d051b4bfd863e5ebc2a3741d7"
      }
     },
     "metadata": {},
     "output_type": "display_data"
    },
    {
     "data": {
      "text/plain": "Calculating Metrics:   0%|          | 0/8 [00:00<?, ?it/s]",
      "application/vnd.jupyter.widget-view+json": {
       "version_major": 2,
       "version_minor": 0,
       "model_id": "4f4ed4d641d0470b956589ec5a764037"
      }
     },
     "metadata": {},
     "output_type": "display_data"
    },
    {
     "data": {
      "text/plain": "Calculating Metrics:   0%|          | 0/6 [00:00<?, ?it/s]",
      "application/vnd.jupyter.widget-view+json": {
       "version_major": 2,
       "version_minor": 0,
       "model_id": "8e56bc0016474997847a541cbf88558e"
      }
     },
     "metadata": {},
     "output_type": "display_data"
    }
   ],
   "source": [
    "# agency\n",
    "ex_agency_timelessness_and_consistency = validator.expect_column_distinct_values_to_be_in_set(\n",
    "    column=\"agency\", \n",
    "    value_set=list_of_known_agencies,\n",
    "    meta = {\"dimension\": \"Timelessness and Consistency\"}\n",
    ")\n",
    "\n",
    "ex_agency_validity = validator.expect_column_values_to_be_of_type(\n",
    "    column=\"agency\", \n",
    "    type_=\"str\", \n",
    "    meta = {\"dimension\": \"Validity\"}\n",
    ")\n",
    "\n",
    "ex_agency_completeness = validator.expect_column_values_to_not_be_null(\n",
    "    column=\"agency\", \n",
    "    mostly=0.5,\n",
    "    meta = {\"dimension\": \"Completeness\"}\n",
    ")\n",
    "    "
   ],
   "metadata": {
    "collapsed": false,
    "ExecuteTime": {
     "end_time": "2024-06-21T22:43:18.987817Z",
     "start_time": "2024-06-21T22:43:18.880005Z"
    }
   },
   "id": "68f920826edbf92d",
   "execution_count": 35
  },
  {
   "cell_type": "code",
   "outputs": [],
   "source": [
    "assert ex_agency_timelessness_and_consistency['success']\n",
    "assert ex_agency_validity['success']\n",
    "assert ex_agency_completeness['success']"
   ],
   "metadata": {
    "collapsed": false
   },
   "id": "3797654827945680",
   "execution_count": 36
  },
  {
   "cell_type": "code",
   "outputs": [
    {
     "data": {
      "text/plain": "Calculating Metrics:   0%|          | 0/4 [00:00<?, ?it/s]",
      "application/vnd.jupyter.widget-view+json": {
       "version_major": 2,
       "version_minor": 0,
       "model_id": "fc54765efa0c49ccb5a1ccea50f7e33e"
      }
     },
     "metadata": {},
     "output_type": "display_data"
    },
    {
     "data": {
      "text/plain": "Calculating Metrics:   0%|          | 0/1 [00:00<?, ?it/s]",
      "application/vnd.jupyter.widget-view+json": {
       "version_major": 2,
       "version_minor": 0,
       "model_id": "678ce576dc43479eb3756c68d4b202b2"
      }
     },
     "metadata": {},
     "output_type": "display_data"
    },
    {
     "data": {
      "text/plain": "Calculating Metrics:   0%|          | 0/4 [00:00<?, ?it/s]",
      "application/vnd.jupyter.widget-view+json": {
       "version_major": 2,
       "version_minor": 0,
       "model_id": "04d707e349eb42bb94f2c61c9b24972a"
      }
     },
     "metadata": {},
     "output_type": "display_data"
    }
   ],
   "source": [
    "# baths\n",
    "ex_baths_accuracy = validator.expect_column_min_to_be_between(\n",
    "    column=\"baths\", \n",
    "    min_value=0, \n",
    "    meta = {\"dimension\": \"Accuracy\"}\n",
    ")\n",
    "\n",
    "ex_baths_validity = validator.expect_column_values_to_be_of_type(\n",
    "    column=\"baths\", \n",
    "    type_=\"int64\", \n",
    "    meta = {\"dimension\": \"Validity\"}\n",
    ")\n",
    "\n",
    "ex_baths_consistency = validator.expect_column_max_to_be_between(\n",
    "    column=\"baths\", \n",
    "    max_value=10, \n",
    "    meta = {\"dimension\": \"Consistency\"}\n",
    ")"
   ],
   "metadata": {
    "collapsed": false,
    "ExecuteTime": {
     "end_time": "2024-06-21T22:43:19.028909Z",
     "start_time": "2024-06-21T22:43:18.992347Z"
    }
   },
   "id": "f470d9003b069a3e",
   "execution_count": 37
  },
  {
   "cell_type": "code",
   "outputs": [],
   "source": [
    "assert ex_baths_accuracy['success']\n",
    "assert ex_baths_validity['success']\n",
    "assert ex_baths_consistency['success']"
   ],
   "metadata": {
    "collapsed": false
   },
   "id": "1eea85b71c1151f0",
   "execution_count": 38
  },
  {
   "cell_type": "code",
   "outputs": [
    {
     "data": {
      "text/plain": "Calculating Metrics:   0%|          | 0/4 [00:00<?, ?it/s]",
      "application/vnd.jupyter.widget-view+json": {
       "version_major": 2,
       "version_minor": 0,
       "model_id": "7befa97c172e4723bbbcf441f506d9f9"
      }
     },
     "metadata": {},
     "output_type": "display_data"
    },
    {
     "data": {
      "text/plain": "Calculating Metrics:   0%|          | 0/1 [00:00<?, ?it/s]",
      "application/vnd.jupyter.widget-view+json": {
       "version_major": 2,
       "version_minor": 0,
       "model_id": "928a32c3103e453082b6d978878ce579"
      }
     },
     "metadata": {},
     "output_type": "display_data"
    },
    {
     "data": {
      "text/plain": "Calculating Metrics:   0%|          | 0/4 [00:00<?, ?it/s]",
      "application/vnd.jupyter.widget-view+json": {
       "version_major": 2,
       "version_minor": 0,
       "model_id": "f84e81ac89dd49a6b4968cc44ea656cd"
      }
     },
     "metadata": {},
     "output_type": "display_data"
    }
   ],
   "source": [
    "# bedrooms\n",
    "ex_bedrooms_accuracy = validator.expect_column_min_to_be_between(\n",
    "    column=\"bedrooms\", \n",
    "    min_value=0, \n",
    "    meta = {\"dimension\": \"Accuracy\"}\n",
    ")\n",
    "\n",
    "ex_bedrooms_validity = validator.expect_column_values_to_be_of_type(\n",
    "    column=\"bedrooms\", \n",
    "    type_=\"int64\", \n",
    "    meta = {\"dimension\": \"Validity\"}\n",
    ")\n",
    "\n",
    "ex_bedrooms_consistency = validator.expect_column_max_to_be_between(\n",
    "    column=\"bedrooms\", \n",
    "    max_value=18, \n",
    "    meta = {\"dimension\": \"Consistency\"}\n",
    ")"
   ],
   "metadata": {
    "collapsed": false,
    "ExecuteTime": {
     "end_time": "2024-06-21T22:43:19.093867Z",
     "start_time": "2024-06-21T22:43:19.034577Z"
    }
   },
   "id": "ff229ac0999c8874",
   "execution_count": 39
  },
  {
   "cell_type": "code",
   "outputs": [],
   "source": [
    "assert ex_bedrooms_accuracy['success']\n",
    "assert ex_bedrooms_validity['success']\n",
    "assert ex_bedrooms_consistency['success']"
   ],
   "metadata": {
    "collapsed": false
   },
   "id": "7866ffa4bd2a5758",
   "execution_count": 40
  },
  {
   "cell_type": "code",
   "outputs": [
    {
     "data": {
      "text/plain": "Calculating Metrics:   0%|          | 0/4 [00:00<?, ?it/s]",
      "application/vnd.jupyter.widget-view+json": {
       "version_major": 2,
       "version_minor": 0,
       "model_id": "ca7064770e75414bb01d81fcddc1f6f3"
      }
     },
     "metadata": {},
     "output_type": "display_data"
    },
    {
     "data": {
      "text/plain": "Calculating Metrics:   0%|          | 0/6 [00:00<?, ?it/s]",
      "application/vnd.jupyter.widget-view+json": {
       "version_major": 2,
       "version_minor": 0,
       "model_id": "cd959b9046f74ebabdbfb1dc3b86c860"
      }
     },
     "metadata": {},
     "output_type": "display_data"
    },
    {
     "data": {
      "text/plain": "Calculating Metrics:   0%|          | 0/4 [00:00<?, ?it/s]",
      "application/vnd.jupyter.widget-view+json": {
       "version_major": 2,
       "version_minor": 0,
       "model_id": "20ca63fe9a8c45f182111b000dadb9b6"
      }
     },
     "metadata": {},
     "output_type": "display_data"
    }
   ],
   "source": [
    "# property_type\n",
    "\n",
    "ex_property_type_timelessness_and_consistency_and_validity = validator.expect_column_distinct_values_to_be_in_set(\n",
    "    column=\"property_type\", \n",
    "    value_set=[\"House\", \"Penthouse\", \"Flat\", \"Farm House\", \"Upper Portion\", \"Lower Portion\", \"Room\"],\n",
    "    meta = {\"dimension\": \"Timelessness and Consistency and Validity\"}\n",
    ")\n",
    "\n",
    "ex_property_type_completeness = validator.expect_column_values_to_not_be_null(\n",
    "    column=\"property_type\", \n",
    "    meta = {\"dimension\": \"Completeness\"}\n",
    ")\n",
    "\n",
    "ex_property_type_uniqueness = validator.expect_column_unique_value_count_to_be_between(\n",
    "    column=\"property_type\", \n",
    "    min_value=5, \n",
    "    max_value=9, \n",
    "    meta = {\"dimension\": \"Uniqueness\"}\n",
    ")\n",
    "\n"
   ],
   "metadata": {
    "collapsed": false,
    "ExecuteTime": {
     "end_time": "2024-06-21T22:43:19.156360Z",
     "start_time": "2024-06-21T22:43:19.099160Z"
    }
   },
   "id": "9bbaaea2e836530f",
   "execution_count": 41
  },
  {
   "cell_type": "code",
   "outputs": [],
   "source": [
    "assert ex_property_type_timelessness_and_consistency_and_validity['success']\n",
    "assert ex_property_type_completeness['success']\n",
    "assert ex_property_type_uniqueness['success']"
   ],
   "metadata": {
    "collapsed": false
   },
   "id": "d8d8292ad28eda84",
   "execution_count": 42
  },
  {
   "cell_type": "code",
   "outputs": [],
   "source": [
    "\n",
    "validator.save_expectation_suite(\n",
    "\tdiscard_failed_expectations = False\n",
    ")"
   ],
   "metadata": {
    "collapsed": false,
    "ExecuteTime": {
     "end_time": "2024-06-21T22:43:19.178080Z",
     "start_time": "2024-06-21T22:43:19.161422Z"
    }
   },
   "id": "1a911c4f42e624fb",
   "execution_count": 43
  },
  {
   "cell_type": "code",
   "outputs": [],
   "source": [
    "# create a checkpoint to validate the data\n",
    "\n",
    "checkpoint = context.add_or_update_checkpoint(\n",
    "    name=\"first_phase_checkpoint\",\n",
    "    validations=[ # A list of validations\n",
    "        {\n",
    "            \"batch_request\": batch_request,\n",
    "            \"expectation_suite_name\": \"first_phase_expectation_suite\",\n",
    "        },\n",
    "    ],\n",
    ")"
   ],
   "metadata": {
    "collapsed": false,
    "ExecuteTime": {
     "end_time": "2024-06-21T22:43:19.187750Z",
     "start_time": "2024-06-21T22:43:19.179087Z"
    }
   },
   "id": "a70e1a6af519f5b3",
   "execution_count": 44
  },
  {
   "cell_type": "code",
   "outputs": [
    {
     "data": {
      "text/plain": "Calculating Metrics:   0%|          | 0/50 [00:00<?, ?it/s]",
      "application/vnd.jupyter.widget-view+json": {
       "version_major": 2,
       "version_minor": 0,
       "model_id": "4a776b5a51c54326873ffa9c03a7eefe"
      }
     },
     "metadata": {},
     "output_type": "display_data"
    }
   ],
   "source": [
    "# validate the data\n",
    "results = checkpoint.run()"
   ],
   "metadata": {
    "collapsed": false,
    "ExecuteTime": {
     "end_time": "2024-06-21T22:43:20.503953Z",
     "start_time": "2024-06-21T22:43:19.193067Z"
    }
   },
   "id": "cfe9bbe0d66a45bb",
   "execution_count": 46
  },
  {
   "cell_type": "code",
   "outputs": [
    {
     "data": {
      "text/plain": "True"
     },
     "execution_count": 47,
     "metadata": {},
     "output_type": "execute_result"
    }
   ],
   "source": [
    "results.success"
   ],
   "metadata": {
    "collapsed": false,
    "ExecuteTime": {
     "end_time": "2024-06-21T22:43:20.508256Z",
     "start_time": "2024-06-21T22:43:20.504961Z"
    }
   },
   "id": "72a9c1934719b637",
   "execution_count": 47
  },
  {
   "cell_type": "code",
   "outputs": [],
   "source": [
    "# Build the data docs (website files)\n",
    "context.build_data_docs()\n",
    "\n",
    "# Open the data docs in a browser\n",
    "context.open_data_docs()"
   ],
   "metadata": {
    "collapsed": false,
    "ExecuteTime": {
     "end_time": "2024-06-21T22:43:22.623407Z",
     "start_time": "2024-06-21T22:43:20.509332Z"
    }
   },
   "id": "b814a1ddec5d14b4",
   "execution_count": 48
  },
  {
   "cell_type": "code",
   "outputs": [],
   "source": [
    "retrieved_checkpoint = context.get_checkpoint(name=\"first_phase_expectation_suite\")"
   ],
   "metadata": {
    "collapsed": false,
    "ExecuteTime": {
     "end_time": "2024-06-21T22:43:22.635638Z",
     "start_time": "2024-06-21T22:43:22.624518Z"
    }
   },
   "id": "7c6355a9cd09b3ce",
   "execution_count": 49
  }
 ],
 "metadata": {
  "kernelspec": {
   "display_name": "Python 3",
   "language": "python",
   "name": "python3"
  },
  "language_info": {
   "codemirror_mode": {
    "name": "ipython",
    "version": 2
   },
   "file_extension": ".py",
   "mimetype": "text/x-python",
   "name": "python",
   "nbconvert_exporter": "python",
   "pygments_lexer": "ipython2",
   "version": "2.7.6"
  }
 },
 "nbformat": 4,
 "nbformat_minor": 5
}
