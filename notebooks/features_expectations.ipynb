{
 "cells": [
  {
   "cell_type": "code",
   "execution_count": 1,
   "metadata": {
    "collapsed": true
   },
   "outputs": [
    {
     "name": "stdout",
     "output_type": "stream",
     "text": [
      "\u001B[33mC:\\Users\\Bod\\PycharmProjects\\Sum2024MLOps\\venv\\Lib\\site-packages\\zenml\\integrations\\integration.py:19: DeprecationWarning: pkg_resources is deprecated as an API. See https://setuptools.pypa.io/en/latest/pkg_resources.html\n",
      "  import pkg_resources\n",
      "\u001B[0m\n",
      "\u001B[33mC:\\Users\\Bod\\PycharmProjects\\Sum2024MLOps\\venv\\Lib\\site-packages\\pkg_resources\\__init__.py:3117: DeprecationWarning: Deprecated call to \u001B[0m\u001B[1;36mpkg_resources.declare_namespace('zc')\u001B[33m.\n",
      "Implementing implicit namespace packages (as specified in PEP 420) is preferred to \u001B[0m\u001B[1;36mpkg_resources.declare_namespace\u001B[33m. See https://setuptools.pypa.io/en/latest/references/keywords.html#keyword-namespace-packages\n",
      "  declare_namespace(pkg)\n",
      "\u001B[0m\n",
      "C:\\Users\\Bod\\PycharmProjects\\Sum2024MLOps\n"
     ]
    }
   ],
   "source": [
    "import pandas as pd\n",
    "from great_expectations.data_context import FileDataContext\n",
    "import os\n",
    "from src.data import preprocess_data\n",
    "\n",
    "os.chdir(\"../\")\n",
    "print(os.getcwd())"
   ]
  },
  {
   "cell_type": "code",
   "execution_count": 2,
   "metadata": {
    "collapsed": false
   },
   "outputs": [
    {
     "data": {
      "text/plain": "       property_id  location_id  \\\n0         13979008         3696   \n1         14053499         1451   \n2         14117380          756   \n3         14052338           69   \n4         14034663         1553   \n...            ...          ...   \n33683     15829902         1483   \n33684     15829886         1482   \n33685     15829903         1483   \n33686     15829911         1483   \n33687     15829913         1479   \n\n                                                page_url property_type  \\\n0      https://www.zameen.com/Property/chinar_bagh_ch...         House   \n1      https://www.zameen.com/Property/dha_defence_dh...         House   \n2      https://www.zameen.com/Property/lahore_bor_boa...         House   \n3      https://www.zameen.com/Property/lahore_cavalry...         House   \n4      https://www.zameen.com/Property/model_town_mod...         House   \n...                                                  ...           ...   \n33683  https://www.zameen.com/Property/d_h_a_dha_phas...         House   \n33684  https://www.zameen.com/Property/d_h_a_dha_phas...         House   \n33685  https://www.zameen.com/Property/d_h_a_dha_phas...         House   \n33686  https://www.zameen.com/Property/d_h_a_dha_phas...         House   \n33687  https://www.zameen.com/Property/d_h_a_dha_phas...         House   \n\n          price                                location     city  \\\n0      13000000                             Chinar Bagh   Lahore   \n1      46000000                             DHA Defence   Lahore   \n2       7500000  BOR - Board of Revenue Housing Society   Lahore   \n3      12500000                          Cavalry Ground   Lahore   \n4      65000000                              Model Town   Lahore   \n...         ...                                     ...      ...   \n33683  60000000                             DHA Defence  Karachi   \n33684  46000000                             DHA Defence  Karachi   \n33685  52500000                             DHA Defence  Karachi   \n33686  65000000                             DHA Defence  Karachi   \n33687  52500000                             DHA Defence  Karachi   \n\n      province_name   latitude  longitude  baths        area   purpose  \\\n0            Punjab  31.321454  74.239497      0   1.0 Kanal  For Sale   \n1            Punjab  31.494408  74.437666      7   1.0 Kanal  For Sale   \n2            Punjab  31.478452  74.296846      4   3.0 Marla  For Sale   \n3            Punjab  31.492705  74.367093      3   5.0 Marla  For Sale   \n4            Punjab  31.476915  74.324641      0   1.0 Kanal  For Sale   \n...             ...        ...        ...    ...         ...       ...   \n33683         Sindh  24.805045  67.064323      4  12.0 Marla  For Sale   \n33684         Sindh  24.810265  67.043552      4  10.0 Marla  For Sale   \n33685         Sindh  24.805045  67.064323      4  12.0 Marla  For Sale   \n33686         Sindh  24.805045  67.064323      4  12.0 Marla  For Sale   \n33687         Sindh  24.834337  67.055397      4   8.8 Marla  For Sale   \n\n       bedrooms  date_added                         agency  \\\n0             6  01-03-2019  Niazi Real Estate & Marketing   \n1             6  01-03-2019                            NaN   \n2             4  01-03-2019                            NaN   \n3             3  01-03-2019                            NaN   \n4             4  01-03-2019                            NaN   \n...         ...         ...                            ...   \n33683         4  05-06-2019                  Parekh Estate   \n33684         4  05-06-2019                  Parekh Estate   \n33685         4  05-06-2019                  Parekh Estate   \n33686         4  05-06-2019                  Parekh Estate   \n33687         4  05-06-2019                  Parekh Estate   \n\n                             agent Area Type  Area Size Area Category  \n0      Agha Mansoor Ali Khan Niazi     Kanal        1.0     1-5 Kanal  \n1                              NaN     Kanal        1.0     1-5 Kanal  \n2                              NaN     Marla        3.0     0-5 Marla  \n3                              NaN     Marla        5.0     0-5 Marla  \n4                              NaN     Kanal        1.0     1-5 Kanal  \n...                            ...       ...        ...           ...  \n33683               Noman Charakry     Marla       12.0   10-15 Marla  \n33684               Noman Charakry     Marla       10.0    5-10 Marla  \n33685               Noman Charakry     Marla       12.0   10-15 Marla  \n33686               Noman Charakry     Marla       12.0   10-15 Marla  \n33687               Noman Charakry     Marla        8.8    5-10 Marla  \n\n[33688 rows x 20 columns]",
      "text/html": "<div>\n<style scoped>\n    .dataframe tbody tr th:only-of-type {\n        vertical-align: middle;\n    }\n\n    .dataframe tbody tr th {\n        vertical-align: top;\n    }\n\n    .dataframe thead th {\n        text-align: right;\n    }\n</style>\n<table border=\"1\" class=\"dataframe\">\n  <thead>\n    <tr style=\"text-align: right;\">\n      <th></th>\n      <th>property_id</th>\n      <th>location_id</th>\n      <th>page_url</th>\n      <th>property_type</th>\n      <th>price</th>\n      <th>location</th>\n      <th>city</th>\n      <th>province_name</th>\n      <th>latitude</th>\n      <th>longitude</th>\n      <th>baths</th>\n      <th>area</th>\n      <th>purpose</th>\n      <th>bedrooms</th>\n      <th>date_added</th>\n      <th>agency</th>\n      <th>agent</th>\n      <th>Area Type</th>\n      <th>Area Size</th>\n      <th>Area Category</th>\n    </tr>\n  </thead>\n  <tbody>\n    <tr>\n      <th>0</th>\n      <td>13979008</td>\n      <td>3696</td>\n      <td>https://www.zameen.com/Property/chinar_bagh_ch...</td>\n      <td>House</td>\n      <td>13000000</td>\n      <td>Chinar Bagh</td>\n      <td>Lahore</td>\n      <td>Punjab</td>\n      <td>31.321454</td>\n      <td>74.239497</td>\n      <td>0</td>\n      <td>1.0 Kanal</td>\n      <td>For Sale</td>\n      <td>6</td>\n      <td>01-03-2019</td>\n      <td>Niazi Real Estate &amp; Marketing</td>\n      <td>Agha Mansoor Ali Khan Niazi</td>\n      <td>Kanal</td>\n      <td>1.0</td>\n      <td>1-5 Kanal</td>\n    </tr>\n    <tr>\n      <th>1</th>\n      <td>14053499</td>\n      <td>1451</td>\n      <td>https://www.zameen.com/Property/dha_defence_dh...</td>\n      <td>House</td>\n      <td>46000000</td>\n      <td>DHA Defence</td>\n      <td>Lahore</td>\n      <td>Punjab</td>\n      <td>31.494408</td>\n      <td>74.437666</td>\n      <td>7</td>\n      <td>1.0 Kanal</td>\n      <td>For Sale</td>\n      <td>6</td>\n      <td>01-03-2019</td>\n      <td>NaN</td>\n      <td>NaN</td>\n      <td>Kanal</td>\n      <td>1.0</td>\n      <td>1-5 Kanal</td>\n    </tr>\n    <tr>\n      <th>2</th>\n      <td>14117380</td>\n      <td>756</td>\n      <td>https://www.zameen.com/Property/lahore_bor_boa...</td>\n      <td>House</td>\n      <td>7500000</td>\n      <td>BOR - Board of Revenue Housing Society</td>\n      <td>Lahore</td>\n      <td>Punjab</td>\n      <td>31.478452</td>\n      <td>74.296846</td>\n      <td>4</td>\n      <td>3.0 Marla</td>\n      <td>For Sale</td>\n      <td>4</td>\n      <td>01-03-2019</td>\n      <td>NaN</td>\n      <td>NaN</td>\n      <td>Marla</td>\n      <td>3.0</td>\n      <td>0-5 Marla</td>\n    </tr>\n    <tr>\n      <th>3</th>\n      <td>14052338</td>\n      <td>69</td>\n      <td>https://www.zameen.com/Property/lahore_cavalry...</td>\n      <td>House</td>\n      <td>12500000</td>\n      <td>Cavalry Ground</td>\n      <td>Lahore</td>\n      <td>Punjab</td>\n      <td>31.492705</td>\n      <td>74.367093</td>\n      <td>3</td>\n      <td>5.0 Marla</td>\n      <td>For Sale</td>\n      <td>3</td>\n      <td>01-03-2019</td>\n      <td>NaN</td>\n      <td>NaN</td>\n      <td>Marla</td>\n      <td>5.0</td>\n      <td>0-5 Marla</td>\n    </tr>\n    <tr>\n      <th>4</th>\n      <td>14034663</td>\n      <td>1553</td>\n      <td>https://www.zameen.com/Property/model_town_mod...</td>\n      <td>House</td>\n      <td>65000000</td>\n      <td>Model Town</td>\n      <td>Lahore</td>\n      <td>Punjab</td>\n      <td>31.476915</td>\n      <td>74.324641</td>\n      <td>0</td>\n      <td>1.0 Kanal</td>\n      <td>For Sale</td>\n      <td>4</td>\n      <td>01-03-2019</td>\n      <td>NaN</td>\n      <td>NaN</td>\n      <td>Kanal</td>\n      <td>1.0</td>\n      <td>1-5 Kanal</td>\n    </tr>\n    <tr>\n      <th>...</th>\n      <td>...</td>\n      <td>...</td>\n      <td>...</td>\n      <td>...</td>\n      <td>...</td>\n      <td>...</td>\n      <td>...</td>\n      <td>...</td>\n      <td>...</td>\n      <td>...</td>\n      <td>...</td>\n      <td>...</td>\n      <td>...</td>\n      <td>...</td>\n      <td>...</td>\n      <td>...</td>\n      <td>...</td>\n      <td>...</td>\n      <td>...</td>\n      <td>...</td>\n    </tr>\n    <tr>\n      <th>33683</th>\n      <td>15829902</td>\n      <td>1483</td>\n      <td>https://www.zameen.com/Property/d_h_a_dha_phas...</td>\n      <td>House</td>\n      <td>60000000</td>\n      <td>DHA Defence</td>\n      <td>Karachi</td>\n      <td>Sindh</td>\n      <td>24.805045</td>\n      <td>67.064323</td>\n      <td>4</td>\n      <td>12.0 Marla</td>\n      <td>For Sale</td>\n      <td>4</td>\n      <td>05-06-2019</td>\n      <td>Parekh Estate</td>\n      <td>Noman Charakry</td>\n      <td>Marla</td>\n      <td>12.0</td>\n      <td>10-15 Marla</td>\n    </tr>\n    <tr>\n      <th>33684</th>\n      <td>15829886</td>\n      <td>1482</td>\n      <td>https://www.zameen.com/Property/d_h_a_dha_phas...</td>\n      <td>House</td>\n      <td>46000000</td>\n      <td>DHA Defence</td>\n      <td>Karachi</td>\n      <td>Sindh</td>\n      <td>24.810265</td>\n      <td>67.043552</td>\n      <td>4</td>\n      <td>10.0 Marla</td>\n      <td>For Sale</td>\n      <td>4</td>\n      <td>05-06-2019</td>\n      <td>Parekh Estate</td>\n      <td>Noman Charakry</td>\n      <td>Marla</td>\n      <td>10.0</td>\n      <td>5-10 Marla</td>\n    </tr>\n    <tr>\n      <th>33685</th>\n      <td>15829903</td>\n      <td>1483</td>\n      <td>https://www.zameen.com/Property/d_h_a_dha_phas...</td>\n      <td>House</td>\n      <td>52500000</td>\n      <td>DHA Defence</td>\n      <td>Karachi</td>\n      <td>Sindh</td>\n      <td>24.805045</td>\n      <td>67.064323</td>\n      <td>4</td>\n      <td>12.0 Marla</td>\n      <td>For Sale</td>\n      <td>4</td>\n      <td>05-06-2019</td>\n      <td>Parekh Estate</td>\n      <td>Noman Charakry</td>\n      <td>Marla</td>\n      <td>12.0</td>\n      <td>10-15 Marla</td>\n    </tr>\n    <tr>\n      <th>33686</th>\n      <td>15829911</td>\n      <td>1483</td>\n      <td>https://www.zameen.com/Property/d_h_a_dha_phas...</td>\n      <td>House</td>\n      <td>65000000</td>\n      <td>DHA Defence</td>\n      <td>Karachi</td>\n      <td>Sindh</td>\n      <td>24.805045</td>\n      <td>67.064323</td>\n      <td>4</td>\n      <td>12.0 Marla</td>\n      <td>For Sale</td>\n      <td>4</td>\n      <td>05-06-2019</td>\n      <td>Parekh Estate</td>\n      <td>Noman Charakry</td>\n      <td>Marla</td>\n      <td>12.0</td>\n      <td>10-15 Marla</td>\n    </tr>\n    <tr>\n      <th>33687</th>\n      <td>15829913</td>\n      <td>1479</td>\n      <td>https://www.zameen.com/Property/d_h_a_dha_phas...</td>\n      <td>House</td>\n      <td>52500000</td>\n      <td>DHA Defence</td>\n      <td>Karachi</td>\n      <td>Sindh</td>\n      <td>24.834337</td>\n      <td>67.055397</td>\n      <td>4</td>\n      <td>8.8 Marla</td>\n      <td>For Sale</td>\n      <td>4</td>\n      <td>05-06-2019</td>\n      <td>Parekh Estate</td>\n      <td>Noman Charakry</td>\n      <td>Marla</td>\n      <td>8.8</td>\n      <td>5-10 Marla</td>\n    </tr>\n  </tbody>\n</table>\n<p>33688 rows × 20 columns</p>\n</div>"
     },
     "execution_count": 2,
     "metadata": {},
     "output_type": "execute_result"
    }
   ],
   "source": [
    "data = pd.read_csv('data/samples/sample.csv')\n",
    "data"
   ]
  },
  {
   "cell_type": "code",
   "execution_count": 3,
   "metadata": {
    "collapsed": false
   },
   "outputs": [
    {
     "name": "stdout",
     "output_type": "stream",
     "text": [
      "missing values filled\n",
      "datetime features processed\n",
      "metrics converted\n",
      "unnecessary columns dropped\n",
      "features encoded\n",
      "features scaled\n",
      "Scaling one-hot encoded features for property_type\n",
      "Scaling one-hot encoded features for city\n",
      "Scaling one-hot encoded features for province_name\n",
      "Scaling one-hot encoded features for purpose\n",
      "one-hot encoded features scaled\n",
      "datetime encoded\n"
     ]
    },
    {
     "data": {
      "text/plain": "       location_id  latitude  longitude     baths      area  bedrooms  year  \\\n0         0.267870  0.725112   0.966084 -1.316296  0.074775  1.366444   0.0   \n1         0.105118  0.744195   0.991964  1.762403  0.074775  1.366444   0.0   \n2         0.054734  0.742434   0.973574  0.442961 -0.090502  0.396874   0.0   \n3         0.004930  0.744007   0.982748  0.003146 -0.071058 -0.087911   0.0   \n4         0.112513  0.742265   0.977204 -1.316296  0.074775  0.396874   0.0   \n...            ...       ...        ...       ...       ...       ...   ...   \n33683     0.107438  0.006137   0.029029  0.442961 -0.003002  0.396874   0.0   \n33684     0.107366  0.006713   0.026317  0.442961 -0.022447  0.396874   0.0   \n33685     0.107438  0.006137   0.029029  0.442961 -0.003002  0.396874   0.0   \n33686     0.107438  0.006137   0.029029  0.442961 -0.003002  0.396874   0.0   \n33687     0.107148  0.009369   0.027864  0.442961 -0.034113  0.396874   0.0   \n\n       property_type_Farm House  property_type_Flat  property_type_House  ...  \\\n0                     -0.072676             -0.5619             0.792955  ...   \n1                     -0.072676             -0.5619             0.792955  ...   \n2                     -0.072676             -0.5619             0.792955  ...   \n3                     -0.072676             -0.5619             0.792955  ...   \n4                     -0.072676             -0.5619             0.792955  ...   \n...                         ...                 ...                  ...  ...   \n33683                 -0.072676             -0.5619             0.792955  ...   \n33684                 -0.072676             -0.5619             0.792955  ...   \n33685                 -0.072676             -0.5619             0.792955  ...   \n33686                 -0.072676             -0.5619             0.792955  ...   \n33687                 -0.072676             -0.5619             0.792955  ...   \n\n       city_Rawalpindi  province_name_Islamabad Capital  province_name_Punjab  \\\n0            -0.407279                        -0.577122              1.187029   \n1            -0.407279                        -0.577122              1.187029   \n2            -0.407279                        -0.577122              1.187029   \n3            -0.407279                        -0.577122              1.187029   \n4            -0.407279                        -0.577122              1.187029   \n...                ...                              ...                   ...   \n33683        -0.407279                        -0.577122             -0.842439   \n33684        -0.407279                        -0.577122             -0.842439   \n33685        -0.407279                        -0.577122             -0.842439   \n33686        -0.407279                        -0.577122             -0.842439   \n33687        -0.407279                        -0.577122             -0.842439   \n\n       province_name_Sindh  purpose_For Rent  purpose_For Sale   day_sin  \\\n0                -0.709832         -0.646179          0.646179  0.571268   \n1                -0.709832         -0.646179          0.646179  0.571268   \n2                -0.709832         -0.646179          0.646179  0.571268   \n3                -0.709832         -0.646179          0.646179  0.571268   \n4                -0.709832         -0.646179          0.646179  0.571268   \n...                    ...               ...               ...       ...   \n33683             1.408784         -0.646179          0.646179  0.937752   \n33684             1.408784         -0.646179          0.646179  0.937752   \n33685             1.408784         -0.646179          0.646179  0.937752   \n33686             1.408784         -0.646179          0.646179  0.937752   \n33687             1.408784         -0.646179          0.646179  0.937752   \n\n        day_cos  month_sin  month_cos  \n0      0.571268        0.5        0.5  \n1      0.571268        0.5        0.5  \n2      0.571268        0.5        0.5  \n3      0.571268        0.5        0.5  \n4      0.571268        0.5        0.5  \n...         ...        ...        ...  \n33683  0.937752        0.5        0.5  \n33684  0.937752        0.5        0.5  \n33685  0.937752        0.5        0.5  \n33686  0.937752        0.5        0.5  \n33687  0.937752        0.5        0.5  \n\n[33688 rows x 28 columns]",
      "text/html": "<div>\n<style scoped>\n    .dataframe tbody tr th:only-of-type {\n        vertical-align: middle;\n    }\n\n    .dataframe tbody tr th {\n        vertical-align: top;\n    }\n\n    .dataframe thead th {\n        text-align: right;\n    }\n</style>\n<table border=\"1\" class=\"dataframe\">\n  <thead>\n    <tr style=\"text-align: right;\">\n      <th></th>\n      <th>location_id</th>\n      <th>latitude</th>\n      <th>longitude</th>\n      <th>baths</th>\n      <th>area</th>\n      <th>bedrooms</th>\n      <th>year</th>\n      <th>property_type_Farm House</th>\n      <th>property_type_Flat</th>\n      <th>property_type_House</th>\n      <th>...</th>\n      <th>city_Rawalpindi</th>\n      <th>province_name_Islamabad Capital</th>\n      <th>province_name_Punjab</th>\n      <th>province_name_Sindh</th>\n      <th>purpose_For Rent</th>\n      <th>purpose_For Sale</th>\n      <th>day_sin</th>\n      <th>day_cos</th>\n      <th>month_sin</th>\n      <th>month_cos</th>\n    </tr>\n  </thead>\n  <tbody>\n    <tr>\n      <th>0</th>\n      <td>0.267870</td>\n      <td>0.725112</td>\n      <td>0.966084</td>\n      <td>-1.316296</td>\n      <td>0.074775</td>\n      <td>1.366444</td>\n      <td>0.0</td>\n      <td>-0.072676</td>\n      <td>-0.5619</td>\n      <td>0.792955</td>\n      <td>...</td>\n      <td>-0.407279</td>\n      <td>-0.577122</td>\n      <td>1.187029</td>\n      <td>-0.709832</td>\n      <td>-0.646179</td>\n      <td>0.646179</td>\n      <td>0.571268</td>\n      <td>0.571268</td>\n      <td>0.5</td>\n      <td>0.5</td>\n    </tr>\n    <tr>\n      <th>1</th>\n      <td>0.105118</td>\n      <td>0.744195</td>\n      <td>0.991964</td>\n      <td>1.762403</td>\n      <td>0.074775</td>\n      <td>1.366444</td>\n      <td>0.0</td>\n      <td>-0.072676</td>\n      <td>-0.5619</td>\n      <td>0.792955</td>\n      <td>...</td>\n      <td>-0.407279</td>\n      <td>-0.577122</td>\n      <td>1.187029</td>\n      <td>-0.709832</td>\n      <td>-0.646179</td>\n      <td>0.646179</td>\n      <td>0.571268</td>\n      <td>0.571268</td>\n      <td>0.5</td>\n      <td>0.5</td>\n    </tr>\n    <tr>\n      <th>2</th>\n      <td>0.054734</td>\n      <td>0.742434</td>\n      <td>0.973574</td>\n      <td>0.442961</td>\n      <td>-0.090502</td>\n      <td>0.396874</td>\n      <td>0.0</td>\n      <td>-0.072676</td>\n      <td>-0.5619</td>\n      <td>0.792955</td>\n      <td>...</td>\n      <td>-0.407279</td>\n      <td>-0.577122</td>\n      <td>1.187029</td>\n      <td>-0.709832</td>\n      <td>-0.646179</td>\n      <td>0.646179</td>\n      <td>0.571268</td>\n      <td>0.571268</td>\n      <td>0.5</td>\n      <td>0.5</td>\n    </tr>\n    <tr>\n      <th>3</th>\n      <td>0.004930</td>\n      <td>0.744007</td>\n      <td>0.982748</td>\n      <td>0.003146</td>\n      <td>-0.071058</td>\n      <td>-0.087911</td>\n      <td>0.0</td>\n      <td>-0.072676</td>\n      <td>-0.5619</td>\n      <td>0.792955</td>\n      <td>...</td>\n      <td>-0.407279</td>\n      <td>-0.577122</td>\n      <td>1.187029</td>\n      <td>-0.709832</td>\n      <td>-0.646179</td>\n      <td>0.646179</td>\n      <td>0.571268</td>\n      <td>0.571268</td>\n      <td>0.5</td>\n      <td>0.5</td>\n    </tr>\n    <tr>\n      <th>4</th>\n      <td>0.112513</td>\n      <td>0.742265</td>\n      <td>0.977204</td>\n      <td>-1.316296</td>\n      <td>0.074775</td>\n      <td>0.396874</td>\n      <td>0.0</td>\n      <td>-0.072676</td>\n      <td>-0.5619</td>\n      <td>0.792955</td>\n      <td>...</td>\n      <td>-0.407279</td>\n      <td>-0.577122</td>\n      <td>1.187029</td>\n      <td>-0.709832</td>\n      <td>-0.646179</td>\n      <td>0.646179</td>\n      <td>0.571268</td>\n      <td>0.571268</td>\n      <td>0.5</td>\n      <td>0.5</td>\n    </tr>\n    <tr>\n      <th>...</th>\n      <td>...</td>\n      <td>...</td>\n      <td>...</td>\n      <td>...</td>\n      <td>...</td>\n      <td>...</td>\n      <td>...</td>\n      <td>...</td>\n      <td>...</td>\n      <td>...</td>\n      <td>...</td>\n      <td>...</td>\n      <td>...</td>\n      <td>...</td>\n      <td>...</td>\n      <td>...</td>\n      <td>...</td>\n      <td>...</td>\n      <td>...</td>\n      <td>...</td>\n      <td>...</td>\n    </tr>\n    <tr>\n      <th>33683</th>\n      <td>0.107438</td>\n      <td>0.006137</td>\n      <td>0.029029</td>\n      <td>0.442961</td>\n      <td>-0.003002</td>\n      <td>0.396874</td>\n      <td>0.0</td>\n      <td>-0.072676</td>\n      <td>-0.5619</td>\n      <td>0.792955</td>\n      <td>...</td>\n      <td>-0.407279</td>\n      <td>-0.577122</td>\n      <td>-0.842439</td>\n      <td>1.408784</td>\n      <td>-0.646179</td>\n      <td>0.646179</td>\n      <td>0.937752</td>\n      <td>0.937752</td>\n      <td>0.5</td>\n      <td>0.5</td>\n    </tr>\n    <tr>\n      <th>33684</th>\n      <td>0.107366</td>\n      <td>0.006713</td>\n      <td>0.026317</td>\n      <td>0.442961</td>\n      <td>-0.022447</td>\n      <td>0.396874</td>\n      <td>0.0</td>\n      <td>-0.072676</td>\n      <td>-0.5619</td>\n      <td>0.792955</td>\n      <td>...</td>\n      <td>-0.407279</td>\n      <td>-0.577122</td>\n      <td>-0.842439</td>\n      <td>1.408784</td>\n      <td>-0.646179</td>\n      <td>0.646179</td>\n      <td>0.937752</td>\n      <td>0.937752</td>\n      <td>0.5</td>\n      <td>0.5</td>\n    </tr>\n    <tr>\n      <th>33685</th>\n      <td>0.107438</td>\n      <td>0.006137</td>\n      <td>0.029029</td>\n      <td>0.442961</td>\n      <td>-0.003002</td>\n      <td>0.396874</td>\n      <td>0.0</td>\n      <td>-0.072676</td>\n      <td>-0.5619</td>\n      <td>0.792955</td>\n      <td>...</td>\n      <td>-0.407279</td>\n      <td>-0.577122</td>\n      <td>-0.842439</td>\n      <td>1.408784</td>\n      <td>-0.646179</td>\n      <td>0.646179</td>\n      <td>0.937752</td>\n      <td>0.937752</td>\n      <td>0.5</td>\n      <td>0.5</td>\n    </tr>\n    <tr>\n      <th>33686</th>\n      <td>0.107438</td>\n      <td>0.006137</td>\n      <td>0.029029</td>\n      <td>0.442961</td>\n      <td>-0.003002</td>\n      <td>0.396874</td>\n      <td>0.0</td>\n      <td>-0.072676</td>\n      <td>-0.5619</td>\n      <td>0.792955</td>\n      <td>...</td>\n      <td>-0.407279</td>\n      <td>-0.577122</td>\n      <td>-0.842439</td>\n      <td>1.408784</td>\n      <td>-0.646179</td>\n      <td>0.646179</td>\n      <td>0.937752</td>\n      <td>0.937752</td>\n      <td>0.5</td>\n      <td>0.5</td>\n    </tr>\n    <tr>\n      <th>33687</th>\n      <td>0.107148</td>\n      <td>0.009369</td>\n      <td>0.027864</td>\n      <td>0.442961</td>\n      <td>-0.034113</td>\n      <td>0.396874</td>\n      <td>0.0</td>\n      <td>-0.072676</td>\n      <td>-0.5619</td>\n      <td>0.792955</td>\n      <td>...</td>\n      <td>-0.407279</td>\n      <td>-0.577122</td>\n      <td>-0.842439</td>\n      <td>1.408784</td>\n      <td>-0.646179</td>\n      <td>0.646179</td>\n      <td>0.937752</td>\n      <td>0.937752</td>\n      <td>0.5</td>\n      <td>0.5</td>\n    </tr>\n  </tbody>\n</table>\n<p>33688 rows × 28 columns</p>\n</div>"
     },
     "execution_count": 3,
     "metadata": {},
     "output_type": "execute_result"
    }
   ],
   "source": [
    "X, y = preprocess_data(data)\n",
    "X"
   ]
  },
  {
   "cell_type": "code",
   "execution_count": 4,
   "metadata": {
    "collapsed": false
   },
   "outputs": [
    {
     "data": {
      "text/plain": "0       -0.141071\n1        0.676946\n2       -0.277408\n3       -0.153466\n4        1.147926\n           ...   \n33683    1.023984\n33684    0.676946\n33685    0.838071\n33686    1.147926\n33687    0.838071\nName: price, Length: 33688, dtype: float64"
     },
     "execution_count": 4,
     "metadata": {},
     "output_type": "execute_result"
    }
   ],
   "source": [
    "y"
   ]
  },
  {
   "cell_type": "code",
   "execution_count": 5,
   "metadata": {
    "collapsed": false
   },
   "outputs": [
    {
     "data": {
      "text/plain": "       location_id  latitude  longitude     baths      area  bedrooms  year  \\\n0         0.267870  0.725112   0.966084 -1.316296  0.074775  1.366444   0.0   \n1         0.105118  0.744195   0.991964  1.762403  0.074775  1.366444   0.0   \n2         0.054734  0.742434   0.973574  0.442961 -0.090502  0.396874   0.0   \n3         0.004930  0.744007   0.982748  0.003146 -0.071058 -0.087911   0.0   \n4         0.112513  0.742265   0.977204 -1.316296  0.074775  0.396874   0.0   \n...            ...       ...        ...       ...       ...       ...   ...   \n33683     0.107438  0.006137   0.029029  0.442961 -0.003002  0.396874   0.0   \n33684     0.107366  0.006713   0.026317  0.442961 -0.022447  0.396874   0.0   \n33685     0.107438  0.006137   0.029029  0.442961 -0.003002  0.396874   0.0   \n33686     0.107438  0.006137   0.029029  0.442961 -0.003002  0.396874   0.0   \n33687     0.107148  0.009369   0.027864  0.442961 -0.034113  0.396874   0.0   \n\n       property_type_Farm House  property_type_Flat  property_type_House  ...  \\\n0                     -0.072676             -0.5619             0.792955  ...   \n1                     -0.072676             -0.5619             0.792955  ...   \n2                     -0.072676             -0.5619             0.792955  ...   \n3                     -0.072676             -0.5619             0.792955  ...   \n4                     -0.072676             -0.5619             0.792955  ...   \n...                         ...                 ...                  ...  ...   \n33683                 -0.072676             -0.5619             0.792955  ...   \n33684                 -0.072676             -0.5619             0.792955  ...   \n33685                 -0.072676             -0.5619             0.792955  ...   \n33686                 -0.072676             -0.5619             0.792955  ...   \n33687                 -0.072676             -0.5619             0.792955  ...   \n\n       province_name_Islamabad Capital  province_name_Punjab  \\\n0                            -0.577122              1.187029   \n1                            -0.577122              1.187029   \n2                            -0.577122              1.187029   \n3                            -0.577122              1.187029   \n4                            -0.577122              1.187029   \n...                                ...                   ...   \n33683                        -0.577122             -0.842439   \n33684                        -0.577122             -0.842439   \n33685                        -0.577122             -0.842439   \n33686                        -0.577122             -0.842439   \n33687                        -0.577122             -0.842439   \n\n       province_name_Sindh  purpose_For Rent  purpose_For Sale   day_sin  \\\n0                -0.709832         -0.646179          0.646179  0.571268   \n1                -0.709832         -0.646179          0.646179  0.571268   \n2                -0.709832         -0.646179          0.646179  0.571268   \n3                -0.709832         -0.646179          0.646179  0.571268   \n4                -0.709832         -0.646179          0.646179  0.571268   \n...                    ...               ...               ...       ...   \n33683             1.408784         -0.646179          0.646179  0.937752   \n33684             1.408784         -0.646179          0.646179  0.937752   \n33685             1.408784         -0.646179          0.646179  0.937752   \n33686             1.408784         -0.646179          0.646179  0.937752   \n33687             1.408784         -0.646179          0.646179  0.937752   \n\n        day_cos  month_sin  month_cos     price  \n0      0.571268        0.5        0.5 -0.141071  \n1      0.571268        0.5        0.5  0.676946  \n2      0.571268        0.5        0.5 -0.277408  \n3      0.571268        0.5        0.5 -0.153466  \n4      0.571268        0.5        0.5  1.147926  \n...         ...        ...        ...       ...  \n33683  0.937752        0.5        0.5  1.023984  \n33684  0.937752        0.5        0.5  0.676946  \n33685  0.937752        0.5        0.5  0.838071  \n33686  0.937752        0.5        0.5  1.147926  \n33687  0.937752        0.5        0.5  0.838071  \n\n[33688 rows x 29 columns]",
      "text/html": "<div>\n<style scoped>\n    .dataframe tbody tr th:only-of-type {\n        vertical-align: middle;\n    }\n\n    .dataframe tbody tr th {\n        vertical-align: top;\n    }\n\n    .dataframe thead th {\n        text-align: right;\n    }\n</style>\n<table border=\"1\" class=\"dataframe\">\n  <thead>\n    <tr style=\"text-align: right;\">\n      <th></th>\n      <th>location_id</th>\n      <th>latitude</th>\n      <th>longitude</th>\n      <th>baths</th>\n      <th>area</th>\n      <th>bedrooms</th>\n      <th>year</th>\n      <th>property_type_Farm House</th>\n      <th>property_type_Flat</th>\n      <th>property_type_House</th>\n      <th>...</th>\n      <th>province_name_Islamabad Capital</th>\n      <th>province_name_Punjab</th>\n      <th>province_name_Sindh</th>\n      <th>purpose_For Rent</th>\n      <th>purpose_For Sale</th>\n      <th>day_sin</th>\n      <th>day_cos</th>\n      <th>month_sin</th>\n      <th>month_cos</th>\n      <th>price</th>\n    </tr>\n  </thead>\n  <tbody>\n    <tr>\n      <th>0</th>\n      <td>0.267870</td>\n      <td>0.725112</td>\n      <td>0.966084</td>\n      <td>-1.316296</td>\n      <td>0.074775</td>\n      <td>1.366444</td>\n      <td>0.0</td>\n      <td>-0.072676</td>\n      <td>-0.5619</td>\n      <td>0.792955</td>\n      <td>...</td>\n      <td>-0.577122</td>\n      <td>1.187029</td>\n      <td>-0.709832</td>\n      <td>-0.646179</td>\n      <td>0.646179</td>\n      <td>0.571268</td>\n      <td>0.571268</td>\n      <td>0.5</td>\n      <td>0.5</td>\n      <td>-0.141071</td>\n    </tr>\n    <tr>\n      <th>1</th>\n      <td>0.105118</td>\n      <td>0.744195</td>\n      <td>0.991964</td>\n      <td>1.762403</td>\n      <td>0.074775</td>\n      <td>1.366444</td>\n      <td>0.0</td>\n      <td>-0.072676</td>\n      <td>-0.5619</td>\n      <td>0.792955</td>\n      <td>...</td>\n      <td>-0.577122</td>\n      <td>1.187029</td>\n      <td>-0.709832</td>\n      <td>-0.646179</td>\n      <td>0.646179</td>\n      <td>0.571268</td>\n      <td>0.571268</td>\n      <td>0.5</td>\n      <td>0.5</td>\n      <td>0.676946</td>\n    </tr>\n    <tr>\n      <th>2</th>\n      <td>0.054734</td>\n      <td>0.742434</td>\n      <td>0.973574</td>\n      <td>0.442961</td>\n      <td>-0.090502</td>\n      <td>0.396874</td>\n      <td>0.0</td>\n      <td>-0.072676</td>\n      <td>-0.5619</td>\n      <td>0.792955</td>\n      <td>...</td>\n      <td>-0.577122</td>\n      <td>1.187029</td>\n      <td>-0.709832</td>\n      <td>-0.646179</td>\n      <td>0.646179</td>\n      <td>0.571268</td>\n      <td>0.571268</td>\n      <td>0.5</td>\n      <td>0.5</td>\n      <td>-0.277408</td>\n    </tr>\n    <tr>\n      <th>3</th>\n      <td>0.004930</td>\n      <td>0.744007</td>\n      <td>0.982748</td>\n      <td>0.003146</td>\n      <td>-0.071058</td>\n      <td>-0.087911</td>\n      <td>0.0</td>\n      <td>-0.072676</td>\n      <td>-0.5619</td>\n      <td>0.792955</td>\n      <td>...</td>\n      <td>-0.577122</td>\n      <td>1.187029</td>\n      <td>-0.709832</td>\n      <td>-0.646179</td>\n      <td>0.646179</td>\n      <td>0.571268</td>\n      <td>0.571268</td>\n      <td>0.5</td>\n      <td>0.5</td>\n      <td>-0.153466</td>\n    </tr>\n    <tr>\n      <th>4</th>\n      <td>0.112513</td>\n      <td>0.742265</td>\n      <td>0.977204</td>\n      <td>-1.316296</td>\n      <td>0.074775</td>\n      <td>0.396874</td>\n      <td>0.0</td>\n      <td>-0.072676</td>\n      <td>-0.5619</td>\n      <td>0.792955</td>\n      <td>...</td>\n      <td>-0.577122</td>\n      <td>1.187029</td>\n      <td>-0.709832</td>\n      <td>-0.646179</td>\n      <td>0.646179</td>\n      <td>0.571268</td>\n      <td>0.571268</td>\n      <td>0.5</td>\n      <td>0.5</td>\n      <td>1.147926</td>\n    </tr>\n    <tr>\n      <th>...</th>\n      <td>...</td>\n      <td>...</td>\n      <td>...</td>\n      <td>...</td>\n      <td>...</td>\n      <td>...</td>\n      <td>...</td>\n      <td>...</td>\n      <td>...</td>\n      <td>...</td>\n      <td>...</td>\n      <td>...</td>\n      <td>...</td>\n      <td>...</td>\n      <td>...</td>\n      <td>...</td>\n      <td>...</td>\n      <td>...</td>\n      <td>...</td>\n      <td>...</td>\n      <td>...</td>\n    </tr>\n    <tr>\n      <th>33683</th>\n      <td>0.107438</td>\n      <td>0.006137</td>\n      <td>0.029029</td>\n      <td>0.442961</td>\n      <td>-0.003002</td>\n      <td>0.396874</td>\n      <td>0.0</td>\n      <td>-0.072676</td>\n      <td>-0.5619</td>\n      <td>0.792955</td>\n      <td>...</td>\n      <td>-0.577122</td>\n      <td>-0.842439</td>\n      <td>1.408784</td>\n      <td>-0.646179</td>\n      <td>0.646179</td>\n      <td>0.937752</td>\n      <td>0.937752</td>\n      <td>0.5</td>\n      <td>0.5</td>\n      <td>1.023984</td>\n    </tr>\n    <tr>\n      <th>33684</th>\n      <td>0.107366</td>\n      <td>0.006713</td>\n      <td>0.026317</td>\n      <td>0.442961</td>\n      <td>-0.022447</td>\n      <td>0.396874</td>\n      <td>0.0</td>\n      <td>-0.072676</td>\n      <td>-0.5619</td>\n      <td>0.792955</td>\n      <td>...</td>\n      <td>-0.577122</td>\n      <td>-0.842439</td>\n      <td>1.408784</td>\n      <td>-0.646179</td>\n      <td>0.646179</td>\n      <td>0.937752</td>\n      <td>0.937752</td>\n      <td>0.5</td>\n      <td>0.5</td>\n      <td>0.676946</td>\n    </tr>\n    <tr>\n      <th>33685</th>\n      <td>0.107438</td>\n      <td>0.006137</td>\n      <td>0.029029</td>\n      <td>0.442961</td>\n      <td>-0.003002</td>\n      <td>0.396874</td>\n      <td>0.0</td>\n      <td>-0.072676</td>\n      <td>-0.5619</td>\n      <td>0.792955</td>\n      <td>...</td>\n      <td>-0.577122</td>\n      <td>-0.842439</td>\n      <td>1.408784</td>\n      <td>-0.646179</td>\n      <td>0.646179</td>\n      <td>0.937752</td>\n      <td>0.937752</td>\n      <td>0.5</td>\n      <td>0.5</td>\n      <td>0.838071</td>\n    </tr>\n    <tr>\n      <th>33686</th>\n      <td>0.107438</td>\n      <td>0.006137</td>\n      <td>0.029029</td>\n      <td>0.442961</td>\n      <td>-0.003002</td>\n      <td>0.396874</td>\n      <td>0.0</td>\n      <td>-0.072676</td>\n      <td>-0.5619</td>\n      <td>0.792955</td>\n      <td>...</td>\n      <td>-0.577122</td>\n      <td>-0.842439</td>\n      <td>1.408784</td>\n      <td>-0.646179</td>\n      <td>0.646179</td>\n      <td>0.937752</td>\n      <td>0.937752</td>\n      <td>0.5</td>\n      <td>0.5</td>\n      <td>1.147926</td>\n    </tr>\n    <tr>\n      <th>33687</th>\n      <td>0.107148</td>\n      <td>0.009369</td>\n      <td>0.027864</td>\n      <td>0.442961</td>\n      <td>-0.034113</td>\n      <td>0.396874</td>\n      <td>0.0</td>\n      <td>-0.072676</td>\n      <td>-0.5619</td>\n      <td>0.792955</td>\n      <td>...</td>\n      <td>-0.577122</td>\n      <td>-0.842439</td>\n      <td>1.408784</td>\n      <td>-0.646179</td>\n      <td>0.646179</td>\n      <td>0.937752</td>\n      <td>0.937752</td>\n      <td>0.5</td>\n      <td>0.5</td>\n      <td>0.838071</td>\n    </tr>\n  </tbody>\n</table>\n<p>33688 rows × 29 columns</p>\n</div>"
     },
     "execution_count": 5,
     "metadata": {},
     "output_type": "execute_result"
    }
   ],
   "source": [
    "df = pd.concat([X, y], axis=1)\n",
    "df"
   ]
  },
  {
   "cell_type": "code",
   "execution_count": 6,
   "metadata": {
    "collapsed": false
   },
   "outputs": [
    {
     "name": "stdout",
     "output_type": "stream",
     "text": [
      "\u001B[1;35mFileDataContext loading fluent config\u001B[0m\n",
      "\u001B[1;35mLoading 'datasources' ->\n",
      "[{'assets': [...], 'name': 'first_ds', 'type': 'pandas'},\n",
      " {'assets': [...], 'name': 'my_pandas_ds', 'type': 'pandas'},\n",
      " {'assets': [...], 'name': 'ds', 'type': 'pandas'}]\u001B[0m\n",
      "\u001B[1;35m_PandasDataAsset.dict() - missing \u001B[0m\u001B[1;36mconfig_provider\u001B[1;35m, skipping config substitution\u001B[0m\n",
      "\u001B[1;35m_PandasDataAsset.dict() - missing \u001B[0m\u001B[1;36mconfig_provider\u001B[1;35m, skipping config substitution\u001B[0m\n",
      "\u001B[1;35m_PandasDataAsset.dict() - missing \u001B[0m\u001B[1;36mconfig_provider\u001B[1;35m, skipping config substitution\u001B[0m\n",
      "\u001B[1;35mLoaded 'first_ds' from fluent config\u001B[0m\n",
      "\u001B[1;35mLoaded 'my_pandas_ds' from fluent config\u001B[0m\n",
      "\u001B[1;35mLoaded 'ds' from fluent config\u001B[0m\n"
     ]
    },
    {
     "data": {
      "text/plain": "{\n  \"anonymous_usage_statistics\": {\n    \"explicit_id\": true,\n    \"data_context_id\": \"0130baae-afdd-427c-9cf0-7472caa4256b\",\n    \"enabled\": true,\n    \"usage_statistics_url\": \"https://stats.greatexpectations.io/great_expectations/v1/usage_statistics\",\n    \"explicit_url\": false\n  },\n  \"checkpoint_store_name\": \"checkpoint_store\",\n  \"config_variables_file_path\": \"uncommitted/config_variables.yml\",\n  \"config_version\": 3.0,\n  \"data_docs_sites\": {\n    \"local_site\": {\n      \"class_name\": \"SiteBuilder\",\n      \"show_how_to_buttons\": true,\n      \"store_backend\": {\n        \"class_name\": \"TupleFilesystemStoreBackend\",\n        \"base_directory\": \"uncommitted/data_docs/local_site/\"\n      },\n      \"site_index_builder\": {\n        \"class_name\": \"DefaultSiteIndexBuilder\"\n      }\n    }\n  },\n  \"datasources\": {},\n  \"evaluation_parameter_store_name\": \"evaluation_parameter_store\",\n  \"expectations_store_name\": \"expectations_store\",\n  \"fluent_datasources\": {\n    \"first_ds\": {\n      \"type\": \"pandas\",\n      \"assets\": {\n        \"asset01\": {\n          \"type\": \"csv\",\n          \"filepath_or_buffer\": \"data\\\\samples\\\\sample.csv\"\n        }\n      }\n    },\n    \"my_pandas_ds\": {\n      \"type\": \"pandas\",\n      \"assets\": {\n        \"my_pandas_df\": {\n          \"type\": \"dataframe\",\n          \"batch_metadata\": {}\n        }\n      }\n    },\n    \"ds\": {\n      \"type\": \"pandas\",\n      \"assets\": {\n        \"df\": {\n          \"type\": \"dataframe\",\n          \"batch_metadata\": {}\n        }\n      }\n    }\n  },\n  \"include_rendered_content\": {\n    \"globally\": false,\n    \"expectation_validation_result\": false,\n    \"expectation_suite\": false\n  },\n  \"plugins_directory\": \"plugins/\",\n  \"stores\": {\n    \"expectations_store\": {\n      \"class_name\": \"ExpectationsStore\",\n      \"store_backend\": {\n        \"class_name\": \"TupleFilesystemStoreBackend\",\n        \"base_directory\": \"expectations/\"\n      }\n    },\n    \"validations_store\": {\n      \"class_name\": \"ValidationsStore\",\n      \"store_backend\": {\n        \"class_name\": \"TupleFilesystemStoreBackend\",\n        \"base_directory\": \"uncommitted/validations/\"\n      }\n    },\n    \"evaluation_parameter_store\": {\n      \"class_name\": \"EvaluationParameterStore\"\n    },\n    \"checkpoint_store\": {\n      \"class_name\": \"CheckpointStore\",\n      \"store_backend\": {\n        \"class_name\": \"TupleFilesystemStoreBackend\",\n        \"suppress_store_backend_id\": true,\n        \"base_directory\": \"checkpoints/\"\n      }\n    },\n    \"profiler_store\": {\n      \"class_name\": \"ProfilerStore\",\n      \"store_backend\": {\n        \"class_name\": \"TupleFilesystemStoreBackend\",\n        \"suppress_store_backend_id\": true,\n        \"base_directory\": \"profilers/\"\n      }\n    }\n  },\n  \"validations_store_name\": \"validations_store\"\n}"
     },
     "execution_count": 6,
     "metadata": {},
     "output_type": "execute_result"
    }
   ],
   "source": [
    "context = FileDataContext(context_root_dir=\"services/gx\")\n",
    "context"
   ]
  },
  {
   "cell_type": "code",
   "execution_count": 7,
   "metadata": {
    "collapsed": false
   },
   "outputs": [],
   "source": [
    "suite = context.add_or_update_expectation_suite(\"features_expectations_suite\")"
   ]
  },
  {
   "cell_type": "code",
   "execution_count": 8,
   "metadata": {
    "collapsed": false
   },
   "outputs": [
    {
     "data": {
      "text/plain": "['features_expectations_suite', 'first_phase_expectation_suite']"
     },
     "execution_count": 8,
     "metadata": {},
     "output_type": "execute_result"
    }
   ],
   "source": [
    "context.list_expectation_suite_names()"
   ]
  },
  {
   "cell_type": "code",
   "execution_count": 9,
   "metadata": {
    "collapsed": false
   },
   "outputs": [],
   "source": [
    "import great_expectations as gx\n",
    "from great_expectations.core.batch import BatchRequest\n",
    "from great_expectations.core import ExpectationConfiguration"
   ]
  },
  {
   "cell_type": "code",
   "execution_count": 10,
   "metadata": {
    "collapsed": false
   },
   "outputs": [],
   "source": [
    "# not null for all columns\n",
    "expectations = [\n",
    "    ExpectationConfiguration(\n",
    "        expectation_type=\"expect_column_values_to_not_be_null\",\n",
    "        kwargs={\n",
    "            \"column\": col\n",
    "        }\n",
    "    ) for col in df.columns\n",
    "]\n",
    "\n",
    "for expectation in expectations:\n",
    "    suite.add_expectation(expectation)"
   ]
  },
  {
   "cell_type": "code",
   "execution_count": 11,
   "metadata": {
    "collapsed": false
   },
   "outputs": [],
   "source": [
    "assert len(expectations) == len(df.columns)"
   ]
  },
  {
   "cell_type": "code",
   "execution_count": 12,
   "metadata": {
    "collapsed": false
   },
   "outputs": [
    {
     "name": "stdout",
     "output_type": "stream",
     "text": [
      "\u001B[1;35mSaving 3 Fluent Datasources to C:\\Users\\Bod\\PycharmProjects\\Sum2024MLOps\\services\\gx\\great_expectations.yml\u001B[0m\n",
      "\u001B[1;35mCSVAsset.dict() - missing \u001B[0m\u001B[1;36mconfig_provider\u001B[1;35m, skipping config substitution\u001B[0m\n",
      "\u001B[1;35mPandasDatasource.dict() - missing \u001B[0m\u001B[1;36mconfig_provider\u001B[1;35m, skipping config substitution\u001B[0m\n",
      "\u001B[1;35mPandasDatasource.dict() - missing \u001B[0m\u001B[1;36mconfig_provider\u001B[1;35m, skipping config substitution\u001B[0m\n",
      "\u001B[1;35mDataFrameAsset.dict() - missing \u001B[0m\u001B[1;36mconfig_provider\u001B[1;35m, skipping config substitution\u001B[0m\n",
      "\u001B[1;35mPandasDatasource.dict() - missing \u001B[0m\u001B[1;36mconfig_provider\u001B[1;35m, skipping config substitution\u001B[0m\n"
     ]
    }
   ],
   "source": [
    "ds = context.sources.add_or_update_pandas(name=\"my_pandas_ds\")"
   ]
  },
  {
   "cell_type": "code",
   "execution_count": 13,
   "metadata": {
    "collapsed": false
   },
   "outputs": [
    {
     "name": "stdout",
     "output_type": "stream",
     "text": [
      "\u001B[1;35mSaving 3 Fluent Datasources to C:\\Users\\Bod\\PycharmProjects\\Sum2024MLOps\\services\\gx\\great_expectations.yml\u001B[0m\n",
      "\u001B[1;35mCSVAsset.dict() - missing \u001B[0m\u001B[1;36mconfig_provider\u001B[1;35m, skipping config substitution\u001B[0m\n",
      "\u001B[1;35mPandasDatasource.dict() - missing \u001B[0m\u001B[1;36mconfig_provider\u001B[1;35m, skipping config substitution\u001B[0m\n",
      "\u001B[1;35mDataFrameAsset.dict() - missing \u001B[0m\u001B[1;36mconfig_provider\u001B[1;35m, skipping config substitution\u001B[0m\n",
      "\u001B[1;35mPandasDatasource.dict() - missing \u001B[0m\u001B[1;36mconfig_provider\u001B[1;35m, skipping config substitution\u001B[0m\n",
      "\u001B[1;35mDataFrameAsset.dict() - missing \u001B[0m\u001B[1;36mconfig_provider\u001B[1;35m, skipping config substitution\u001B[0m\n",
      "\u001B[1;35mPandasDatasource.dict() - missing \u001B[0m\u001B[1;36mconfig_provider\u001B[1;35m, skipping config substitution\u001B[0m\n"
     ]
    }
   ],
   "source": [
    "da = ds.add_dataframe_asset(\n",
    "    name=\"my_pandas_df\",\n",
    "    dataframe=df\n",
    ")"
   ]
  },
  {
   "cell_type": "code",
   "execution_count": 14,
   "metadata": {
    "collapsed": false
   },
   "outputs": [],
   "source": [
    "batch_request = da.build_batch_request()"
   ]
  },
  {
   "cell_type": "code",
   "execution_count": 15,
   "metadata": {
    "collapsed": false
   },
   "outputs": [
    {
     "data": {
      "text/plain": "BatchRequest(datasource_name='my_pandas_ds', data_asset_name='my_pandas_df', options={})"
     },
     "execution_count": 15,
     "metadata": {},
     "output_type": "execute_result"
    }
   ],
   "source": [
    "batch_request"
   ]
  },
  {
   "cell_type": "code",
   "execution_count": 16,
   "metadata": {
    "collapsed": false
   },
   "outputs": [
    {
     "name": "stdout",
     "output_type": "stream",
     "text": [
      "batch_metadata: {}\n",
      "name: my_pandas_df\n",
      "type: dataframe\n",
      "\n"
     ]
    }
   ],
   "source": [
    "data_asset = context.get_datasource(\"my_pandas_ds\").get_asset(\"my_pandas_df\")\n",
    "print(data_asset)"
   ]
  },
  {
   "cell_type": "code",
   "execution_count": 17,
   "metadata": {
    "collapsed": false
   },
   "outputs": [
    {
     "data": {
      "text/plain": "BatchRequest(datasource_name='my_pandas_ds', data_asset_name='my_pandas_df', options={})"
     },
     "execution_count": 17,
     "metadata": {},
     "output_type": "execute_result"
    }
   ],
   "source": [
    "batch_request = data_asset.build_batch_request()\n",
    "batch_request"
   ]
  },
  {
   "cell_type": "code",
   "execution_count": 18,
   "metadata": {
    "collapsed": false
   },
   "outputs": [],
   "source": [
    "# month_sin, month_cos, day_sin, day_cos: -1 <= x <= 1\n",
    "expectations = [\n",
    "    ExpectationConfiguration(\n",
    "        expectation_type=\"expect_column_values_to_be_between\",\n",
    "        kwargs={\n",
    "            \"column\": col,\n",
    "            \"min_value\": -1,\n",
    "            \"max_value\": 1\n",
    "        }\n",
    "    ) for col in [\"month_sin\", \"month_cos\", \"day_sin\", \"day_cos\"]\n",
    "]\n",
    "\n",
    "for expectation in expectations:\n",
    "    suite.add_expectation(expectation)"
   ]
  },
  {
   "cell_type": "code",
   "execution_count": 19,
   "metadata": {
    "collapsed": false
   },
   "outputs": [],
   "source": [
    "assert len(expectations) == 4"
   ]
  },
  {
   "cell_type": "code",
   "execution_count": 20,
   "metadata": {
    "collapsed": false
   },
   "outputs": [],
   "source": [
    "validator = context.get_validator(\n",
    "    batch_request=batch_request,\n",
    "    expectation_suite=suite\n",
    ")"
   ]
  },
  {
   "cell_type": "code",
   "execution_count": 21,
   "metadata": {
    "collapsed": false
   },
   "outputs": [
    {
     "name": "stdout",
     "output_type": "stream",
     "text": [
      "\u001B[1;35m\t33 expectation(s) included in expectation_suite.\u001B[0m\n"
     ]
    },
    {
     "data": {
      "text/plain": "Calculating Metrics:   0%|          | 0/102 [00:00<?, ?it/s]",
      "application/vnd.jupyter.widget-view+json": {
       "version_major": 2,
       "version_minor": 0,
       "model_id": "c6ef0849d8d047abb38526f0b82ddd50"
      }
     },
     "metadata": {},
     "output_type": "display_data"
    }
   ],
   "source": [
    "results = validator.validate()"
   ]
  },
  {
   "cell_type": "code",
   "execution_count": 22,
   "metadata": {
    "collapsed": false
   },
   "outputs": [],
   "source": [
    "assert results[\"success\"] == True"
   ]
  },
  {
   "cell_type": "code",
   "execution_count": 23,
   "metadata": {
    "collapsed": false
   },
   "outputs": [
    {
     "name": "stdout",
     "output_type": "stream",
     "text": [
      "\u001B[1;35m\t33 expectation(s) included in expectation_suite.\u001B[0m\n"
     ]
    }
   ],
   "source": [
    "validator.save_expectation_suite(discard_failed_expectations=False)"
   ]
  },
  {
   "cell_type": "code",
   "execution_count": 24,
   "metadata": {
    "collapsed": false
   },
   "outputs": [],
   "source": [
    "checkpoint = context.add_or_update_checkpoint(\n",
    "    name=\"first_phase_features_checkpoint\",\n",
    "    validations=[{\n",
    "        \"batch_request\": batch_request,\n",
    "        \"expectation_suite_name\": \"features_expectations_suite\"\n",
    "    }]\n",
    ")"
   ]
  },
  {
   "cell_type": "code",
   "execution_count": 25,
   "metadata": {
    "collapsed": false
   },
   "outputs": [
    {
     "data": {
      "text/plain": "{\n  \"action_list\": [\n    {\n      \"name\": \"store_validation_result\",\n      \"action\": {\n        \"class_name\": \"StoreValidationResultAction\"\n      }\n    },\n    {\n      \"name\": \"store_evaluation_params\",\n      \"action\": {\n        \"class_name\": \"StoreEvaluationParametersAction\"\n      }\n    },\n    {\n      \"name\": \"update_data_docs\",\n      \"action\": {\n        \"class_name\": \"UpdateDataDocsAction\"\n      }\n    }\n  ],\n  \"batch_request\": {},\n  \"class_name\": \"Checkpoint\",\n  \"config_version\": 1.0,\n  \"evaluation_parameters\": {},\n  \"module_name\": \"great_expectations.checkpoint\",\n  \"name\": \"first_phase_features_checkpoint\",\n  \"profilers\": [],\n  \"runtime_configuration\": {},\n  \"validations\": [\n    {\n      \"expectation_suite_name\": \"features_expectations_suite\",\n      \"batch_request\": {\n        \"datasource_name\": \"my_pandas_ds\",\n        \"data_asset_name\": \"my_pandas_df\",\n        \"options\": {}\n      }\n    }\n  ]\n}"
     },
     "execution_count": 25,
     "metadata": {},
     "output_type": "execute_result"
    }
   ],
   "source": [
    "checkpoint"
   ]
  },
  {
   "cell_type": "code",
   "execution_count": 26,
   "metadata": {
    "collapsed": false
   },
   "outputs": [
    {
     "name": "stdout",
     "output_type": "stream",
     "text": [
      "\u001B[1;35m\t33 expectation(s) included in expectation_suite.\u001B[0m\n"
     ]
    },
    {
     "data": {
      "text/plain": "Calculating Metrics:   0%|          | 0/168 [00:00<?, ?it/s]",
      "application/vnd.jupyter.widget-view+json": {
       "version_major": 2,
       "version_minor": 0,
       "model_id": "44a1ff2f4677403aa23dc79708391f7d"
      }
     },
     "metadata": {},
     "output_type": "display_data"
    }
   ],
   "source": [
    "results = checkpoint.run()"
   ]
  },
  {
   "cell_type": "code",
   "execution_count": 27,
   "metadata": {
    "collapsed": false
   },
   "outputs": [],
   "source": [
    "assert results[\"success\"] == True"
   ]
  }
 ],
 "metadata": {
  "kernelspec": {
   "display_name": "Python 3",
   "language": "python",
   "name": "python3"
  },
  "language_info": {
   "codemirror_mode": {
    "name": "ipython",
    "version": 3
   },
   "file_extension": ".py",
   "mimetype": "text/x-python",
   "name": "python",
   "nbconvert_exporter": "python",
   "pygments_lexer": "ipython3",
   "version": "3.11.6"
  }
 },
 "nbformat": 4,
 "nbformat_minor": 0
}
