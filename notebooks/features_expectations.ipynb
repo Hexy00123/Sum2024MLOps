{
 "cells": [
  {
   "cell_type": "code",
   "execution_count": 1,
   "metadata": {
    "collapsed": true
   },
   "outputs": [
    {
     "name": "stdout",
     "output_type": "stream",
     "text": [
      "C:\\Users\\Bod\\PycharmProjects\\Sum2024MLOps\n"
     ]
    }
   ],
   "source": [
    "import pandas as pd\n",
    "from great_expectations.data_context import FileDataContext\n",
    "import os\n",
    "from src.data import preprocess_data\n",
    "\n",
    "os.chdir(\"../\")\n",
    "print(os.getcwd())"
   ]
  },
  {
   "cell_type": "code",
   "execution_count": 2,
   "outputs": [
    {
     "data": {
      "text/plain": "       property_id  location_id  \\\n0         15829916         1483   \n1         15829917         1482   \n2         15829919         1482   \n3         15829920         1482   \n4         15829921         1482   \n...            ...          ...   \n33684     16941374         3865   \n33685     16941375          893   \n33686     16306660         8950   \n33687     16943210         1446   \n33688     16943188          760   \n\n                                                page_url property_type  \\\n0      https://www.zameen.com/Property/d_h_a_dha_phas...         House   \n1      https://www.zameen.com/Property/d_h_a_dha_phas...         House   \n2      https://www.zameen.com/Property/d_h_a_dha_phas...         House   \n3      https://www.zameen.com/Property/d_h_a_dha_phas...         House   \n4      https://www.zameen.com/Property/d_h_a_dha_phas...         House   \n...                                                  ...           ...   \n33684  https://www.zameen.com/Property/gulshan_e_ravi...         House   \n33685  https://www.zameen.com/Property/lahore_gulshan...         House   \n33686  https://www.zameen.com/Property/lahore_shadman...         House   \n33687  https://www.zameen.com/Property/dha_defence_dh...         House   \n33688  https://www.zameen.com/Property/lahore_tajpura...         House   \n\n           price        location     city province_name   latitude  longitude  \\\n0       70000000     DHA Defence  Karachi         Sindh  24.805045  67.064323   \n1       75000000     DHA Defence  Karachi         Sindh  24.810265  67.043552   \n2       75000000     DHA Defence  Karachi         Sindh  24.810265  67.043552   \n3       72500000     DHA Defence  Karachi         Sindh  24.810265  67.043552   \n4       80000000     DHA Defence  Karachi         Sindh  24.810265  67.043552   \n...          ...             ...      ...           ...        ...        ...   \n33684   14000000  Gulshan-e-Ravi   Lahore        Punjab  31.554768  74.277577   \n33685    6500000  Gulshan-e-Ravi   Lahore        Punjab  31.551184  74.284058   \n33686  120000000       Shadman 2   Lahore        Punjab  31.535451  74.337407   \n33687   45000000     DHA Defence   Lahore        Punjab  31.465422  74.385309   \n33688    4000000         Tajpura   Lahore        Punjab  31.557474  74.401431   \n\n       baths      area   purpose  bedrooms  date_added  \\\n0          6  16 Marla  For Sale         6  05-06-2019   \n1          5   1 Kanal  For Sale         5  05-06-2019   \n2          3   1 Kanal  For Sale         3  05-06-2019   \n3          6   1 Kanal  For Sale         6  05-06-2019   \n4          5   1 Kanal  For Sale         5  05-06-2019   \n...      ...       ...       ...       ...         ...   \n33684      0   5 Marla  For Sale         4  06-26-2019   \n33685      0   3 Marla  For Sale         3  06-26-2019   \n33686      0   2 Kanal  For Sale         5  06-26-2019   \n33687      6   1 Kanal  For Sale         5  06-26-2019   \n33688      2   2 Marla  For Sale         2  06-26-2019   \n\n                                        agency            agent Area Type  \\\n0                                Parekh Estate   Noman Charakry     Marla   \n1                                Parekh Estate   Noman Charakry     Kanal   \n2                                Parekh Estate   Noman Charakry     Kanal   \n3                                Parekh Estate   Noman Charakry     Kanal   \n4                                Parekh Estate   Noman Charakry     Kanal   \n...                                        ...              ...       ...   \n33684  New Al Haseeb Estate Advisor & Builders   Malik Zulfiqar     Marla   \n33685  New Al Haseeb Estate Advisor & Builders   Malik Zulfiqar     Marla   \n33686              Ahmad Raza Butt Real Estate  Ahmad Raza Butt     Kanal   \n33687     Syed Brothers (Pvt) Ltd. (Ph: 5 DHA)      Shehroz Ali     Kanal   \n33688                  Mian Farooq Real Estate      Mian Farooq     Marla   \n\n       Area Size Area Category  \n0           16.0   15-20 Marla  \n1            1.0     1-5 Kanal  \n2            1.0     1-5 Kanal  \n3            1.0     1-5 Kanal  \n4            1.0     1-5 Kanal  \n...          ...           ...  \n33684        5.0     0-5 Marla  \n33685        3.0     0-5 Marla  \n33686        2.0     1-5 Kanal  \n33687        1.0     1-5 Kanal  \n33688        2.0     0-5 Marla  \n\n[33689 rows x 20 columns]",
      "text/html": "<div>\n<style scoped>\n    .dataframe tbody tr th:only-of-type {\n        vertical-align: middle;\n    }\n\n    .dataframe tbody tr th {\n        vertical-align: top;\n    }\n\n    .dataframe thead th {\n        text-align: right;\n    }\n</style>\n<table border=\"1\" class=\"dataframe\">\n  <thead>\n    <tr style=\"text-align: right;\">\n      <th></th>\n      <th>property_id</th>\n      <th>location_id</th>\n      <th>page_url</th>\n      <th>property_type</th>\n      <th>price</th>\n      <th>location</th>\n      <th>city</th>\n      <th>province_name</th>\n      <th>latitude</th>\n      <th>longitude</th>\n      <th>baths</th>\n      <th>area</th>\n      <th>purpose</th>\n      <th>bedrooms</th>\n      <th>date_added</th>\n      <th>agency</th>\n      <th>agent</th>\n      <th>Area Type</th>\n      <th>Area Size</th>\n      <th>Area Category</th>\n    </tr>\n  </thead>\n  <tbody>\n    <tr>\n      <th>0</th>\n      <td>15829916</td>\n      <td>1483</td>\n      <td>https://www.zameen.com/Property/d_h_a_dha_phas...</td>\n      <td>House</td>\n      <td>70000000</td>\n      <td>DHA Defence</td>\n      <td>Karachi</td>\n      <td>Sindh</td>\n      <td>24.805045</td>\n      <td>67.064323</td>\n      <td>6</td>\n      <td>16 Marla</td>\n      <td>For Sale</td>\n      <td>6</td>\n      <td>05-06-2019</td>\n      <td>Parekh Estate</td>\n      <td>Noman Charakry</td>\n      <td>Marla</td>\n      <td>16.0</td>\n      <td>15-20 Marla</td>\n    </tr>\n    <tr>\n      <th>1</th>\n      <td>15829917</td>\n      <td>1482</td>\n      <td>https://www.zameen.com/Property/d_h_a_dha_phas...</td>\n      <td>House</td>\n      <td>75000000</td>\n      <td>DHA Defence</td>\n      <td>Karachi</td>\n      <td>Sindh</td>\n      <td>24.810265</td>\n      <td>67.043552</td>\n      <td>5</td>\n      <td>1 Kanal</td>\n      <td>For Sale</td>\n      <td>5</td>\n      <td>05-06-2019</td>\n      <td>Parekh Estate</td>\n      <td>Noman Charakry</td>\n      <td>Kanal</td>\n      <td>1.0</td>\n      <td>1-5 Kanal</td>\n    </tr>\n    <tr>\n      <th>2</th>\n      <td>15829919</td>\n      <td>1482</td>\n      <td>https://www.zameen.com/Property/d_h_a_dha_phas...</td>\n      <td>House</td>\n      <td>75000000</td>\n      <td>DHA Defence</td>\n      <td>Karachi</td>\n      <td>Sindh</td>\n      <td>24.810265</td>\n      <td>67.043552</td>\n      <td>3</td>\n      <td>1 Kanal</td>\n      <td>For Sale</td>\n      <td>3</td>\n      <td>05-06-2019</td>\n      <td>Parekh Estate</td>\n      <td>Noman Charakry</td>\n      <td>Kanal</td>\n      <td>1.0</td>\n      <td>1-5 Kanal</td>\n    </tr>\n    <tr>\n      <th>3</th>\n      <td>15829920</td>\n      <td>1482</td>\n      <td>https://www.zameen.com/Property/d_h_a_dha_phas...</td>\n      <td>House</td>\n      <td>72500000</td>\n      <td>DHA Defence</td>\n      <td>Karachi</td>\n      <td>Sindh</td>\n      <td>24.810265</td>\n      <td>67.043552</td>\n      <td>6</td>\n      <td>1 Kanal</td>\n      <td>For Sale</td>\n      <td>6</td>\n      <td>05-06-2019</td>\n      <td>Parekh Estate</td>\n      <td>Noman Charakry</td>\n      <td>Kanal</td>\n      <td>1.0</td>\n      <td>1-5 Kanal</td>\n    </tr>\n    <tr>\n      <th>4</th>\n      <td>15829921</td>\n      <td>1482</td>\n      <td>https://www.zameen.com/Property/d_h_a_dha_phas...</td>\n      <td>House</td>\n      <td>80000000</td>\n      <td>DHA Defence</td>\n      <td>Karachi</td>\n      <td>Sindh</td>\n      <td>24.810265</td>\n      <td>67.043552</td>\n      <td>5</td>\n      <td>1 Kanal</td>\n      <td>For Sale</td>\n      <td>5</td>\n      <td>05-06-2019</td>\n      <td>Parekh Estate</td>\n      <td>Noman Charakry</td>\n      <td>Kanal</td>\n      <td>1.0</td>\n      <td>1-5 Kanal</td>\n    </tr>\n    <tr>\n      <th>...</th>\n      <td>...</td>\n      <td>...</td>\n      <td>...</td>\n      <td>...</td>\n      <td>...</td>\n      <td>...</td>\n      <td>...</td>\n      <td>...</td>\n      <td>...</td>\n      <td>...</td>\n      <td>...</td>\n      <td>...</td>\n      <td>...</td>\n      <td>...</td>\n      <td>...</td>\n      <td>...</td>\n      <td>...</td>\n      <td>...</td>\n      <td>...</td>\n      <td>...</td>\n    </tr>\n    <tr>\n      <th>33684</th>\n      <td>16941374</td>\n      <td>3865</td>\n      <td>https://www.zameen.com/Property/gulshan_e_ravi...</td>\n      <td>House</td>\n      <td>14000000</td>\n      <td>Gulshan-e-Ravi</td>\n      <td>Lahore</td>\n      <td>Punjab</td>\n      <td>31.554768</td>\n      <td>74.277577</td>\n      <td>0</td>\n      <td>5 Marla</td>\n      <td>For Sale</td>\n      <td>4</td>\n      <td>06-26-2019</td>\n      <td>New Al Haseeb Estate Advisor &amp; Builders</td>\n      <td>Malik Zulfiqar</td>\n      <td>Marla</td>\n      <td>5.0</td>\n      <td>0-5 Marla</td>\n    </tr>\n    <tr>\n      <th>33685</th>\n      <td>16941375</td>\n      <td>893</td>\n      <td>https://www.zameen.com/Property/lahore_gulshan...</td>\n      <td>House</td>\n      <td>6500000</td>\n      <td>Gulshan-e-Ravi</td>\n      <td>Lahore</td>\n      <td>Punjab</td>\n      <td>31.551184</td>\n      <td>74.284058</td>\n      <td>0</td>\n      <td>3 Marla</td>\n      <td>For Sale</td>\n      <td>3</td>\n      <td>06-26-2019</td>\n      <td>New Al Haseeb Estate Advisor &amp; Builders</td>\n      <td>Malik Zulfiqar</td>\n      <td>Marla</td>\n      <td>3.0</td>\n      <td>0-5 Marla</td>\n    </tr>\n    <tr>\n      <th>33686</th>\n      <td>16306660</td>\n      <td>8950</td>\n      <td>https://www.zameen.com/Property/lahore_shadman...</td>\n      <td>House</td>\n      <td>120000000</td>\n      <td>Shadman 2</td>\n      <td>Lahore</td>\n      <td>Punjab</td>\n      <td>31.535451</td>\n      <td>74.337407</td>\n      <td>0</td>\n      <td>2 Kanal</td>\n      <td>For Sale</td>\n      <td>5</td>\n      <td>06-26-2019</td>\n      <td>Ahmad Raza Butt Real Estate</td>\n      <td>Ahmad Raza Butt</td>\n      <td>Kanal</td>\n      <td>2.0</td>\n      <td>1-5 Kanal</td>\n    </tr>\n    <tr>\n      <th>33687</th>\n      <td>16943210</td>\n      <td>1446</td>\n      <td>https://www.zameen.com/Property/dha_defence_dh...</td>\n      <td>House</td>\n      <td>45000000</td>\n      <td>DHA Defence</td>\n      <td>Lahore</td>\n      <td>Punjab</td>\n      <td>31.465422</td>\n      <td>74.385309</td>\n      <td>6</td>\n      <td>1 Kanal</td>\n      <td>For Sale</td>\n      <td>5</td>\n      <td>06-26-2019</td>\n      <td>Syed Brothers (Pvt) Ltd. (Ph: 5 DHA)</td>\n      <td>Shehroz Ali</td>\n      <td>Kanal</td>\n      <td>1.0</td>\n      <td>1-5 Kanal</td>\n    </tr>\n    <tr>\n      <th>33688</th>\n      <td>16943188</td>\n      <td>760</td>\n      <td>https://www.zameen.com/Property/lahore_tajpura...</td>\n      <td>House</td>\n      <td>4000000</td>\n      <td>Tajpura</td>\n      <td>Lahore</td>\n      <td>Punjab</td>\n      <td>31.557474</td>\n      <td>74.401431</td>\n      <td>2</td>\n      <td>2 Marla</td>\n      <td>For Sale</td>\n      <td>2</td>\n      <td>06-26-2019</td>\n      <td>Mian Farooq Real Estate</td>\n      <td>Mian Farooq</td>\n      <td>Marla</td>\n      <td>2.0</td>\n      <td>0-5 Marla</td>\n    </tr>\n  </tbody>\n</table>\n<p>33689 rows × 20 columns</p>\n</div>"
     },
     "execution_count": 2,
     "metadata": {},
     "output_type": "execute_result"
    }
   ],
   "source": [
    "data = pd.read_csv('data/samples/sample.csv')\n",
    "data"
   ],
   "metadata": {
    "collapsed": false
   }
  },
  {
   "cell_type": "code",
   "execution_count": 3,
   "outputs": [
    {
     "name": "stdout",
     "output_type": "stream",
     "text": [
      "        location_id      latitude     longitude         baths          area  \\\n",
      "count  33688.000000  33688.000000  33688.000000  3.368800e+04  3.368800e+04   \n",
      "mean       0.324247      0.542313      0.573448  7.424336e-17  2.067003e-17   \n",
      "std        0.270480      0.410977      0.416105  1.000015e+00  1.000015e+00   \n",
      "min        0.000000      0.000000      0.000000 -1.327562e+00 -2.691565e-01   \n",
      "25%        0.101294      0.020716      0.036610 -8.894242e-01 -1.573474e-01   \n",
      "50%        0.243925      0.737362      0.812385 -1.314881e-02 -9.802008e-02   \n",
      "75%        0.521693      0.967311      0.961192  8.631266e-01  4.661785e-03   \n",
      "max        1.000000      1.000000      1.000000  4.368228e+00  1.366400e+02   \n",
      "\n",
      "           bedrooms     year      agency_0      agency_1      agency_2  ...  \\\n",
      "count  3.368800e+04  33688.0  3.368800e+04  3.368800e+04  3.368800e+04  ...   \n",
      "mean  -6.875948e-17      0.0 -5.919432e-16  3.111050e-18 -6.512113e-18  ...   \n",
      "std    1.000015e+00      0.0  3.376638e-01  7.664950e-02  7.006835e-02  ...   \n",
      "min   -1.695218e+00      0.0 -1.372828e-01 -3.372440e-02 -1.766595e-01  ...   \n",
      "25%   -6.601560e-01      0.0 -1.311604e-01 -6.334594e-03 -4.356896e-03  ...   \n",
      "50%   -1.426252e-01      0.0 -1.306463e-01 -5.853297e-03 -3.952209e-03  ...   \n",
      "75%    8.924365e-01      0.0 -1.303397e-01 -5.579295e-03 -3.709476e-03  ...   \n",
      "max    7.620337e+00      0.0  8.693353e-01  9.929932e-01  9.794965e-01  ...   \n",
      "\n",
      "       city_Rawalpindi  province_name_Islamabad Capital  province_name_Punjab  \\\n",
      "count     33688.000000                     33688.000000          33688.000000   \n",
      "mean          0.086886                         0.199774              0.432587   \n",
      "std           0.281671                         0.399837              0.495442   \n",
      "min           0.000000                         0.000000              0.000000   \n",
      "25%           0.000000                         0.000000              0.000000   \n",
      "50%           0.000000                         0.000000              0.000000   \n",
      "75%           0.000000                         0.000000              1.000000   \n",
      "max           1.000000                         1.000000              1.000000   \n",
      "\n",
      "       province_name_Sindh  purpose_For Rent  purpose_For Sale       day_sin  \\\n",
      "count         33688.000000      33688.000000      33688.000000  33688.000000   \n",
      "mean              0.367638          0.240412          0.759588     -0.050876   \n",
      "std               0.482169          0.427340          0.427340      0.691501   \n",
      "min               0.000000          0.000000          0.000000     -0.988468   \n",
      "25%               0.000000          0.000000          1.000000     -0.790776   \n",
      "50%               0.000000          0.000000          1.000000     -0.299363   \n",
      "75%               1.000000          0.000000          1.000000      0.651372   \n",
      "max               1.000000          1.000000          1.000000      0.988468   \n",
      "\n",
      "            day_cos     month_sin     month_cos  \n",
      "count  33688.000000  3.368800e+04  3.368800e+04  \n",
      "mean      -0.050876  5.068570e-02  5.068570e-02  \n",
      "std        0.691501  1.509122e-01  1.509122e-01  \n",
      "min       -0.988468  1.224647e-16  1.224647e-16  \n",
      "25%       -0.790776  1.224647e-16  1.224647e-16  \n",
      "50%       -0.299363  1.224647e-16  1.224647e-16  \n",
      "75%        0.651372  1.224647e-16  1.224647e-16  \n",
      "max        0.988468  5.000000e-01  5.000000e-01  \n",
      "\n",
      "[8 rows x 1528 columns]\n"
     ]
    },
    {
     "data": {
      "text/plain": "       location_id  latitude  longitude     baths      area  bedrooms  year  \\\n0         0.106542  0.006129   0.029029  1.301264  0.095935  1.409967   0.0   \n1         0.106470  0.006704   0.026317  0.863127  0.187207  0.892437   0.0   \n2         0.106470  0.006704   0.026317 -0.013149  0.187207 -0.142625   0.0   \n3         0.106470  0.006704   0.026317  1.301264  0.187207  1.409967   0.0   \n4         0.106470  0.006704   0.026317  0.863127  0.187207  0.892437   0.0   \n...            ...       ...        ...       ...       ...       ...   ...   \n33683     0.277786  0.749886   0.971057 -1.327562 -0.155066  0.374906   0.0   \n33684     0.064127  0.749491   0.971903 -1.327562 -0.200702 -0.142625   0.0   \n33685     0.643350  0.747757   0.978871 -1.327562  0.643571  0.892437   0.0   \n33686     0.103882  0.740040   0.985126  1.301264  0.187207  0.892437   0.0   \n33687     0.054565  0.750184   0.987232 -0.451287 -0.223520 -0.660156   0.0   \n\n       agency_0  agency_1  agency_2  ...  city_Rawalpindi  \\\n0     -0.130954 -0.006154 -0.004205  ...              0.0   \n1     -0.130954 -0.006154 -0.004205  ...              0.0   \n2     -0.130954 -0.006154 -0.004205  ...              0.0   \n3     -0.130954 -0.006154 -0.004205  ...              0.0   \n4     -0.130954 -0.006154 -0.004205  ...              0.0   \n...         ...       ...       ...  ...              ...   \n33683 -0.130238 -0.005494 -0.003664  ...              0.0   \n33684 -0.130238 -0.005494 -0.003664  ...              0.0   \n33685 -0.130442 -0.005667 -0.003803  ...              0.0   \n33686 -0.132727 -0.008686 -0.006551  ...              0.0   \n33687 -0.130612 -0.005820 -0.003923  ...              0.0   \n\n       province_name_Islamabad Capital  province_name_Punjab  \\\n0                                  0.0                   0.0   \n1                                  0.0                   0.0   \n2                                  0.0                   0.0   \n3                                  0.0                   0.0   \n4                                  0.0                   0.0   \n...                                ...                   ...   \n33683                              0.0                   1.0   \n33684                              0.0                   1.0   \n33685                              0.0                   1.0   \n33686                              0.0                   1.0   \n33687                              0.0                   1.0   \n\n       province_name_Sindh  purpose_For Rent  purpose_For Sale   day_sin  \\\n0                      1.0               0.0               1.0  0.937752   \n1                      1.0               0.0               1.0  0.937752   \n2                      1.0               0.0               1.0  0.937752   \n3                      1.0               0.0               1.0  0.937752   \n4                      1.0               0.0               1.0  0.937752   \n...                    ...               ...               ...       ...   \n33683                  0.0               0.0               1.0 -0.848644   \n33684                  0.0               0.0               1.0 -0.848644   \n33685                  0.0               0.0               1.0 -0.848644   \n33686                  0.0               0.0               1.0 -0.848644   \n33687                  0.0               0.0               1.0 -0.848644   \n\n        day_cos     month_sin     month_cos  \n0      0.937752  5.000000e-01  5.000000e-01  \n1      0.937752  5.000000e-01  5.000000e-01  \n2      0.937752  5.000000e-01  5.000000e-01  \n3      0.937752  5.000000e-01  5.000000e-01  \n4      0.937752  5.000000e-01  5.000000e-01  \n...         ...           ...           ...  \n33683 -0.848644  1.224647e-16  1.224647e-16  \n33684 -0.848644  1.224647e-16  1.224647e-16  \n33685 -0.848644  1.224647e-16  1.224647e-16  \n33686 -0.848644  1.224647e-16  1.224647e-16  \n33687 -0.848644  1.224647e-16  1.224647e-16  \n\n[33688 rows x 1528 columns]",
      "text/html": "<div>\n<style scoped>\n    .dataframe tbody tr th:only-of-type {\n        vertical-align: middle;\n    }\n\n    .dataframe tbody tr th {\n        vertical-align: top;\n    }\n\n    .dataframe thead th {\n        text-align: right;\n    }\n</style>\n<table border=\"1\" class=\"dataframe\">\n  <thead>\n    <tr style=\"text-align: right;\">\n      <th></th>\n      <th>location_id</th>\n      <th>latitude</th>\n      <th>longitude</th>\n      <th>baths</th>\n      <th>area</th>\n      <th>bedrooms</th>\n      <th>year</th>\n      <th>agency_0</th>\n      <th>agency_1</th>\n      <th>agency_2</th>\n      <th>...</th>\n      <th>city_Rawalpindi</th>\n      <th>province_name_Islamabad Capital</th>\n      <th>province_name_Punjab</th>\n      <th>province_name_Sindh</th>\n      <th>purpose_For Rent</th>\n      <th>purpose_For Sale</th>\n      <th>day_sin</th>\n      <th>day_cos</th>\n      <th>month_sin</th>\n      <th>month_cos</th>\n    </tr>\n  </thead>\n  <tbody>\n    <tr>\n      <th>0</th>\n      <td>0.106542</td>\n      <td>0.006129</td>\n      <td>0.029029</td>\n      <td>1.301264</td>\n      <td>0.095935</td>\n      <td>1.409967</td>\n      <td>0.0</td>\n      <td>-0.130954</td>\n      <td>-0.006154</td>\n      <td>-0.004205</td>\n      <td>...</td>\n      <td>0.0</td>\n      <td>0.0</td>\n      <td>0.0</td>\n      <td>1.0</td>\n      <td>0.0</td>\n      <td>1.0</td>\n      <td>0.937752</td>\n      <td>0.937752</td>\n      <td>5.000000e-01</td>\n      <td>5.000000e-01</td>\n    </tr>\n    <tr>\n      <th>1</th>\n      <td>0.106470</td>\n      <td>0.006704</td>\n      <td>0.026317</td>\n      <td>0.863127</td>\n      <td>0.187207</td>\n      <td>0.892437</td>\n      <td>0.0</td>\n      <td>-0.130954</td>\n      <td>-0.006154</td>\n      <td>-0.004205</td>\n      <td>...</td>\n      <td>0.0</td>\n      <td>0.0</td>\n      <td>0.0</td>\n      <td>1.0</td>\n      <td>0.0</td>\n      <td>1.0</td>\n      <td>0.937752</td>\n      <td>0.937752</td>\n      <td>5.000000e-01</td>\n      <td>5.000000e-01</td>\n    </tr>\n    <tr>\n      <th>2</th>\n      <td>0.106470</td>\n      <td>0.006704</td>\n      <td>0.026317</td>\n      <td>-0.013149</td>\n      <td>0.187207</td>\n      <td>-0.142625</td>\n      <td>0.0</td>\n      <td>-0.130954</td>\n      <td>-0.006154</td>\n      <td>-0.004205</td>\n      <td>...</td>\n      <td>0.0</td>\n      <td>0.0</td>\n      <td>0.0</td>\n      <td>1.0</td>\n      <td>0.0</td>\n      <td>1.0</td>\n      <td>0.937752</td>\n      <td>0.937752</td>\n      <td>5.000000e-01</td>\n      <td>5.000000e-01</td>\n    </tr>\n    <tr>\n      <th>3</th>\n      <td>0.106470</td>\n      <td>0.006704</td>\n      <td>0.026317</td>\n      <td>1.301264</td>\n      <td>0.187207</td>\n      <td>1.409967</td>\n      <td>0.0</td>\n      <td>-0.130954</td>\n      <td>-0.006154</td>\n      <td>-0.004205</td>\n      <td>...</td>\n      <td>0.0</td>\n      <td>0.0</td>\n      <td>0.0</td>\n      <td>1.0</td>\n      <td>0.0</td>\n      <td>1.0</td>\n      <td>0.937752</td>\n      <td>0.937752</td>\n      <td>5.000000e-01</td>\n      <td>5.000000e-01</td>\n    </tr>\n    <tr>\n      <th>4</th>\n      <td>0.106470</td>\n      <td>0.006704</td>\n      <td>0.026317</td>\n      <td>0.863127</td>\n      <td>0.187207</td>\n      <td>0.892437</td>\n      <td>0.0</td>\n      <td>-0.130954</td>\n      <td>-0.006154</td>\n      <td>-0.004205</td>\n      <td>...</td>\n      <td>0.0</td>\n      <td>0.0</td>\n      <td>0.0</td>\n      <td>1.0</td>\n      <td>0.0</td>\n      <td>1.0</td>\n      <td>0.937752</td>\n      <td>0.937752</td>\n      <td>5.000000e-01</td>\n      <td>5.000000e-01</td>\n    </tr>\n    <tr>\n      <th>...</th>\n      <td>...</td>\n      <td>...</td>\n      <td>...</td>\n      <td>...</td>\n      <td>...</td>\n      <td>...</td>\n      <td>...</td>\n      <td>...</td>\n      <td>...</td>\n      <td>...</td>\n      <td>...</td>\n      <td>...</td>\n      <td>...</td>\n      <td>...</td>\n      <td>...</td>\n      <td>...</td>\n      <td>...</td>\n      <td>...</td>\n      <td>...</td>\n      <td>...</td>\n      <td>...</td>\n    </tr>\n    <tr>\n      <th>33683</th>\n      <td>0.277786</td>\n      <td>0.749886</td>\n      <td>0.971057</td>\n      <td>-1.327562</td>\n      <td>-0.155066</td>\n      <td>0.374906</td>\n      <td>0.0</td>\n      <td>-0.130238</td>\n      <td>-0.005494</td>\n      <td>-0.003664</td>\n      <td>...</td>\n      <td>0.0</td>\n      <td>0.0</td>\n      <td>1.0</td>\n      <td>0.0</td>\n      <td>0.0</td>\n      <td>1.0</td>\n      <td>-0.848644</td>\n      <td>-0.848644</td>\n      <td>1.224647e-16</td>\n      <td>1.224647e-16</td>\n    </tr>\n    <tr>\n      <th>33684</th>\n      <td>0.064127</td>\n      <td>0.749491</td>\n      <td>0.971903</td>\n      <td>-1.327562</td>\n      <td>-0.200702</td>\n      <td>-0.142625</td>\n      <td>0.0</td>\n      <td>-0.130238</td>\n      <td>-0.005494</td>\n      <td>-0.003664</td>\n      <td>...</td>\n      <td>0.0</td>\n      <td>0.0</td>\n      <td>1.0</td>\n      <td>0.0</td>\n      <td>0.0</td>\n      <td>1.0</td>\n      <td>-0.848644</td>\n      <td>-0.848644</td>\n      <td>1.224647e-16</td>\n      <td>1.224647e-16</td>\n    </tr>\n    <tr>\n      <th>33685</th>\n      <td>0.643350</td>\n      <td>0.747757</td>\n      <td>0.978871</td>\n      <td>-1.327562</td>\n      <td>0.643571</td>\n      <td>0.892437</td>\n      <td>0.0</td>\n      <td>-0.130442</td>\n      <td>-0.005667</td>\n      <td>-0.003803</td>\n      <td>...</td>\n      <td>0.0</td>\n      <td>0.0</td>\n      <td>1.0</td>\n      <td>0.0</td>\n      <td>0.0</td>\n      <td>1.0</td>\n      <td>-0.848644</td>\n      <td>-0.848644</td>\n      <td>1.224647e-16</td>\n      <td>1.224647e-16</td>\n    </tr>\n    <tr>\n      <th>33686</th>\n      <td>0.103882</td>\n      <td>0.740040</td>\n      <td>0.985126</td>\n      <td>1.301264</td>\n      <td>0.187207</td>\n      <td>0.892437</td>\n      <td>0.0</td>\n      <td>-0.132727</td>\n      <td>-0.008686</td>\n      <td>-0.006551</td>\n      <td>...</td>\n      <td>0.0</td>\n      <td>0.0</td>\n      <td>1.0</td>\n      <td>0.0</td>\n      <td>0.0</td>\n      <td>1.0</td>\n      <td>-0.848644</td>\n      <td>-0.848644</td>\n      <td>1.224647e-16</td>\n      <td>1.224647e-16</td>\n    </tr>\n    <tr>\n      <th>33687</th>\n      <td>0.054565</td>\n      <td>0.750184</td>\n      <td>0.987232</td>\n      <td>-0.451287</td>\n      <td>-0.223520</td>\n      <td>-0.660156</td>\n      <td>0.0</td>\n      <td>-0.130612</td>\n      <td>-0.005820</td>\n      <td>-0.003923</td>\n      <td>...</td>\n      <td>0.0</td>\n      <td>0.0</td>\n      <td>1.0</td>\n      <td>0.0</td>\n      <td>0.0</td>\n      <td>1.0</td>\n      <td>-0.848644</td>\n      <td>-0.848644</td>\n      <td>1.224647e-16</td>\n      <td>1.224647e-16</td>\n    </tr>\n  </tbody>\n</table>\n<p>33688 rows × 1528 columns</p>\n</div>"
     },
     "execution_count": 3,
     "metadata": {},
     "output_type": "execute_result"
    }
   ],
   "source": [
    "X, y = preprocess_data(data)\n",
    "X"
   ],
   "metadata": {
    "collapsed": false
   }
  },
  {
   "cell_type": "code",
   "execution_count": 4,
   "outputs": [
    {
     "data": {
      "text/plain": "0        1.200807\n1        1.323402\n2        1.323402\n3        1.262104\n4        1.445996\n           ...   \n33683   -0.172253\n33684   -0.356145\n33685    2.426754\n33686    0.587834\n33687   -0.417443\nName: price, Length: 33688, dtype: float64"
     },
     "execution_count": 4,
     "metadata": {},
     "output_type": "execute_result"
    }
   ],
   "source": [
    "y"
   ],
   "metadata": {
    "collapsed": false
   }
  },
  {
   "cell_type": "code",
   "execution_count": 5,
   "outputs": [
    {
     "data": {
      "text/plain": "       location_id  latitude  longitude     baths      area  bedrooms  year  \\\n0         0.106542  0.006129   0.029029  1.301264  0.095935  1.409967   0.0   \n1         0.106470  0.006704   0.026317  0.863127  0.187207  0.892437   0.0   \n2         0.106470  0.006704   0.026317 -0.013149  0.187207 -0.142625   0.0   \n3         0.106470  0.006704   0.026317  1.301264  0.187207  1.409967   0.0   \n4         0.106470  0.006704   0.026317  0.863127  0.187207  0.892437   0.0   \n...            ...       ...        ...       ...       ...       ...   ...   \n33683     0.277786  0.749886   0.971057 -1.327562 -0.155066  0.374906   0.0   \n33684     0.064127  0.749491   0.971903 -1.327562 -0.200702 -0.142625   0.0   \n33685     0.643350  0.747757   0.978871 -1.327562  0.643571  0.892437   0.0   \n33686     0.103882  0.740040   0.985126  1.301264  0.187207  0.892437   0.0   \n33687     0.054565  0.750184   0.987232 -0.451287 -0.223520 -0.660156   0.0   \n\n       agency_0  agency_1  agency_2  ...  province_name_Islamabad Capital  \\\n0     -0.130954 -0.006154 -0.004205  ...                              0.0   \n1     -0.130954 -0.006154 -0.004205  ...                              0.0   \n2     -0.130954 -0.006154 -0.004205  ...                              0.0   \n3     -0.130954 -0.006154 -0.004205  ...                              0.0   \n4     -0.130954 -0.006154 -0.004205  ...                              0.0   \n...         ...       ...       ...  ...                              ...   \n33683 -0.130238 -0.005494 -0.003664  ...                              0.0   \n33684 -0.130238 -0.005494 -0.003664  ...                              0.0   \n33685 -0.130442 -0.005667 -0.003803  ...                              0.0   \n33686 -0.132727 -0.008686 -0.006551  ...                              0.0   \n33687 -0.130612 -0.005820 -0.003923  ...                              0.0   \n\n       province_name_Punjab  province_name_Sindh  purpose_For Rent  \\\n0                       0.0                  1.0               0.0   \n1                       0.0                  1.0               0.0   \n2                       0.0                  1.0               0.0   \n3                       0.0                  1.0               0.0   \n4                       0.0                  1.0               0.0   \n...                     ...                  ...               ...   \n33683                   1.0                  0.0               0.0   \n33684                   1.0                  0.0               0.0   \n33685                   1.0                  0.0               0.0   \n33686                   1.0                  0.0               0.0   \n33687                   1.0                  0.0               0.0   \n\n       purpose_For Sale   day_sin   day_cos     month_sin     month_cos  \\\n0                   1.0  0.937752  0.937752  5.000000e-01  5.000000e-01   \n1                   1.0  0.937752  0.937752  5.000000e-01  5.000000e-01   \n2                   1.0  0.937752  0.937752  5.000000e-01  5.000000e-01   \n3                   1.0  0.937752  0.937752  5.000000e-01  5.000000e-01   \n4                   1.0  0.937752  0.937752  5.000000e-01  5.000000e-01   \n...                 ...       ...       ...           ...           ...   \n33683               1.0 -0.848644 -0.848644  1.224647e-16  1.224647e-16   \n33684               1.0 -0.848644 -0.848644  1.224647e-16  1.224647e-16   \n33685               1.0 -0.848644 -0.848644  1.224647e-16  1.224647e-16   \n33686               1.0 -0.848644 -0.848644  1.224647e-16  1.224647e-16   \n33687               1.0 -0.848644 -0.848644  1.224647e-16  1.224647e-16   \n\n          price  \n0      1.200807  \n1      1.323402  \n2      1.323402  \n3      1.262104  \n4      1.445996  \n...         ...  \n33683 -0.172253  \n33684 -0.356145  \n33685  2.426754  \n33686  0.587834  \n33687 -0.417443  \n\n[33688 rows x 1529 columns]",
      "text/html": "<div>\n<style scoped>\n    .dataframe tbody tr th:only-of-type {\n        vertical-align: middle;\n    }\n\n    .dataframe tbody tr th {\n        vertical-align: top;\n    }\n\n    .dataframe thead th {\n        text-align: right;\n    }\n</style>\n<table border=\"1\" class=\"dataframe\">\n  <thead>\n    <tr style=\"text-align: right;\">\n      <th></th>\n      <th>location_id</th>\n      <th>latitude</th>\n      <th>longitude</th>\n      <th>baths</th>\n      <th>area</th>\n      <th>bedrooms</th>\n      <th>year</th>\n      <th>agency_0</th>\n      <th>agency_1</th>\n      <th>agency_2</th>\n      <th>...</th>\n      <th>province_name_Islamabad Capital</th>\n      <th>province_name_Punjab</th>\n      <th>province_name_Sindh</th>\n      <th>purpose_For Rent</th>\n      <th>purpose_For Sale</th>\n      <th>day_sin</th>\n      <th>day_cos</th>\n      <th>month_sin</th>\n      <th>month_cos</th>\n      <th>price</th>\n    </tr>\n  </thead>\n  <tbody>\n    <tr>\n      <th>0</th>\n      <td>0.106542</td>\n      <td>0.006129</td>\n      <td>0.029029</td>\n      <td>1.301264</td>\n      <td>0.095935</td>\n      <td>1.409967</td>\n      <td>0.0</td>\n      <td>-0.130954</td>\n      <td>-0.006154</td>\n      <td>-0.004205</td>\n      <td>...</td>\n      <td>0.0</td>\n      <td>0.0</td>\n      <td>1.0</td>\n      <td>0.0</td>\n      <td>1.0</td>\n      <td>0.937752</td>\n      <td>0.937752</td>\n      <td>5.000000e-01</td>\n      <td>5.000000e-01</td>\n      <td>1.200807</td>\n    </tr>\n    <tr>\n      <th>1</th>\n      <td>0.106470</td>\n      <td>0.006704</td>\n      <td>0.026317</td>\n      <td>0.863127</td>\n      <td>0.187207</td>\n      <td>0.892437</td>\n      <td>0.0</td>\n      <td>-0.130954</td>\n      <td>-0.006154</td>\n      <td>-0.004205</td>\n      <td>...</td>\n      <td>0.0</td>\n      <td>0.0</td>\n      <td>1.0</td>\n      <td>0.0</td>\n      <td>1.0</td>\n      <td>0.937752</td>\n      <td>0.937752</td>\n      <td>5.000000e-01</td>\n      <td>5.000000e-01</td>\n      <td>1.323402</td>\n    </tr>\n    <tr>\n      <th>2</th>\n      <td>0.106470</td>\n      <td>0.006704</td>\n      <td>0.026317</td>\n      <td>-0.013149</td>\n      <td>0.187207</td>\n      <td>-0.142625</td>\n      <td>0.0</td>\n      <td>-0.130954</td>\n      <td>-0.006154</td>\n      <td>-0.004205</td>\n      <td>...</td>\n      <td>0.0</td>\n      <td>0.0</td>\n      <td>1.0</td>\n      <td>0.0</td>\n      <td>1.0</td>\n      <td>0.937752</td>\n      <td>0.937752</td>\n      <td>5.000000e-01</td>\n      <td>5.000000e-01</td>\n      <td>1.323402</td>\n    </tr>\n    <tr>\n      <th>3</th>\n      <td>0.106470</td>\n      <td>0.006704</td>\n      <td>0.026317</td>\n      <td>1.301264</td>\n      <td>0.187207</td>\n      <td>1.409967</td>\n      <td>0.0</td>\n      <td>-0.130954</td>\n      <td>-0.006154</td>\n      <td>-0.004205</td>\n      <td>...</td>\n      <td>0.0</td>\n      <td>0.0</td>\n      <td>1.0</td>\n      <td>0.0</td>\n      <td>1.0</td>\n      <td>0.937752</td>\n      <td>0.937752</td>\n      <td>5.000000e-01</td>\n      <td>5.000000e-01</td>\n      <td>1.262104</td>\n    </tr>\n    <tr>\n      <th>4</th>\n      <td>0.106470</td>\n      <td>0.006704</td>\n      <td>0.026317</td>\n      <td>0.863127</td>\n      <td>0.187207</td>\n      <td>0.892437</td>\n      <td>0.0</td>\n      <td>-0.130954</td>\n      <td>-0.006154</td>\n      <td>-0.004205</td>\n      <td>...</td>\n      <td>0.0</td>\n      <td>0.0</td>\n      <td>1.0</td>\n      <td>0.0</td>\n      <td>1.0</td>\n      <td>0.937752</td>\n      <td>0.937752</td>\n      <td>5.000000e-01</td>\n      <td>5.000000e-01</td>\n      <td>1.445996</td>\n    </tr>\n    <tr>\n      <th>...</th>\n      <td>...</td>\n      <td>...</td>\n      <td>...</td>\n      <td>...</td>\n      <td>...</td>\n      <td>...</td>\n      <td>...</td>\n      <td>...</td>\n      <td>...</td>\n      <td>...</td>\n      <td>...</td>\n      <td>...</td>\n      <td>...</td>\n      <td>...</td>\n      <td>...</td>\n      <td>...</td>\n      <td>...</td>\n      <td>...</td>\n      <td>...</td>\n      <td>...</td>\n      <td>...</td>\n    </tr>\n    <tr>\n      <th>33683</th>\n      <td>0.277786</td>\n      <td>0.749886</td>\n      <td>0.971057</td>\n      <td>-1.327562</td>\n      <td>-0.155066</td>\n      <td>0.374906</td>\n      <td>0.0</td>\n      <td>-0.130238</td>\n      <td>-0.005494</td>\n      <td>-0.003664</td>\n      <td>...</td>\n      <td>0.0</td>\n      <td>1.0</td>\n      <td>0.0</td>\n      <td>0.0</td>\n      <td>1.0</td>\n      <td>-0.848644</td>\n      <td>-0.848644</td>\n      <td>1.224647e-16</td>\n      <td>1.224647e-16</td>\n      <td>-0.172253</td>\n    </tr>\n    <tr>\n      <th>33684</th>\n      <td>0.064127</td>\n      <td>0.749491</td>\n      <td>0.971903</td>\n      <td>-1.327562</td>\n      <td>-0.200702</td>\n      <td>-0.142625</td>\n      <td>0.0</td>\n      <td>-0.130238</td>\n      <td>-0.005494</td>\n      <td>-0.003664</td>\n      <td>...</td>\n      <td>0.0</td>\n      <td>1.0</td>\n      <td>0.0</td>\n      <td>0.0</td>\n      <td>1.0</td>\n      <td>-0.848644</td>\n      <td>-0.848644</td>\n      <td>1.224647e-16</td>\n      <td>1.224647e-16</td>\n      <td>-0.356145</td>\n    </tr>\n    <tr>\n      <th>33685</th>\n      <td>0.643350</td>\n      <td>0.747757</td>\n      <td>0.978871</td>\n      <td>-1.327562</td>\n      <td>0.643571</td>\n      <td>0.892437</td>\n      <td>0.0</td>\n      <td>-0.130442</td>\n      <td>-0.005667</td>\n      <td>-0.003803</td>\n      <td>...</td>\n      <td>0.0</td>\n      <td>1.0</td>\n      <td>0.0</td>\n      <td>0.0</td>\n      <td>1.0</td>\n      <td>-0.848644</td>\n      <td>-0.848644</td>\n      <td>1.224647e-16</td>\n      <td>1.224647e-16</td>\n      <td>2.426754</td>\n    </tr>\n    <tr>\n      <th>33686</th>\n      <td>0.103882</td>\n      <td>0.740040</td>\n      <td>0.985126</td>\n      <td>1.301264</td>\n      <td>0.187207</td>\n      <td>0.892437</td>\n      <td>0.0</td>\n      <td>-0.132727</td>\n      <td>-0.008686</td>\n      <td>-0.006551</td>\n      <td>...</td>\n      <td>0.0</td>\n      <td>1.0</td>\n      <td>0.0</td>\n      <td>0.0</td>\n      <td>1.0</td>\n      <td>-0.848644</td>\n      <td>-0.848644</td>\n      <td>1.224647e-16</td>\n      <td>1.224647e-16</td>\n      <td>0.587834</td>\n    </tr>\n    <tr>\n      <th>33687</th>\n      <td>0.054565</td>\n      <td>0.750184</td>\n      <td>0.987232</td>\n      <td>-0.451287</td>\n      <td>-0.223520</td>\n      <td>-0.660156</td>\n      <td>0.0</td>\n      <td>-0.130612</td>\n      <td>-0.005820</td>\n      <td>-0.003923</td>\n      <td>...</td>\n      <td>0.0</td>\n      <td>1.0</td>\n      <td>0.0</td>\n      <td>0.0</td>\n      <td>1.0</td>\n      <td>-0.848644</td>\n      <td>-0.848644</td>\n      <td>1.224647e-16</td>\n      <td>1.224647e-16</td>\n      <td>-0.417443</td>\n    </tr>\n  </tbody>\n</table>\n<p>33688 rows × 1529 columns</p>\n</div>"
     },
     "execution_count": 5,
     "metadata": {},
     "output_type": "execute_result"
    }
   ],
   "source": [
    "df = pd.concat([X, y], axis=1)\n",
    "df"
   ],
   "metadata": {
    "collapsed": false
   }
  },
  {
   "cell_type": "code",
   "execution_count": 6,
   "outputs": [
    {
     "data": {
      "text/plain": "{\n  \"anonymous_usage_statistics\": {\n    \"enabled\": true,\n    \"explicit_url\": false,\n    \"usage_statistics_url\": \"https://stats.greatexpectations.io/great_expectations/v1/usage_statistics\",\n    \"explicit_id\": true,\n    \"data_context_id\": \"fda37b1f-28d8-4588-aeaf-330261aafd30\"\n  },\n  \"checkpoint_store_name\": \"checkpoint_store\",\n  \"config_variables_file_path\": \"uncommitted/config_variables.yml\",\n  \"config_version\": 3.0,\n  \"data_docs_sites\": {\n    \"local_site\": {\n      \"class_name\": \"SiteBuilder\",\n      \"show_how_to_buttons\": true,\n      \"store_backend\": {\n        \"class_name\": \"TupleFilesystemStoreBackend\",\n        \"base_directory\": \"uncommitted/data_docs/local_site/\"\n      },\n      \"site_index_builder\": {\n        \"class_name\": \"DefaultSiteIndexBuilder\"\n      }\n    }\n  },\n  \"datasources\": {},\n  \"evaluation_parameter_store_name\": \"evaluation_parameter_store\",\n  \"expectations_store_name\": \"expectations_store\",\n  \"fluent_datasources\": {\n    \"first_ds\": {\n      \"type\": \"pandas\",\n      \"assets\": {\n        \"asset01\": {\n          \"type\": \"csv\",\n          \"filepath_or_buffer\": \"data\\\\samples\\\\sample.csv\"\n        }\n      }\n    },\n    \"data\": {\n      \"type\": \"pandas\"\n    },\n    \"my_pandas_ds\": {\n      \"type\": \"pandas\",\n      \"assets\": {\n        \"my_pandas_df\": {\n          \"type\": \"dataframe\",\n          \"batch_metadata\": {}\n        }\n      }\n    }\n  },\n  \"include_rendered_content\": {\n    \"expectation_validation_result\": false,\n    \"globally\": false,\n    \"expectation_suite\": false\n  },\n  \"plugins_directory\": \"plugins/\",\n  \"stores\": {\n    \"expectations_store\": {\n      \"class_name\": \"ExpectationsStore\",\n      \"store_backend\": {\n        \"class_name\": \"TupleFilesystemStoreBackend\",\n        \"base_directory\": \"expectations/\"\n      }\n    },\n    \"validations_store\": {\n      \"class_name\": \"ValidationsStore\",\n      \"store_backend\": {\n        \"class_name\": \"TupleFilesystemStoreBackend\",\n        \"base_directory\": \"uncommitted/validations/\"\n      }\n    },\n    \"evaluation_parameter_store\": {\n      \"class_name\": \"EvaluationParameterStore\"\n    },\n    \"checkpoint_store\": {\n      \"class_name\": \"CheckpointStore\",\n      \"store_backend\": {\n        \"class_name\": \"TupleFilesystemStoreBackend\",\n        \"suppress_store_backend_id\": true,\n        \"base_directory\": \"checkpoints/\"\n      }\n    },\n    \"profiler_store\": {\n      \"class_name\": \"ProfilerStore\",\n      \"store_backend\": {\n        \"class_name\": \"TupleFilesystemStoreBackend\",\n        \"suppress_store_backend_id\": true,\n        \"base_directory\": \"profilers/\"\n      }\n    }\n  },\n  \"validations_store_name\": \"validations_store\"\n}"
     },
     "execution_count": 6,
     "metadata": {},
     "output_type": "execute_result"
    }
   ],
   "source": [
    "context = FileDataContext(context_root_dir=\"services/gx\")\n",
    "context"
   ],
   "metadata": {
    "collapsed": false
   }
  },
  {
   "cell_type": "code",
   "execution_count": 7,
   "outputs": [],
   "source": [
    "suite = context.add_or_update_expectation_suite(\"features_expectations_suite\")"
   ],
   "metadata": {
    "collapsed": false
   }
  },
  {
   "cell_type": "code",
   "execution_count": 8,
   "outputs": [
    {
     "data": {
      "text/plain": "['features_expectations_suite',\n 'first_expectation_suite',\n 'first_phase_expectation_suite']"
     },
     "execution_count": 8,
     "metadata": {},
     "output_type": "execute_result"
    }
   ],
   "source": [
    "context.list_expectation_suite_names()"
   ],
   "metadata": {
    "collapsed": false
   }
  },
  {
   "cell_type": "code",
   "execution_count": 9,
   "outputs": [],
   "source": [
    "import great_expectations as gx\n",
    "from great_expectations.core.batch import BatchRequest\n",
    "# ExpectationConfiguration is a class that allows you to define expectations in a more programmatic way\n",
    "from great_expectations.core import ExpectationConfiguration"
   ],
   "metadata": {
    "collapsed": false
   }
  },
  {
   "cell_type": "code",
   "execution_count": 10,
   "outputs": [],
   "source": [
    "# not null for all columns\n",
    "expectations = [\n",
    "    ExpectationConfiguration(\n",
    "        expectation_type=\"expect_column_values_to_not_be_null\",\n",
    "        kwargs={\n",
    "            \"column\": col\n",
    "        }\n",
    "    ) for col in df.columns\n",
    "]\n",
    "\n",
    "for expectation in expectations:\n",
    "    suite.add_expectation(expectation)"
   ],
   "metadata": {
    "collapsed": false
   }
  },
  {
   "cell_type": "code",
   "execution_count": 11,
   "outputs": [],
   "source": [
    "assert len(expectations) == len(df.columns)"
   ],
   "metadata": {
    "collapsed": false
   }
  },
  {
   "cell_type": "code",
   "execution_count": 12,
   "outputs": [],
   "source": [
    "ds = context.sources.add_or_update_pandas(name=\"my_pandas_ds\")"
   ],
   "metadata": {
    "collapsed": false
   }
  },
  {
   "cell_type": "code",
   "execution_count": 13,
   "outputs": [],
   "source": [
    "da = ds.add_dataframe_asset(\n",
    "    name=\"my_pandas_df\",\n",
    "    dataframe=df\n",
    ")"
   ],
   "metadata": {
    "collapsed": false
   }
  },
  {
   "cell_type": "code",
   "execution_count": 14,
   "outputs": [],
   "source": [
    "batch_request = da.build_batch_request()"
   ],
   "metadata": {
    "collapsed": false
   }
  },
  {
   "cell_type": "code",
   "execution_count": 15,
   "outputs": [],
   "source": [
    "# month_sin, month_cos, day_sin, day_cos: -1 <= x <= 1\n",
    "expectations = [\n",
    "    ExpectationConfiguration(\n",
    "        expectation_type=\"expect_column_values_to_be_between\",\n",
    "        kwargs={\n",
    "            \"column\": col,\n",
    "            \"min_value\": -1,\n",
    "            \"max_value\": 1\n",
    "        }\n",
    "    ) for col in [\"month_sin\", \"month_cos\", \"day_sin\", \"day_cos\"]\n",
    "]\n",
    "\n",
    "for expectation in expectations:\n",
    "    suite.add_expectation(expectation)"
   ],
   "metadata": {
    "collapsed": false
   }
  },
  {
   "cell_type": "code",
   "execution_count": 16,
   "outputs": [],
   "source": [
    "assert len(expectations) == 4"
   ],
   "metadata": {
    "collapsed": false
   }
  },
  {
   "cell_type": "code",
   "execution_count": 17,
   "outputs": [],
   "source": [
    "validator = context.get_validator(\n",
    "    batch_request=batch_request,\n",
    "    expectation_suite=suite\n",
    ")"
   ],
   "metadata": {
    "collapsed": false
   }
  },
  {
   "cell_type": "code",
   "execution_count": 18,
   "outputs": [
    {
     "data": {
      "text/plain": "Calculating Metrics:   0%|          | 0/4602 [00:00<?, ?it/s]",
      "application/vnd.jupyter.widget-view+json": {
       "version_major": 2,
       "version_minor": 0,
       "model_id": "a411045ab86e4260adfbb0a8a43b6c75"
      }
     },
     "metadata": {},
     "output_type": "display_data"
    }
   ],
   "source": [
    "results = validator.validate()"
   ],
   "metadata": {
    "collapsed": false
   }
  },
  {
   "cell_type": "code",
   "execution_count": 20,
   "outputs": [],
   "source": [
    "assert results[\"success\"] == True"
   ],
   "metadata": {
    "collapsed": false
   }
  },
  {
   "cell_type": "code",
   "execution_count": 21,
   "outputs": [],
   "source": [
    "validator.save_expectation_suite(discard_failed_expectations=False)"
   ],
   "metadata": {
    "collapsed": false
   }
  },
  {
   "cell_type": "code",
   "execution_count": 23,
   "outputs": [],
   "source": [
    "checkpoint = context.add_checkpoint(\n",
    "    name=\"first_phase_features_checkpoint\",\n",
    "    validations=[{\n",
    "        \"batch_request\": batch_request,\n",
    "        \"expectation_suite_name\": \"features_expectations_suite\"\n",
    "    }]\n",
    ")"
   ],
   "metadata": {
    "collapsed": false
   }
  },
  {
   "cell_type": "code",
   "execution_count": 24,
   "outputs": [
    {
     "data": {
      "text/plain": "Calculating Metrics:   0%|          | 0/7668 [00:00<?, ?it/s]",
      "application/vnd.jupyter.widget-view+json": {
       "version_major": 2,
       "version_minor": 0,
       "model_id": "19ec4c12dd564a85a228031d49b1b458"
      }
     },
     "metadata": {},
     "output_type": "display_data"
    }
   ],
   "source": [
    "results = checkpoint.run()"
   ],
   "metadata": {
    "collapsed": false
   }
  },
  {
   "cell_type": "code",
   "execution_count": 25,
   "outputs": [],
   "source": [
    "assert results[\"success\"] == True"
   ],
   "metadata": {
    "collapsed": false
   }
  }
 ],
 "metadata": {
  "kernelspec": {
   "display_name": "Python 3",
   "language": "python",
   "name": "python3"
  },
  "language_info": {
   "codemirror_mode": {
    "name": "ipython",
    "version": 2
   },
   "file_extension": ".py",
   "mimetype": "text/x-python",
   "name": "python",
   "nbconvert_exporter": "python",
   "pygments_lexer": "ipython2",
   "version": "2.7.6"
  }
 },
 "nbformat": 4,
 "nbformat_minor": 0
}
